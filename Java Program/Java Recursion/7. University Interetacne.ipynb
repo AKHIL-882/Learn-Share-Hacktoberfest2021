{
  "nbformat": 4,
  "nbformat_minor": 0,
  "metadata": {
    "colab": {
      "name": "Untitled68.ipynb",
      "provenance": [],
      "collapsed_sections": []
    },
    "kernelspec": {
      "display_name": "Python 3",
      "name": "python3"
    },
    "language_info": {
      "name": "python"
    }
  },
  "cells": [
    {
      "cell_type": "code",
      "metadata": {
        "id": "w-Vi8TvF187O"
      },
      "source": [
        "public class UEmployee {\n",
        "   private String name;\n",
        "   private double salary;\n",
        "   public UEmployee(String name, double salary) {\n",
        "       this.name = name;\n",
        "       this.salary = salary;\n",
        "   }\n",
        "   public String getName() {\n",
        "       return name;\n",
        "   }\n",
        "   public void setName(String name) {\n",
        "       this.name = name;\n",
        "   }\n",
        "   public double getSalary() {\n",
        "       return salary;\n",
        "   }\n",
        "   public void setSalary(double salary) {\n",
        "       this.salary = salary;\n",
        "   }\n",
        "   @Override\n",
        "   public String toString() {\n",
        "       return \"Name = \" + name + \"\\nSalary = \" + salary;\n",
        "   }\n",
        "\n",
        "}"
      ],
      "execution_count": null,
      "outputs": []
    },
    {
      "cell_type": "code",
      "metadata": {
        "id": "SsJqRsW-18mQ"
      },
      "source": [
        "public class Staff extends UEmployee {\n",
        "   private String jobTitle;\n",
        "   public Staff(String name, double salary, String jobTitle) {\n",
        "       super(name, salary);\n",
        "       this.jobTitle = jobTitle;\n",
        "   }\n",
        "   public String getJobTitle() {\n",
        "       return jobTitle;\n",
        "   }\n",
        "   public void setJobTitle(String jobTitle) {\n",
        "       this.jobTitle = jobTitle;\n",
        "   }\n",
        "   @Override\n",
        "   public String toString() {\n",
        "       return super.toString() + \"\\nJob Title = \" + jobTitle;\n",
        "   }\n",
        "\n",
        "}"
      ],
      "execution_count": null,
      "outputs": []
    },
    {
      "cell_type": "code",
      "metadata": {
        "id": "2qNtAc1O18Tk"
      },
      "source": [
        "public class Faculty extends UEmployee {\n",
        "   private String deptName;\n",
        "   public Faculty(String name, double salary, String deptName) {\n",
        "       super(name, salary);\n",
        "       this.deptName = deptName;\n",
        "   }\n",
        "   public String getDeptName() {\n",
        "       return deptName;\n",
        "   }\n",
        "   public void setDeptName(String deptName) {\n",
        "       this.deptName = deptName;\n",
        "   }\n",
        "   @Override\n",
        "   public String toString() {\n",
        "       return super.toString() + \"\\nDeptName = \" + deptName;\n",
        "   }\n",
        "\n",
        "}"
      ],
      "execution_count": null,
      "outputs": []
    },
    {
      "cell_type": "code",
      "metadata": {
        "id": "WtiNB1ZQ17sm"
      },
      "source": [
        "public class Faculty extends UEmployee {\n",
        "   private String deptName;\n",
        "   public Faculty(String name, double salary, String deptName) {\n",
        "       super(name, salary);\n",
        "       this.deptName = deptName;\n",
        "   }\n",
        "   public String getDeptName() {\n",
        "       return deptName;\n",
        "   }\n",
        "   public void setDeptName(String deptName) {\n",
        "       this.deptName = deptName;\n",
        "   }\n",
        "   @Override\n",
        "   public String toString() {\n",
        "       return super.toString() + \"\\nDeptName = \" + deptName;\n",
        "   }\n",
        "\n",
        "}"
      ],
      "execution_count": null,
      "outputs": []
    }
  ]
}