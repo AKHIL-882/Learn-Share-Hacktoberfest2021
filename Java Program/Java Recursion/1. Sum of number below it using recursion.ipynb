{
  "nbformat": 4,
  "nbformat_minor": 0,
  "metadata": {
    "colab": {
      "name": "Untitled52.ipynb",
      "provenance": [],
      "collapsed_sections": []
    },
    "kernelspec": {
      "name": "python3",
      "display_name": "Python 3"
    },
    "language_info": {
      "name": "python"
    }
  },
  "cells": [
    {
      "cell_type": "markdown",
      "metadata": {
        "id": "TyQY9wy3ndQa"
      },
      "source": [
        "#JAVA #Recusion loop #not for/while/do loop\n",
        "Implement a recursive solution that calculates the sum of positive even numbers.\n",
        "\n",
        "int sumPositiveEvenNumbers( int num ) {\n",
        "\n",
        "  ……\n",
        "\n",
        "}\n",
        "\n",
        "Examples:\n",
        "\n",
        "if num = 8, the sum = 8 + 6 + 4 + 2 = 20\n",
        "if num = 7, the sum = 6 + 4 + 2 = 12\n",
        "\n",
        "if num = 1, the sum = 0\n",
        "**bold text**"
      ]
    },
    {
      "cell_type": "code",
      "metadata": {
        "id": "qlkDi-Exm05N"
      },
      "source": [
        "package sumPositiveEvenNumbers;\n",
        "\n",
        "import java.util.Scanner;\n",
        "\n",
        "public class sumPositiveEvenNumbers {\n",
        "    \n",
        "    static int sum=0;\n",
        "    static String res=\"\";\n",
        "    public static void main(String[] args) {\n",
        "        Scanner inp = new Scanner(System.in);\n",
        "        System.out.print(\"Enter any number : \");\n",
        "        int num = inp.nextInt();\n",
        "        int result = sumPositiveEvenNumbers(num);\n",
        "        //System.out.println(\"Result : \"+result);\n",
        "        if(sum==0){\n",
        "            System.out.println(\"if num = \" + num + \" ,the sum = \"+sum);\n",
        "        }\n",
        "        else{\n",
        "            System.out.println(\"if num = \"+ num +\",the sum = \" + res + \" = \"+sum);\n",
        "        }\n",
        "        \n",
        "    }\n",
        "    \n",
        "    public static int sumPositiveEvenNumbers(int num){\n",
        "        if(num==0){\n",
        "            sum = sum+0;\n",
        "        }\n",
        "        else if (num%2==0){\n",
        "            sum = sum+num;\n",
        "            if(res==\"\"){\n",
        "                res =res+num;\n",
        "            }\n",
        "            else{\n",
        "                res=res+\"+\"+num;\n",
        "            }\n",
        "            sumPositiveEvenNumbers(num-2);\n",
        "        }\n",
        "        else{\n",
        "            sumPositiveEvenNumbers(num-1);\n",
        "        }\n",
        "        return sum;\n",
        "    }\n",
        "    \n",
        "    \n",
        "\n",
        "}\n",
        " "
      ],
      "execution_count": null,
      "outputs": []
    },
    {
      "cell_type": "markdown",
      "metadata": {
        "id": "RnvNlEXCnjVX"
      },
      "source": [
        "![24.PNG](data:image/png;base64,iVBORw0KGgoAAAANSUhEUgAAAPoAAAA0CAYAAACjDiX5AAAAAXNSR0IArs4c6QAAAARnQU1BAACxjwv8YQUAAAAJcEhZcwAAEnQAABJ0Ad5mH3gAAAVJSURBVHhe7ZxBspwgEIbnXB5obpE7uMhZZp/dW6fqrWabVQ6QLQFstGkQURkV+b8qUvMcpJvu/gVnnDwUAOD2QOgANACEDkADQOgANACEDkADQOi34q367qEezxf9DcDAQ2P+8VvX65JZybtXnT4XNXYm9xf6+89P9fj6oR7vbzoCctC6fqoiZQGhX4AbC/3fL9VpgXd/vlX/G0JfC4R+K+4q9G/1/Pqp+n/m9V8IfQMLQh8Kp+vfWsdddGvvHQ+aGPv19N+XBWnet2O/1JP121K3gV/eILnz6pTu4rP6grZsy/WR8Xg92TEXGxdD85p8meI8jTNvizgwFwbnj4nDPiD0LejYLwvdL4Qh8UHClgRgC4vbogLiJ7Dic4eHAkn5GEGP4/snfc6ZV3yeVnwx4cySYytT6GaMUeCd6jodFy/uzNbo41ycD8oFAaGfi449FQZvY8KpcERhewXoSAp9GEcmOSgcKi5vDCrqvfXh+5w3r1DUgyDic5wjxxb1EQN7fXhsKNZDPLlPcVt+nM/PxT4g9C3oXKau0BkF6EgKnVaMaJPFlfInH+ujtDU6lzkvOadN/uXYyuhjbZPIPL8iQhfjeOeekIuyQOhb0PlNJbOs0OPvMQoV1yByf5zVwrL4/cz767eeObYy+uwWuovHsbkoD4S+hYOEPlOAkiLFRStW0ucV8xp9MuNu8S3HVqyPOLZD6HZbPm7n430CIPRbUU7oVHBzBeQ+jEnWV5HiIp/Zfar11/Ntw7wSc0uTZyt2H+3Z3Cr0yAX4uFxMOJv4MO4cdOypoHhbuPrHBaGhoprG8gvFJdtrfJxSxSX8MMVlbY+21s1r8Nvd464l1xYTd8znLKE7X6dxTBOmLYflgnD2tgr99dbiNk/EBc19vw5S4Fn3DGyRik+yAagJCH0JvpICUCkQ+gx2a223tBA5qB8IHYAGgNABaAAIHYAGgNABaAAIHYAGsEIfH56IPVnBkA9ZLHQHhxN/OAcAT+jJp5bwfXKS3IvlbiKPtE5A6MWw9T4tavsf3T2X7K27/V4ZT4eFkPC6/nWMyCD0z0MiH8M45rje6l8ndBSQwDxn7nY5B4kMQv8w8RjWvtDpC5eegGuJAtkn9CF44w81nD0vcIkAu2PmSmvOcdsq85oKv+QPMLbxWZHJz0f85uY++TAfZ0JsTTf7Lcfx8lBhTqMXUvcLxnpvXWlFnynSIImsxYpnFhrfnDfaGII3bYcyi8LZtgmJ/b9pZzETw9Ik58riPOZHxllj48hFRIW81vfFuFeYU+sPE7Tzoz/Jn0Kkhc4osaLLi4M/Zn5R2D8pAUMBD4Wa7x4TRKTlj8NZjmERkgLIj7O83xx2ACtXUCmKgApzyudk/eGvt9bG+RwrdHH+NqHHAr+2KD7BcgyLkCN08aYfZ1q9o23tVpns2XNjgq8wp86fnvllgNBzyCnACovCYzmGRSgk9LJukl09ri/4CnNKPgQXPe5nhVxc6OJYsaKgcW1Cw5Y/Dmc5hkXYLfRP+inHjtkSxy6X03h87K2NuCWqiQsJnYI5XklZ4lyfBlZ0GxM9F3kPPTHMNW5nTZw/Ea/BN+57lTm1PjHbyYtrHej5UOC9Fm5RjhC6Vwi6mYKxheL6XLAonDDDFsYwByfC5P0yzX2yJYS0GGduh7WVAYyNEV6g6suphcTu2ml+FIJWdHAdaMWueJsIrgeEfjHcKln7CgKuBYR+Fcbt+LYtPwApIHQAGgBCB6ABIHQAGgBCB6ABIHQAGgBCB6ABIHQAGgBCB6ABIHQAGgBCB6ABIHQAGgBCB+D2KPUfBh9oUWPnv1UAAAAASUVORK5CYII=)![23.PNG](data:image/png;base64,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)![22.PNG](data:image/png;base64,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)"
      ]
    },
    {
      "cell_type": "code",
      "metadata": {
        "id": "lJfs34xknovK"
      },
      "source": [
        ""
      ],
      "execution_count": null,
      "outputs": []
    }
  ]
}