{
  "nbformat": 4,
  "nbformat_minor": 0,
  "metadata": {
    "colab": {
      "name": "JIggi Task.ipynb",
      "provenance": [],
      "collapsed_sections": []
    },
    "kernelspec": {
      "name": "python3",
      "display_name": "Python 3"
    },
    "language_info": {
      "name": "python"
    },
    "accelerator": "GPU"
  },
  "cells": [
    {
      "cell_type": "markdown",
      "metadata": {
        "id": "LjgWDSv3h-IM"
      },
      "source": [
        "# **Java Program to print next successive character**"
      ]
    },
    {
      "cell_type": "code",
      "metadata": {
        "id": "8Ku9rOw9h-7I"
      },
      "source": [
        "import java.util.*;\n",
        "public class Main\n",
        "{\n",
        "\tpublic static void main(String[] args) {\n",
        "\n",
        "\t\t  Scanner sc1=new Scanner(System.in);\n",
        "          System.out.println(\"Enter the String\");\n",
        "          String s=sc1.nextLine();\n",
        "          char[] ch=s.toCharArray();\n",
        "          int val=0;\n",
        "          String s1=\"\";\n",
        "          for(int i=0;i<ch.length;i++)\n",
        "          {\n",
        "              val=ch[i]+1;\n",
        "              char c=(char)val;\n",
        "              s1=s1+c;\n",
        "          }\n",
        "          System.out.println(s1);\n",
        "\t}\n",
        "}"
      ],
      "execution_count": null,
      "outputs": []
    }
  ]
}