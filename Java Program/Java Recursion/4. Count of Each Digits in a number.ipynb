{
  "nbformat": 4,
  "nbformat_minor": 0,
  "metadata": {
    "colab": {
      "name": "Untitled68.ipynb",
      "provenance": [],
      "collapsed_sections": []
    },
    "kernelspec": {
      "name": "python3",
      "display_name": "Python 3"
    },
    "language_info": {
      "name": "python"
    }
  },
  "cells": [
    {
      "cell_type": "markdown",
      "metadata": {
        "id": "o-yntNf0ldQA"
      },
      "source": [
        "# **Number of Digits in a given number**"
      ]
    },
    {
      "cell_type": "code",
      "metadata": {
        "id": "gzFUbKeElUXW"
      },
      "source": [
        "// importing the libraries\n",
        "import java.util.Scanner;\n",
        "// initializing the main class\n",
        "public class Main{\n",
        "        // initializing the main method\n",
        "        public static void main (String[] args){\n",
        "                // variable to store user Input number\n",
        "                int n;\n",
        "                // defining the scanner class\n",
        "                Scanner sc = new Scanner(System.in);\n",
        "                System.out.print(\"Please Enter the number: \");\n",
        "                // getting the value from the user\n",
        "                n = sc.nextInt();  \n",
        "                // calling the method countDigits\n",
        "                int digit = countDigits(n);\n",
        "                // displaing the result to the user \n",
        "                System.out.println(\"\\nNumber of digits in given \"+ n + \" is: \" + digit);\n",
        "        }\n",
        "        // defining the function countDigits\n",
        "        static public int countDigits(int n){\n",
        "            // variable to store count of numbers\n",
        "            int countForNumber = 0; \n",
        "            // looping the condition\n",
        "            while(n>0){\n",
        "                // diving the number and getting the last digit\n",
        "                n = n/10;\n",
        "                // for each division incrementing the count\n",
        "                countForNumber++;\n",
        "            }\n",
        "            // returing the total count\n",
        "            return countForNumber;\n",
        "        }\n",
        "}"
      ],
      "execution_count": null,
      "outputs": []
    }
  ]
}