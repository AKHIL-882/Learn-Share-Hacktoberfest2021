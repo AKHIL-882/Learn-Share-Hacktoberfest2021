{
  "nbformat": 4,
  "nbformat_minor": 0,
  "metadata": {
    "colab": {
      "name": "Untitled68.ipynb",
      "provenance": [],
      "collapsed_sections": []
    },
    "kernelspec": {
      "display_name": "Python 3",
      "name": "python3"
    },
    "language_info": {
      "name": "python"
    }
  },
  "cells": [
    {
      "cell_type": "markdown",
      "metadata": {
        "id": "WSPtJl1LnkCi"
      },
      "source": [
        "# **Program to check the coordinates lies in which quadrant**"
      ]
    },
    {
      "cell_type": "code",
      "metadata": {
        "id": "2IwJq78Enisv"
      },
      "source": [
        "// importing the libraries\n",
        "#include<stdio.h>\n",
        "// initializing the main function\n",
        "int main(){\n",
        "    // defining the variables\n",
        "    float xCordinate,yCordinate; \n",
        "    // displaing the information\n",
        "    printf(\"Enter coordinates:\\n\");\n",
        "    // getting inputs from the user.\n",
        "    scanf(\"%f %f\",&xCordinate,&yCordinate);\n",
        "    // checking if the values lie at center\n",
        "    if (xCordinate==0.f && yCordinate==0.f)\n",
        "        printf(\"(%.1f,%.1f) is on center\",xCordinate,yCordinate);\n",
        "     // checking if the values lie at y-axis\n",
        "    else if(xCordinate==0.f)\n",
        "        printf(\"(%.1f,%.1f) is on y-axis\",xCordinate,yCordinate);\n",
        "    // checking if the values lie at x-axis   \n",
        "    else if(yCordinate==0.f)\n",
        "        printf(\"(%.1f,%.1f) is on x-axis\",xCordinate,yCordinate);\n",
        "    // checking if the values lie at quardant A\n",
        "    else if(xCordinate>0 && yCordinate>0)\n",
        "        printf(\"(%.1f,%.1f) is in quardant A\",xCordinate,yCordinate);\n",
        "    // checking if the values lie at quardant B\n",
        "    else if(xCordinate<0 && yCordinate>0)\n",
        "        printf(\"(%.1f,%.1f) is in quardant B\",xCordinate,yCordinate);\n",
        "    // checking if the values lie at quardant C\n",
        "    else if(xCordinate<0 && yCordinate<0)\n",
        "        printf(\"(%.1f,%.1f) is in quardant C\",xCordinate,yCordinate);\n",
        "    // checking if the values lie at quardant D\n",
        "    else if(xCordinate>0 && yCordinate<0)\n",
        "        printf(\"(%.1f,%.1f) is in quardant D\",xCordinate,yCordinate);\n",
        "    return 0;\n",
        "}\n"
      ],
      "execution_count": null,
      "outputs": []
    }
  ]
}