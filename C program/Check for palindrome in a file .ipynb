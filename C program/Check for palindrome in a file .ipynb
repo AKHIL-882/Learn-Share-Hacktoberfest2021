{
  "nbformat": 4,
  "nbformat_minor": 0,
  "metadata": {
    "colab": {
      "name": "Untitled68.ipynb",
      "provenance": [],
      "collapsed_sections": []
    },
    "kernelspec": {
      "display_name": "Python 3",
      "name": "python3"
    },
    "language_info": {
      "name": "python"
    }
  },
  "cells": [
    {
      "cell_type": "markdown",
      "metadata": {
        "id": "c6PTzfiUwOG4"
      },
      "source": [
        "# **Ckeck for palindrome in a file**"
      ]
    },
    {
      "cell_type": "code",
      "metadata": {
        "id": "c7C0sT5D9IwZ"
      },
      "source": [
        "// importing the libraries\n",
        "#include <stdio.h>\n",
        "#include <stdlib.h>\n",
        "#include <string.h>\n",
        "// defining the global variables\n",
        "#define leftSize 148 \n",
        "#define rightSize 100 \n",
        "// initializing the function\n",
        "int checkPalindromeInFile(char str[]){\n",
        "    // defining the starting and ending of the file\n",
        "    int firstIndex = 0; \n",
        "    int lastIndex = strlen(str) - 1; \n",
        "  \n",
        "    // loop to check for the common characters\n",
        "    while (lastIndex > firstIndex){\n",
        "        // comparing the first and last indexed characters\n",
        "        if (str[firstIndex++] != str[lastIndex--]){\n",
        "            // returing 0 if there are not equal\n",
        "            return 0; \n",
        "        } \n",
        "    } // else return 1\n",
        "    return 1; \n",
        "} \n",
        "\n",
        "// initializing the main functions\n",
        "int main(){\n",
        "    // defing the array to store the words\n",
        "    char fileWords[rightSize][leftSize];\n",
        "    // defining the pointer for the opbject\n",
        "    FILE *fptr = NULL;\n",
        "    // reading the file\n",
        "    fptr = fopen(\"test.txt\", \"r\");\n",
        "    // declaring the local variables\n",
        "    int i = 0,j;\n",
        "    int valueOfTotal = 0;\n",
        "    // getting all the words in the file\n",
        "    while(fgets(fileWords[i], leftSize, fptr)) {\n",
        "        // storing the data in the array\n",
        "        fileWords[i][strlen(fileWords[i]) - 1] = '\\0';\n",
        "        i++; //increment the i value\n",
        "    }\n",
        "    valueOfTotal = i;\n",
        "    // traversing the words\n",
        "    for(i = 0; i < valueOfTotal; ++i){\n",
        "        // checking each word is Palindrome or not\n",
        "        if(checkPalindromeInFile(fileWords[i])){\n",
        "            printf(\"Palindrome:  %s\\n\",fileWords[i]);\n",
        "        }\n",
        "        else{\n",
        "            printf(\"Not palindrome: %s\\n\",fileWords[i]);\n",
        "        }\n",
        "         \n",
        "    }\n",
        "}"
      ],
      "execution_count": null,
      "outputs": []
    },
    {
      "cell_type": "code",
      "metadata": {
        "id": "B0kUCWkJ9IlS"
      },
      "source": [
        ""
      ],
      "execution_count": null,
      "outputs": []
    }
  ]
}