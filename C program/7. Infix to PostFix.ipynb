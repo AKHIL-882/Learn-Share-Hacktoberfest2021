{
  "nbformat": 4,
  "nbformat_minor": 0,
  "metadata": {
    "colab": {
      "name": "Untitled68.ipynb",
      "provenance": [],
      "collapsed_sections": []
    },
    "kernelspec": {
      "display_name": "Python 3",
      "name": "python3"
    },
    "language_info": {
      "name": "python"
    }
  },
  "cells": [
    {
      "cell_type": "markdown",
      "metadata": {
        "id": "eOcsQosk-nms"
      },
      "source": [
        "## **Infix to Prefix**"
      ]
    },
    {
      "cell_type": "code",
      "metadata": {
        "id": "3wdTTFWQ-lwG"
      },
      "source": [
        "// importing the libraries\n",
        "#include<stdio.h>\n",
        "#include<ctype.h>\n",
        "// creating the stack\n",
        "char stack[100];\n",
        "int top = -1;\n",
        "// function to pus the elements\n",
        "void push(char x){\n",
        "    stack[++top] = x;\n",
        "}\n",
        "// function to pop the elements\n",
        "char pop(){\n",
        "    if(top == -1)\n",
        "        return -1;\n",
        "    else\n",
        "        return stack[top--];\n",
        "}\n",
        "\n",
        "// checking the priority of the operators\n",
        "int priority(char x){\n",
        "    if(x == '(')\n",
        "        return 0;\n",
        "    if(x == '+' || x == '-')\n",
        "        return 1;\n",
        "    if(x == '*' || x == '/')\n",
        "        return 2;\n",
        "    return 0;\n",
        "}\n",
        "\n",
        "// initilizing the main function\n",
        "int main(){\n",
        "    // array to store the expression\n",
        "    char exp[100];\n",
        "    char *e, x;\n",
        "    // getting the expression from the user\n",
        "    printf(\"Enter the expression : \");\n",
        "    scanf(\"%s\",exp);\n",
        "    printf(\"\\n\");\n",
        "    e = exp;\n",
        "    // while loop iterate over the expression\n",
        "    while(*e != '\\0'){\n",
        "        // checking the character is Alphanumericals \n",
        "        if(isalnum(*e))\n",
        "            printf(\"%c \",*e);\n",
        "        // pushing the character '('\n",
        "        else if(*e == '(')\n",
        "            push(*e);\n",
        "        // poping the characters\n",
        "        else if(*e == ')'){\n",
        "            while((x = pop()) != '(')\n",
        "                printf(\"%c \", x);\n",
        "        }\n",
        "        // checking the priority of the operators\n",
        "        else{\n",
        "            while(priority(stack[top]) >= priority(*e))\n",
        "                printf(\"%c \",pop());\n",
        "            push(*e);\n",
        "        }\n",
        "        e++;\n",
        "    }\n",
        "    // poping and displaying the result\n",
        "    while(top != -1){\n",
        "        printf(\"%c \",pop());\n",
        "    }return 0;\n",
        "}\n"
      ],
      "execution_count": null,
      "outputs": []
    },
    {
      "cell_type": "code",
      "metadata": {
        "id": "__tPLRn0-lrw"
      },
      "source": [
        ""
      ],
      "execution_count": null,
      "outputs": []
    }
  ]
}