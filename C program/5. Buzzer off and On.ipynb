{
  "nbformat": 4,
  "nbformat_minor": 0,
  "metadata": {
    "colab": {
      "name": "Untitled68.ipynb",
      "provenance": [],
      "collapsed_sections": []
    },
    "kernelspec": {
      "display_name": "Python 3",
      "name": "python3"
    },
    "language_info": {
      "name": "python"
    }
  },
  "cells": [
    {
      "cell_type": "markdown",
      "metadata": {
        "id": "TuLP2d84sY6I"
      },
      "source": [
        "# BUzzer Off and ON"
      ]
    },
    {
      "cell_type": "code",
      "metadata": {
        "id": "eB2RsQ7ZsX5N"
      },
      "source": [
        "/******************************************************************************\n",
        "\n",
        "                            Online C Compiler.\n",
        "                Code, Compile, Run and Debug C program online.\n",
        "Write your code in this editor and press \"Run\" button to compile and execute it.\n",
        "\n",
        "*******************************************************************************/\n",
        "// importing the libraries\n",
        "#include<stdio.h>\n",
        "#include<string.h>\n",
        "// declaing the main method\n",
        "int main(){\n",
        "    // defining the value Yes and No strings\n",
        "    char definedYes[10] = \"Yes\";\n",
        "    char definedNo[10] = \"No\";\n",
        "    // array to store the user input\n",
        "    char userValue[10];\n",
        "    // displaying information for the user\n",
        "    printf(\"\\n Enter Yes for Buzzer on\\n\\tNo for Buzzer off: \");\n",
        "    // getting the string from the user\n",
        "    scanf(\"%s\",userValue);\n",
        "    // comparing the sting\n",
        "    int valueYes=strcmp(definedYes,userValue);\n",
        "    int valueNo=strcmp(definedNo,userValue);\n",
        "    // if the user enters the Yes \n",
        "    if(valueYes==0)  \n",
        "        // displaying the result\n",
        "        printf(\"Buzzer On\");  \n",
        "    if(valueNo==0)\n",
        "     // displaying the result\n",
        "        printf(\"Buzzer Off\");  \n",
        "}\n"
      ],
      "execution_count": null,
      "outputs": []
    },
    {
      "cell_type": "code",
      "metadata": {
        "id": "SIcsx_mTcBIi",
        "colab": {
          "base_uri": "https://localhost:8080/"
        },
        "outputId": "702d56cb-be30-4a49-9981-b6328716d43b"
      },
      "source": [
        "# getting the user input \n",
        "n,i=int(input(\"Enter a positive integer: \")),0\n",
        "# while conditiion for iterations\n",
        "while(i<n):\n",
        "    # printing spaces and '*' in each row\n",
        "    print(\" \"*(n-i-1)+\"*\"*(2*i+1))\n",
        "    # incrementing the i value\n",
        "    i+=1"
      ],
      "execution_count": null,
      "outputs": [
        {
          "output_type": "stream",
          "name": "stdout",
          "text": [
            "Enter a positive integer: 5\n",
            "    *\n",
            "   ***\n",
            "  *****\n",
            " *******\n",
            "*********\n"
          ]
        }
      ]
    },
    {
      "cell_type": "code",
      "metadata": {
        "colab": {
          "base_uri": "https://localhost:8080/"
        },
        "id": "Ga93afmpayG0",
        "outputId": "1d892ccf-9fb8-4c8e-8262-e9ad64f63f2e"
      },
      "source": [
        "rows = 5\n",
        "i = rows-1\n",
        "while i >= 0:\n",
        "    j = 0\n",
        "    while j < i:\n",
        "        print('', end=' ')\n",
        "        j += 1\n",
        "    k = i\n",
        "    while k <= rows - 1:\n",
        "        print('*', end=' ')\n",
        "        k += 1\n",
        "    print('')\n",
        "    i -= 2"
      ],
      "execution_count": null,
      "outputs": [
        {
          "output_type": "stream",
          "name": "stdout",
          "text": [
            "    * \n",
            "  * * * \n",
            "* * * * * \n"
          ]
        }
      ]
    },
    {
      "cell_type": "code",
      "metadata": {
        "colab": {
          "base_uri": "https://localhost:8080/"
        },
        "id": "xfUn96e_aVd7",
        "outputId": "bcb51e6d-2952-4166-82ca-43488718abc3"
      },
      "source": [
        "# to display stars in equilateral triangular form \n",
        "n=20\n",
        "while(n>=1):\n",
        "    print(' '*n, end='') # repet space for n times\n",
        "    print('* '*(i)) # repeat stars for i times\n",
        "    n=n-1\n",
        "\n",
        "# for i in range(1, 11):\n",
        "#     print(' '*n, end='') # repet space for n times\n",
        "#     print('* '*(i)) # repeat stars for i times\n",
        "#     n-=1"
      ],
      "execution_count": null,
      "outputs": [
        {
          "output_type": "stream",
          "name": "stdout",
          "text": [
            "                    * \n",
            "                   * \n",
            "                  * \n",
            "                 * \n",
            "                * \n",
            "               * \n",
            "              * \n",
            "             * \n",
            "            * \n",
            "           * \n",
            "          * \n",
            "         * \n",
            "        * \n",
            "       * \n",
            "      * \n",
            "     * \n",
            "    * \n",
            "   * \n",
            "  * \n",
            " * \n"
          ]
        }
      ]
    },
    {
      "cell_type": "code",
      "metadata": {
        "colab": {
          "base_uri": "https://localhost:8080/"
        },
        "id": "Rof-VoRHTZpa",
        "outputId": "68d22b8d-7be4-4851-ec1d-d4b7018028ff"
      },
      "source": [
        "# variable for spaceing\n",
        "increment = 1\n",
        "# getting the user input\n",
        "countValue = int(input(\"Enter the positive integer: \"))\n",
        "# outer loop to handle to rows\n",
        "for i in range(countValue,0,-1):\n",
        "  # inner loop to handle spaces in each row\n",
        "  for j in range(i,0,-1):\n",
        "    # printing the space\n",
        "    print(\" \",end=\"\")\n",
        "  # printing the *\n",
        "  print(\"*\"*increment)\n",
        "  # incrementing the spaces\n",
        "  increment+=2"
      ],
      "execution_count": null,
      "outputs": [
        {
          "output_type": "stream",
          "name": "stdout",
          "text": [
            "Enter the positive integer: 5\n",
            "     *\n",
            "    ***\n",
            "   *****\n",
            "  *******\n",
            " *********\n"
          ]
        }
      ]
    },
    {
      "cell_type": "code",
      "metadata": {
        "id": "x-fMLRmlTjYZ"
      },
      "source": [
        ""
      ],
      "execution_count": null,
      "outputs": []
    },
    {
      "cell_type": "markdown",
      "metadata": {
        "id": "uOQ2RNW9yXM3"
      },
      "source": [
        "**Step Arguments**"
      ]
    },
    {
      "cell_type": "code",
      "metadata": {
        "id": "XWitzsEosWYM"
      },
      "source": [
        ""
      ],
      "execution_count": null,
      "outputs": []
    },
    {
      "cell_type": "code",
      "metadata": {
        "colab": {
          "base_uri": "https://localhost:8080/"
        },
        "id": "PWNeYxywyVNN",
        "outputId": "25c6de9f-b34e-4671-eb0f-14d295d02d60"
      },
      "source": [
        "name = \"Nikhitha\"\n",
        "\n",
        "# i k h i t h\n",
        "# i k # i t #\n",
        "# i # h # t #\n",
        "print(name[1:4])\n",
        "\n",
        "# syntax ==> upper:lower:step\n",
        "print(name[1:7:3])\n",
        "# print(name[1:6])\n",
        "# print(name[1:6:1])\n"
      ],
      "execution_count": null,
      "outputs": [
        {
          "name": "stdout",
          "output_type": "stream",
          "text": [
            "ikh\n",
            "ii\n"
          ]
        }
      ]
    },
    {
      "cell_type": "code",
      "metadata": {
        "colab": {
          "base_uri": "https://localhost:8080/"
        },
        "id": "DH8jATlmyy6L",
        "outputId": "39083617-6f23-48da-b3ae-ed2a7a0267bc"
      },
      "source": [
        "String ='ASTRINGnikhitha'\n",
        "        #01234567894563\n",
        "  \n",
        "# Using indexing sequence\n",
        "print(String[:3])\n",
        "print(String[1:10:3])\n"
      ],
      "execution_count": null,
      "outputs": [
        {
          "name": "stdout",
          "output_type": "stream",
          "text": [
            "AST\n",
            "SIn\n"
          ]
        }
      ]
    },
    {
      "cell_type": "code",
      "metadata": {
        "colab": {
          "base_uri": "https://localhost:8080/"
        },
        "id": "7lbfZgf62WXr",
        "outputId": "c00cb8dc-fa18-49d6-81aa-98f3cf1515dd"
      },
      "source": [
        "name = \"Nikhitha\"\n",
        "print(len(name))"
      ],
      "execution_count": null,
      "outputs": [
        {
          "name": "stdout",
          "output_type": "stream",
          "text": [
            "8\n"
          ]
        }
      ]
    },
    {
      "cell_type": "code",
      "metadata": {
        "colab": {
          "base_uri": "https://localhost:8080/"
        },
        "id": "qKiLFmU44M6A",
        "outputId": "80ca4d92-3ea4-4606-f2ab-1193c6cb4ba0"
      },
      "source": [
        "Name =\" raj 123 kiran\"\n",
        "print(Name.upper())\n"
      ],
      "execution_count": null,
      "outputs": [
        {
          "name": "stdout",
          "output_type": "stream",
          "text": [
            " RAJ 123 KIRAN\n"
          ]
        }
      ]
    },
    {
      "cell_type": "code",
      "metadata": {
        "colab": {
          "base_uri": "https://localhost:8080/"
        },
        "id": "QsG5m2Wm3Nux",
        "outputId": "fd35c0fc-7d84-42d6-f020-9328c35a78a0"
      },
      "source": [
        "print(name.upper())"
      ],
      "execution_count": null,
      "outputs": [
        {
          "name": "stdout",
          "output_type": "stream",
          "text": [
            "NIKHITHA\n"
          ]
        }
      ]
    },
    {
      "cell_type": "code",
      "metadata": {
        "colab": {
          "base_uri": "https://localhost:8080/"
        },
        "id": "YLcD56jD3S1m",
        "outputId": "2184093d-6fd9-46a2-8327-3beb787ed97f"
      },
      "source": [
        "print(name.lower())"
      ],
      "execution_count": null,
      "outputs": [
        {
          "name": "stdout",
          "output_type": "stream",
          "text": [
            "nikhitha lakshmi\n"
          ]
        }
      ]
    },
    {
      "cell_type": "code",
      "metadata": {
        "colab": {
          "base_uri": "https://localhost:8080/"
        },
        "id": "QRggCbwD3YE5",
        "outputId": "8b3b4b6c-a8b3-4664-bb89-84365fd72079"
      },
      "source": [
        "name = \"nikhitha lakshmi\"\n",
        "print(name.title())"
      ],
      "execution_count": null,
      "outputs": [
        {
          "name": "stdout",
          "output_type": "stream",
          "text": [
            "Nikhitha Lakshmi\n"
          ]
        }
      ]
    },
    {
      "cell_type": "markdown",
      "metadata": {
        "id": "QqSiRgvT5MVK"
      },
      "source": [
        "### **strip() funtion**"
      ]
    },
    {
      "cell_type": "code",
      "metadata": {
        "colab": {
          "base_uri": "https://localhost:8080/"
        },
        "id": "BQcq83NZ3i4q",
        "outputId": "c052b762-adaf-48d9-9b2b-0569f429889d"
      },
      "source": [
        "Name =\" raj 123 kiran   \"\n",
        "print(Name.rstrip()+name)"
      ],
      "execution_count": null,
      "outputs": [
        {
          "name": "stdout",
          "output_type": "stream",
          "text": [
            " raj 123 kirannikhitha lakshmi\n"
          ]
        }
      ]
    },
    {
      "cell_type": "code",
      "metadata": {
        "colab": {
          "base_uri": "https://localhost:8080/"
        },
        "id": "EISOx7V95Y8K",
        "outputId": "a7542870-18d4-4444-c28f-c85883aa0a59"
      },
      "source": [
        "Name =\" raj 123 kiran   \"\n",
        "print(name+Name.lstrip())"
      ],
      "execution_count": null,
      "outputs": [
        {
          "name": "stdout",
          "output_type": "stream",
          "text": [
            "nikhitha lakshmiraj 123 kiran   \n"
          ]
        }
      ]
    },
    {
      "cell_type": "code",
      "metadata": {
        "colab": {
          "base_uri": "https://localhost:8080/"
        },
        "id": "70TtqN-S5mAg",
        "outputId": "aa789ba7-b147-4a64-ca36-2fce22ac846d"
      },
      "source": [
        "Name =\" raj 123 kiran   \"\n",
        "# print(Name.rstrip())\n",
        "# print(Name.lstrip())\n",
        "# print(Name.replace(\"123\",\"\"))\n",
        "\n",
        "Name = Name.rstrip()\n",
        "Name = Name.lstrip()\n",
        "print(Name.replace(\"123\",\"\"))\n"
      ],
      "execution_count": null,
      "outputs": [
        {
          "name": "stdout",
          "output_type": "stream",
          "text": [
            "raj  kiran\n"
          ]
        }
      ]
    },
    {
      "cell_type": "code",
      "metadata": {
        "colab": {
          "base_uri": "https://localhost:8080/"
        },
        "id": "iN_tGbEU55jv",
        "outputId": "2ee14ab4-39e4-4cc7-a6dc-c594fdad7c15"
      },
      "source": [
        "print(name.replace(\"laks\",\"dude\"))"
      ],
      "execution_count": null,
      "outputs": [
        {
          "name": "stdout",
          "output_type": "stream",
          "text": [
            "nikhitha dudehmi\n"
          ]
        }
      ]
    },
    {
      "cell_type": "code",
      "metadata": {
        "colab": {
          "base_uri": "https://localhost:8080/"
        },
        "id": "lnzUS0WI6br8",
        "outputId": "6ed92791-cfbf-4685-ef47-5f87c702b02f"
      },
      "source": [
        "string = \"Returns a copy of the copy string in UPPER CASE.\"\n",
        "stringFirst = string.find(\"copy\")\n",
        "stringSecond = string.find(\"copy\",stringFirst+1)\n",
        "print(stringSecond)"
      ],
      "execution_count": null,
      "outputs": [
        {
          "name": "stdout",
          "output_type": "stream",
          "text": [
            "22\n"
          ]
        }
      ]
    },
    {
      "cell_type": "code",
      "metadata": {
        "colab": {
          "base_uri": "https://localhost:8080/"
        },
        "id": "EaJlrXLm66wW",
        "outputId": "a431b9b3-9013-44c4-dee0-32591e756446"
      },
      "source": [
        "string.find(\"copy\", 1)"
      ],
      "execution_count": null,
      "outputs": [
        {
          "data": {
            "text/plain": [
              "10"
            ]
          },
          "execution_count": 44,
          "metadata": {},
          "output_type": "execute_result"
        }
      ]
    },
    {
      "cell_type": "markdown",
      "metadata": {
        "id": "sx99bZx58tLw"
      },
      "source": [
        "### **center() function**"
      ]
    },
    {
      "cell_type": "code",
      "metadata": {
        "colab": {
          "base_uri": "https://localhost:8080/"
        },
        "id": "C2M0SUQ47adv",
        "outputId": "bad57d1e-6cc5-438d-e2a9-6f98207c837b"
      },
      "source": [
        "name=\"kiran\"\n",
        "# main ---> underflow\n",
        "print(name.center(4,\"n\"))\n",
        "# normal execution\n",
        "print(name.center(7,\"n\"))\n",
        "print(name.center(8,\"n\"))\n",
        "print(name.center(9,\"n\"))"
      ],
      "execution_count": null,
      "outputs": [
        {
          "name": "stdout",
          "output_type": "stream",
          "text": [
            "kiran\n",
            "nkirann\n",
            "nkirann\n",
            "nkirannn\n"
          ]
        }
      ]
    },
    {
      "cell_type": "markdown",
      "metadata": {
        "id": "d26C8oUwb0SL"
      },
      "source": [
        "immutable = once declared can't be remodified\n",
        "1. String\n",
        "2. Tuple"
      ]
    },
    {
      "cell_type": "code",
      "metadata": {
        "colab": {
          "base_uri": "https://localhost:8080/"
        },
        "id": "IqlIiuRP8wEL",
        "outputId": "0d320df4-f00c-487d-8881-fdee3dd12ca0"
      },
      "source": [
        "name = \"Nikhitha\"\n",
        "print(name.replace('k','r'))\n",
        "print(name)"
      ],
      "execution_count": null,
      "outputs": [
        {
          "name": "stdout",
          "output_type": "stream",
          "text": [
            "Nirhitha\n",
            "Nikhitha\n"
          ]
        }
      ]
    },
    {
      "cell_type": "markdown",
      "metadata": {
        "id": "2hDWloYLdHaF"
      },
      "source": [
        "**if**"
      ]
    },
    {
      "cell_type": "code",
      "metadata": {
        "colab": {
          "base_uri": "https://localhost:8080/"
        },
        "id": "GNIQh-6EcTTz",
        "outputId": "546cfed2-c3cc-41e3-b291-0b0c29127627"
      },
      "source": [
        "val = int(input())\n",
        "if val<10:\n",
        "  print(\"Successfull\")\n"
      ],
      "execution_count": null,
      "outputs": [
        {
          "name": "stdout",
          "output_type": "stream",
          "text": [
            "9\n",
            "Successfull\n"
          ]
        }
      ]
    },
    {
      "cell_type": "markdown",
      "metadata": {
        "id": "5_W1WAybev3J"
      },
      "source": [
        "**if - else**"
      ]
    },
    {
      "cell_type": "code",
      "metadata": {
        "colab": {
          "base_uri": "https://localhost:8080/"
        },
        "id": "xQbJ15iPei_j",
        "outputId": "372e03c0-7e49-4994-dffa-dfaa825c2e79"
      },
      "source": [
        "val = int(input())\n",
        "if val<10:\n",
        "  print(\"Successfull\")\n",
        "else:\n",
        "  print(\"Unsuccessfull\")\n",
        "\n"
      ],
      "execution_count": null,
      "outputs": [
        {
          "name": "stdout",
          "output_type": "stream",
          "text": [
            "85\n",
            "Unsuccessfull\n"
          ]
        }
      ]
    },
    {
      "cell_type": "markdown",
      "metadata": {
        "id": "t9Pv-B4_fQms"
      },
      "source": [
        "**if - elif - else**"
      ]
    },
    {
      "cell_type": "code",
      "metadata": {
        "id": "12KHfhyrgGz-"
      },
      "source": [
        "val=10 # assignment operator\n",
        "Val==10  # comaparision operator -- True, False\n",
        "val===10 # value and datatype  -True, False"
      ],
      "execution_count": null,
      "outputs": []
    },
    {
      "cell_type": "code",
      "metadata": {
        "colab": {
          "base_uri": "https://localhost:8080/"
        },
        "id": "snr5SqAPfTLx",
        "outputId": "8429160d-4602-4ed3-924a-c8f1c95b0959"
      },
      "source": [
        "val = int(input())\n",
        "if val<10:\n",
        "  print(\"Successfull\")\n",
        "# elif(condition):\n",
        "#   block of code\n",
        "elif val==10:\n",
        "  print(\"Equal to 10\")\n",
        "else:\n",
        "  print(\"Unsuccessfull\")\n",
        "\n"
      ],
      "execution_count": null,
      "outputs": [
        {
          "name": "stdout",
          "output_type": "stream",
          "text": [
            "52\n",
            "Unsuccessfull\n"
          ]
        }
      ]
    },
    {
      "cell_type": "code",
      "metadata": {
        "colab": {
          "base_uri": "https://localhost:8080/"
        },
        "id": "N7aefeJkguax",
        "outputId": "856e15e3-72e3-4d07-b62a-6e641dd86ba9"
      },
      "source": [
        "#user input values\n",
        "# val1 = int(input())\n",
        "# val2 = int(input())\n",
        "\n",
        "# predefined \n",
        "# val1 = 10\n",
        "# val2 = 12\n",
        "\n",
        "\n",
        "val1,val2 = 10,12\n",
        "if val1>val2:\n",
        "  print(f\"\\n {val1} is greather\")\n",
        "else:\n",
        "  print(f\"\\n {val2} is greather\")\n",
        "\n",
        "\n"
      ],
      "execution_count": null,
      "outputs": [
        {
          "name": "stdout",
          "output_type": "stream",
          "text": [
            "\n",
            " 12 is greather\n"
          ]
        }
      ]
    },
    {
      "cell_type": "markdown",
      "metadata": {
        "id": "bm8sqgXnh_BC"
      },
      "source": [
        "**in Keyword**"
      ]
    },
    {
      "cell_type": "code",
      "metadata": {
        "colab": {
          "background_save": true
        },
        "id": "MDwu9rmEhUfU",
        "outputId": "1ab80210-418f-493f-c84a-1930c595f327"
      },
      "source": [
        "name  = \"Nikhitha\"\n",
        "\n",
        "if \"hi\" in name: "
      ],
      "execution_count": null,
      "outputs": [
        {
          "name": "stdout",
          "output_type": "stream",
          "text": [
            "Not present\n"
          ]
        }
      ]
    },
    {
      "cell_type": "code",
      "metadata": {
        "id": "x2iZ-DHOhUaR"
      },
      "source": [
        ""
      ],
      "execution_count": null,
      "outputs": []
    },
    {
      "cell_type": "code",
      "metadata": {
        "id": "hDnFVPGVhUVn"
      },
      "source": [
        ""
      ],
      "execution_count": null,
      "outputs": []
    },
    {
      "cell_type": "code",
      "metadata": {
        "id": "Oe6eq2m_hUOb"
      },
      "source": [
        ""
      ],
      "execution_count": null,
      "outputs": []
    },
    {
      "cell_type": "markdown",
      "metadata": {
        "id": "AfSWTf20fEKf"
      },
      "source": [
        "### python program to check whether a person is eligible for voting or not\n",
        "### greather of three numbers\n",
        "### student pass or fail 90>A 80-70:B"
      ]
    },
    {
      "cell_type": "code",
      "metadata": {
        "id": "V2dnY7PKe8iu"
      },
      "source": [
        ""
      ],
      "execution_count": null,
      "outputs": []
    }
  ]
}