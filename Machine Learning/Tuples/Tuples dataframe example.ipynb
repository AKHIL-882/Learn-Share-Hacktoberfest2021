{
  "nbformat": 4,
  "nbformat_minor": 0,
  "metadata": {
    "colab": {
      "name": "Welcome To Colaboratory",
      "provenance": [],
      "collapsed_sections": []
    },
    "kernelspec": {
      "display_name": "Python 3",
      "name": "python3"
    }
  },
  "cells": [
    {
      "cell_type": "code",
      "metadata": {
        "id": "QKsV8JzfX3Xf",
        "outputId": "a16e1c9b-9470-46a7-d795-00ba58392801",
        "colab": {
          "base_uri": "https://localhost:8080/"
        }
      },
      "source": [
        "# importing the padas library\n",
        "import pandas as pd\n",
        "# inserting the data in the form of tuples\n",
        "data = [('User1','India', 23, 'Rs.15000'),\n",
        "        ('User2', 'USA', 60, 'Rs.25000'),\n",
        "        ('User3', 'Russia', 52,'Rs.35600'),\n",
        "        ('User4', 'Pakistan', 27, 'Rs.62410'),\n",
        "        ('User5', 'France', 10, 'Rs.65000') ] \n",
        "# creating dataframe with the inserted tuples data and adding the columns\n",
        "dataset = pd.DataFrame(data, columns =['Name', 'Country', 'Age', 'Salary'])\n",
        "# displaying the dataset\n",
        "print(dataset)"
      ],
      "execution_count": 3,
      "outputs": [
        {
          "output_type": "stream",
          "name": "stdout",
          "text": [
            "    Name   Country  Age    Salary\n",
            "0  User1     India   23  Rs.15000\n",
            "1  User2       USA   60  Rs.25000\n",
            "2  User3    Russia   52  Rs.35600\n",
            "3  User4  Pakistan   27  Rs.62410\n",
            "4  User5    France   10  Rs.65000\n"
          ]
        }
      ]
    }
  ]
}