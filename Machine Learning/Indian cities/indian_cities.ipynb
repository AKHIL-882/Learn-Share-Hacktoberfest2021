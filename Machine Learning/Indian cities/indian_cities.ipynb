{
  "nbformat": 4,
  "nbformat_minor": 0,
  "metadata": {
    "colab": {
      "name": "Untitled50.ipynb",
      "provenance": []
    },
    "kernelspec": {
      "name": "python3",
      "display_name": "Python 3"
    },
    "language_info": {
      "name": "python"
    },
    "accelerator": "GPU"
  },
  "cells": [
    {
      "cell_type": "code",
      "metadata": {
        "id": "fwcfXXQnbUlv"
      },
      "source": [
        "import pandas as pd\n",
        "import numpy as np\n",
        "from textblob import TextBlob\n",
        "import matplotlib.pyplot as plt        #Visualisation\n",
        "import seaborn as sns                  #Visualisation\n",
        "%matplotlib inline"
      ],
      "execution_count": null,
      "outputs": []
    },
    {
      "cell_type": "code",
      "metadata": {
        "colab": {
          "base_uri": "https://localhost:8080/",
          "height": 266
        },
        "id": "sP2eV9bWbeFy",
        "outputId": "dbb07e56-c4ac-45e6-f830-69cca5a0e78b"
      },
      "source": [
        "dataset = pd.read_csv(\"indian_cities.csv\")\n",
        "dataset.head()"
      ],
      "execution_count": null,
      "outputs": [
        {
          "output_type": "execute_result",
          "data": {
            "text/html": [
              "<div>\n",
              "<style scoped>\n",
              "    .dataframe tbody tr th:only-of-type {\n",
              "        vertical-align: middle;\n",
              "    }\n",
              "\n",
              "    .dataframe tbody tr th {\n",
              "        vertical-align: top;\n",
              "    }\n",
              "\n",
              "    .dataframe thead th {\n",
              "        text-align: right;\n",
              "    }\n",
              "</style>\n",
              "<table border=\"1\" class=\"dataframe\">\n",
              "  <thead>\n",
              "    <tr style=\"text-align: right;\">\n",
              "      <th></th>\n",
              "      <th>name_of_city</th>\n",
              "      <th>state_code</th>\n",
              "      <th>state_name</th>\n",
              "      <th>dist_code</th>\n",
              "      <th>population_total</th>\n",
              "      <th>population_male</th>\n",
              "      <th>population_female</th>\n",
              "      <th>0-6_population_total</th>\n",
              "      <th>0-6_population_male</th>\n",
              "      <th>0-6_population_female</th>\n",
              "      <th>literates_total</th>\n",
              "      <th>literates_male</th>\n",
              "      <th>literates_female</th>\n",
              "      <th>sex_ratio</th>\n",
              "      <th>child_sex_ratio</th>\n",
              "      <th>effective_literacy_rate_total</th>\n",
              "      <th>effective_literacy_rate_male</th>\n",
              "      <th>effective_literacy_rate_female</th>\n",
              "      <th>location</th>\n",
              "      <th>total_graduates</th>\n",
              "      <th>male_graduates</th>\n",
              "      <th>female_graduates</th>\n",
              "    </tr>\n",
              "  </thead>\n",
              "  <tbody>\n",
              "    <tr>\n",
              "      <th>0</th>\n",
              "      <td>Abohar</td>\n",
              "      <td>3</td>\n",
              "      <td>PUNJAB</td>\n",
              "      <td>9</td>\n",
              "      <td>145238</td>\n",
              "      <td>76840</td>\n",
              "      <td>68398</td>\n",
              "      <td>15870</td>\n",
              "      <td>8587</td>\n",
              "      <td>7283</td>\n",
              "      <td>103319</td>\n",
              "      <td>58347</td>\n",
              "      <td>44972</td>\n",
              "      <td>890</td>\n",
              "      <td>848</td>\n",
              "      <td>79.86</td>\n",
              "      <td>85.49</td>\n",
              "      <td>73.59</td>\n",
              "      <td>30.1452928,74.1993043</td>\n",
              "      <td>16287</td>\n",
              "      <td>8612</td>\n",
              "      <td>7675</td>\n",
              "    </tr>\n",
              "    <tr>\n",
              "      <th>1</th>\n",
              "      <td>Achalpur</td>\n",
              "      <td>27</td>\n",
              "      <td>MAHARASHTRA</td>\n",
              "      <td>7</td>\n",
              "      <td>112293</td>\n",
              "      <td>58256</td>\n",
              "      <td>54037</td>\n",
              "      <td>11810</td>\n",
              "      <td>6186</td>\n",
              "      <td>5624</td>\n",
              "      <td>92433</td>\n",
              "      <td>49347</td>\n",
              "      <td>43086</td>\n",
              "      <td>928</td>\n",
              "      <td>909</td>\n",
              "      <td>91.99</td>\n",
              "      <td>94.77</td>\n",
              "      <td>89.00</td>\n",
              "      <td>21.257584,77.5086754</td>\n",
              "      <td>8863</td>\n",
              "      <td>5269</td>\n",
              "      <td>3594</td>\n",
              "    </tr>\n",
              "    <tr>\n",
              "      <th>2</th>\n",
              "      <td>Adilabad</td>\n",
              "      <td>28</td>\n",
              "      <td>ANDHRA PRADESH</td>\n",
              "      <td>1</td>\n",
              "      <td>117388</td>\n",
              "      <td>59232</td>\n",
              "      <td>58156</td>\n",
              "      <td>13103</td>\n",
              "      <td>6731</td>\n",
              "      <td>6372</td>\n",
              "      <td>83955</td>\n",
              "      <td>46295</td>\n",
              "      <td>37660</td>\n",
              "      <td>982</td>\n",
              "      <td>947</td>\n",
              "      <td>80.51</td>\n",
              "      <td>88.18</td>\n",
              "      <td>72.73</td>\n",
              "      <td>19.0809075,79.560344</td>\n",
              "      <td>10565</td>\n",
              "      <td>6797</td>\n",
              "      <td>3768</td>\n",
              "    </tr>\n",
              "    <tr>\n",
              "      <th>3</th>\n",
              "      <td>Adityapur</td>\n",
              "      <td>20</td>\n",
              "      <td>JHARKHAND</td>\n",
              "      <td>24</td>\n",
              "      <td>173988</td>\n",
              "      <td>91495</td>\n",
              "      <td>82493</td>\n",
              "      <td>23042</td>\n",
              "      <td>12063</td>\n",
              "      <td>10979</td>\n",
              "      <td>125985</td>\n",
              "      <td>71470</td>\n",
              "      <td>54515</td>\n",
              "      <td>902</td>\n",
              "      <td>910</td>\n",
              "      <td>83.46</td>\n",
              "      <td>89.98</td>\n",
              "      <td>76.23</td>\n",
              "      <td>22.7834741,86.1576889</td>\n",
              "      <td>19225</td>\n",
              "      <td>12189</td>\n",
              "      <td>7036</td>\n",
              "    </tr>\n",
              "    <tr>\n",
              "      <th>4</th>\n",
              "      <td>Adoni</td>\n",
              "      <td>28</td>\n",
              "      <td>ANDHRA PRADESH</td>\n",
              "      <td>21</td>\n",
              "      <td>166537</td>\n",
              "      <td>82743</td>\n",
              "      <td>83794</td>\n",
              "      <td>18406</td>\n",
              "      <td>9355</td>\n",
              "      <td>9051</td>\n",
              "      <td>101292</td>\n",
              "      <td>56203</td>\n",
              "      <td>45089</td>\n",
              "      <td>1013</td>\n",
              "      <td>968</td>\n",
              "      <td>68.38</td>\n",
              "      <td>76.58</td>\n",
              "      <td>60.33</td>\n",
              "      <td>15.6322227,77.2728368</td>\n",
              "      <td>11902</td>\n",
              "      <td>7871</td>\n",
              "      <td>4031</td>\n",
              "    </tr>\n",
              "  </tbody>\n",
              "</table>\n",
              "</div>"
            ],
            "text/plain": [
              "  name_of_city  state_code  ... male_graduates  female_graduates\n",
              "0      Abohar            3  ...           8612              7675\n",
              "1    Achalpur           27  ...           5269              3594\n",
              "2    Adilabad           28  ...           6797              3768\n",
              "3   Adityapur           20  ...          12189              7036\n",
              "4       Adoni           28  ...           7871              4031\n",
              "\n",
              "[5 rows x 22 columns]"
            ]
          },
          "metadata": {
            "tags": []
          },
          "execution_count": 35
        }
      ]
    },
    {
      "cell_type": "code",
      "metadata": {
        "colab": {
          "base_uri": "https://localhost:8080/"
        },
        "id": "SyByU6bqf42R",
        "outputId": "a4cb7ec7-6b0b-4077-c248-937afa9c964c"
      },
      "source": [
        "\n"
      ],
      "execution_count": null,
      "outputs": [
        {
          "output_type": "execute_result",
          "data": {
            "text/plain": [
              "count    4.930000e+02\n",
              "mean     3.461527e+05\n",
              "std      8.220952e+05\n",
              "min      5.699800e+04\n",
              "25%      9.768700e+04\n",
              "50%      1.413290e+05\n",
              "75%      2.679000e+05\n",
              "max      1.023759e+07\n",
              "Name: literates_total, dtype: float64"
            ]
          },
          "metadata": {
            "tags": []
          },
          "execution_count": 30
        }
      ]
    },
    {
      "cell_type": "code",
      "metadata": {
        "colab": {
          "base_uri": "https://localhost:8080/"
        },
        "id": "rHzFaUmvbqrp",
        "outputId": "657b6fd9-1ef6-436c-cb40-754ba3b7e788"
      },
      "source": [
        "dataset.info()"
      ],
      "execution_count": null,
      "outputs": [
        {
          "output_type": "stream",
          "text": [
            "<class 'pandas.core.frame.DataFrame'>\n",
            "RangeIndex: 493 entries, 0 to 492\n",
            "Data columns (total 22 columns):\n",
            " #   Column                          Non-Null Count  Dtype  \n",
            "---  ------                          --------------  -----  \n",
            " 0   name_of_city                    493 non-null    object \n",
            " 1   state_code                      493 non-null    int64  \n",
            " 2   state_name                      493 non-null    object \n",
            " 3   dist_code                       493 non-null    int64  \n",
            " 4   population_total                493 non-null    int64  \n",
            " 5   population_male                 493 non-null    int64  \n",
            " 6   population_female               493 non-null    int64  \n",
            " 7   0-6_population_total            493 non-null    int64  \n",
            " 8   0-6_population_male             493 non-null    int64  \n",
            " 9   0-6_population_female           493 non-null    int64  \n",
            " 10  literates_total                 493 non-null    int64  \n",
            " 11  literates_male                  493 non-null    int64  \n",
            " 12  literates_female                493 non-null    int64  \n",
            " 13  sex_ratio                       493 non-null    int64  \n",
            " 14  child_sex_ratio                 493 non-null    int64  \n",
            " 15  effective_literacy_rate_total   493 non-null    float64\n",
            " 16  effective_literacy_rate_male    493 non-null    float64\n",
            " 17  effective_literacy_rate_female  493 non-null    float64\n",
            " 18  location                        493 non-null    object \n",
            " 19  total_graduates                 493 non-null    int64  \n",
            " 20  male_graduates                  493 non-null    int64  \n",
            " 21  female_graduates                493 non-null    int64  \n",
            "dtypes: float64(3), int64(16), object(3)\n",
            "memory usage: 84.9+ KB\n"
          ],
          "name": "stdout"
        }
      ]
    },
    {
      "cell_type": "code",
      "metadata": {
        "colab": {
          "base_uri": "https://localhost:8080/",
          "height": 446
        },
        "id": "k1Hje2HBcN1p",
        "outputId": "59e87e86-0f16-4d1f-996a-b6b735ce128b"
      },
      "source": [
        "dataset.hist(column='literates_total')\n",
        "data_summary = dataset['literates_total'].describe()\n",
        "data_summary"
      ],
      "execution_count": null,
      "outputs": [
        {
          "output_type": "execute_result",
          "data": {
            "text/plain": [
              "count    4.930000e+02\n",
              "mean     3.461527e+05\n",
              "std      8.220952e+05\n",
              "min      5.699800e+04\n",
              "25%      9.768700e+04\n",
              "50%      1.413290e+05\n",
              "75%      2.679000e+05\n",
              "max      1.023759e+07\n",
              "Name: literates_total, dtype: float64"
            ]
          },
          "metadata": {
            "tags": []
          },
          "execution_count": 31
        },
        {
          "output_type": "display_data",
          "data": {
            "image/png": "[encoded data removed]",
            "text/plain": [
              "<Figure size 432x288 with 1 Axes>"
            ]
          },
          "metadata": {
            "tags": [],
            "needs_background": "light"
          }
        }
      ]
    },
    {
      "cell_type": "code",
      "metadata": {
        "colab": {
          "base_uri": "https://localhost:8080/",
          "height": 289
        },
        "id": "yZAto2tjdPar",
        "outputId": "f04d918a-e451-461a-9f0c-94bf969b2c80"
      },
      "source": [
        "plt.scatter(dataset['male_graduates'], dataset['female_graduates'])\n",
        "plt.show()"
      ],
      "execution_count": null,
      "outputs": [
        {
          "output_type": "display_data",
          "data": {
            "image/png": "[encoded data removed]",
            "text/plain": [
              "<Figure size 432x288 with 1 Axes>"
            ]
          },
          "metadata": {
            "tags": [],
            "needs_background": "light"
          }
        }
      ]
    },
    {
      "cell_type": "code",
      "metadata": {
        "colab": {
          "base_uri": "https://localhost:8080/",
          "height": 431
        },
        "id": "hKaZtJ1zdo_U",
        "outputId": "007b3237-bb1a-465a-bad1-6f1042effda8"
      },
      "source": [
        "sns.boxplot(x='effective_literacy_rate_total',data = dataset)\n",
        "data_summary = dataset['literates_total'].describe()\n",
        "data_summary"
      ],
      "execution_count": null,
      "outputs": [
        {
          "output_type": "execute_result",
          "data": {
            "text/plain": [
              "count    4.930000e+02\n",
              "mean     3.461527e+05\n",
              "std      8.220952e+05\n",
              "min      5.699800e+04\n",
              "25%      9.768700e+04\n",
              "50%      1.413290e+05\n",
              "75%      2.679000e+05\n",
              "max      1.023759e+07\n",
              "Name: literates_total, dtype: float64"
            ]
          },
          "metadata": {
            "tags": []
          },
          "execution_count": 32
        },
        {
          "output_type": "display_data",
          "data": {
            "image/png": "[encoded data removed]",
            "text/plain": [
              "<Figure size 432x288 with 1 Axes>"
            ]
          },
          "metadata": {
            "tags": [],
            "needs_background": "light"
          }
        }
      ]
    },
    {
      "cell_type": "code",
      "metadata": {
        "colab": {
          "base_uri": "https://localhost:8080/",
          "height": 506
        },
        "id": "5N0p2P-beiSu",
        "outputId": "99e319ee-c288-4d7d-dc39-3569f199a772"
      },
      "source": [
        "dataset.isnull().sum()\n",
        "dataset.dropna()"
      ],
      "execution_count": 38,
      "outputs": [
        {
          "output_type": "execute_result",
          "data": {
            "text/html": [
              "<div>\n",
              "<style scoped>\n",
              "    .dataframe tbody tr th:only-of-type {\n",
              "        vertical-align: middle;\n",
              "    }\n",
              "\n",
              "    .dataframe tbody tr th {\n",
              "        vertical-align: top;\n",
              "    }\n",
              "\n",
              "    .dataframe thead th {\n",
              "        text-align: right;\n",
              "    }\n",
              "</style>\n",
              "<table border=\"1\" class=\"dataframe\">\n",
              "  <thead>\n",
              "    <tr style=\"text-align: right;\">\n",
              "      <th></th>\n",
              "      <th>name_of_city</th>\n",
              "      <th>state_code</th>\n",
              "      <th>state_name</th>\n",
              "      <th>dist_code</th>\n",
              "      <th>population_total</th>\n",
              "      <th>population_male</th>\n",
              "      <th>population_female</th>\n",
              "      <th>0-6_population_total</th>\n",
              "      <th>0-6_population_male</th>\n",
              "      <th>0-6_population_female</th>\n",
              "      <th>literates_total</th>\n",
              "      <th>literates_male</th>\n",
              "      <th>literates_female</th>\n",
              "      <th>sex_ratio</th>\n",
              "      <th>child_sex_ratio</th>\n",
              "      <th>effective_literacy_rate_total</th>\n",
              "      <th>effective_literacy_rate_male</th>\n",
              "      <th>effective_literacy_rate_female</th>\n",
              "      <th>location</th>\n",
              "      <th>total_graduates</th>\n",
              "      <th>male_graduates</th>\n",
              "      <th>female_graduates</th>\n",
              "    </tr>\n",
              "  </thead>\n",
              "  <tbody>\n",
              "    <tr>\n",
              "      <th>0</th>\n",
              "      <td>Abohar</td>\n",
              "      <td>3</td>\n",
              "      <td>PUNJAB</td>\n",
              "      <td>9</td>\n",
              "      <td>145238</td>\n",
              "      <td>76840</td>\n",
              "      <td>68398</td>\n",
              "      <td>15870</td>\n",
              "      <td>8587</td>\n",
              "      <td>7283</td>\n",
              "      <td>103319</td>\n",
              "      <td>58347</td>\n",
              "      <td>44972</td>\n",
              "      <td>890</td>\n",
              "      <td>848</td>\n",
              "      <td>79.86</td>\n",
              "      <td>85.49</td>\n",
              "      <td>73.59</td>\n",
              "      <td>30.1452928,74.1993043</td>\n",
              "      <td>16287</td>\n",
              "      <td>8612</td>\n",
              "      <td>7675</td>\n",
              "    </tr>\n",
              "    <tr>\n",
              "      <th>1</th>\n",
              "      <td>Achalpur</td>\n",
              "      <td>27</td>\n",
              "      <td>MAHARASHTRA</td>\n",
              "      <td>7</td>\n",
              "      <td>112293</td>\n",
              "      <td>58256</td>\n",
              "      <td>54037</td>\n",
              "      <td>11810</td>\n",
              "      <td>6186</td>\n",
              "      <td>5624</td>\n",
              "      <td>92433</td>\n",
              "      <td>49347</td>\n",
              "      <td>43086</td>\n",
              "      <td>928</td>\n",
              "      <td>909</td>\n",
              "      <td>91.99</td>\n",
              "      <td>94.77</td>\n",
              "      <td>89.00</td>\n",
              "      <td>21.257584,77.5086754</td>\n",
              "      <td>8863</td>\n",
              "      <td>5269</td>\n",
              "      <td>3594</td>\n",
              "    </tr>\n",
              "    <tr>\n",
              "      <th>2</th>\n",
              "      <td>Adilabad</td>\n",
              "      <td>28</td>\n",
              "      <td>ANDHRA PRADESH</td>\n",
              "      <td>1</td>\n",
              "      <td>117388</td>\n",
              "      <td>59232</td>\n",
              "      <td>58156</td>\n",
              "      <td>13103</td>\n",
              "      <td>6731</td>\n",
              "      <td>6372</td>\n",
              "      <td>83955</td>\n",
              "      <td>46295</td>\n",
              "      <td>37660</td>\n",
              "      <td>982</td>\n",
              "      <td>947</td>\n",
              "      <td>80.51</td>\n",
              "      <td>88.18</td>\n",
              "      <td>72.73</td>\n",
              "      <td>19.0809075,79.560344</td>\n",
              "      <td>10565</td>\n",
              "      <td>6797</td>\n",
              "      <td>3768</td>\n",
              "    </tr>\n",
              "    <tr>\n",
              "      <th>3</th>\n",
              "      <td>Adityapur</td>\n",
              "      <td>20</td>\n",
              "      <td>JHARKHAND</td>\n",
              "      <td>24</td>\n",
              "      <td>173988</td>\n",
              "      <td>91495</td>\n",
              "      <td>82493</td>\n",
              "      <td>23042</td>\n",
              "      <td>12063</td>\n",
              "      <td>10979</td>\n",
              "      <td>125985</td>\n",
              "      <td>71470</td>\n",
              "      <td>54515</td>\n",
              "      <td>902</td>\n",
              "      <td>910</td>\n",
              "      <td>83.46</td>\n",
              "      <td>89.98</td>\n",
              "      <td>76.23</td>\n",
              "      <td>22.7834741,86.1576889</td>\n",
              "      <td>19225</td>\n",
              "      <td>12189</td>\n",
              "      <td>7036</td>\n",
              "    </tr>\n",
              "    <tr>\n",
              "      <th>4</th>\n",
              "      <td>Adoni</td>\n",
              "      <td>28</td>\n",
              "      <td>ANDHRA PRADESH</td>\n",
              "      <td>21</td>\n",
              "      <td>166537</td>\n",
              "      <td>82743</td>\n",
              "      <td>83794</td>\n",
              "      <td>18406</td>\n",
              "      <td>9355</td>\n",
              "      <td>9051</td>\n",
              "      <td>101292</td>\n",
              "      <td>56203</td>\n",
              "      <td>45089</td>\n",
              "      <td>1013</td>\n",
              "      <td>968</td>\n",
              "      <td>68.38</td>\n",
              "      <td>76.58</td>\n",
              "      <td>60.33</td>\n",
              "      <td>15.6322227,77.2728368</td>\n",
              "      <td>11902</td>\n",
              "      <td>7871</td>\n",
              "      <td>4031</td>\n",
              "    </tr>\n",
              "    <tr>\n",
              "      <th>...</th>\n",
              "      <td>...</td>\n",
              "      <td>...</td>\n",
              "      <td>...</td>\n",
              "      <td>...</td>\n",
              "      <td>...</td>\n",
              "      <td>...</td>\n",
              "      <td>...</td>\n",
              "      <td>...</td>\n",
              "      <td>...</td>\n",
              "      <td>...</td>\n",
              "      <td>...</td>\n",
              "      <td>...</td>\n",
              "      <td>...</td>\n",
              "      <td>...</td>\n",
              "      <td>...</td>\n",
              "      <td>...</td>\n",
              "      <td>...</td>\n",
              "      <td>...</td>\n",
              "      <td>...</td>\n",
              "      <td>...</td>\n",
              "      <td>...</td>\n",
              "      <td>...</td>\n",
              "    </tr>\n",
              "    <tr>\n",
              "      <th>488</th>\n",
              "      <td>Vizianagaram</td>\n",
              "      <td>28</td>\n",
              "      <td>ANDHRA PRADESH</td>\n",
              "      <td>12</td>\n",
              "      <td>227533</td>\n",
              "      <td>111596</td>\n",
              "      <td>115937</td>\n",
              "      <td>20487</td>\n",
              "      <td>10495</td>\n",
              "      <td>9992</td>\n",
              "      <td>169461</td>\n",
              "      <td>89155</td>\n",
              "      <td>80306</td>\n",
              "      <td>1039</td>\n",
              "      <td>952</td>\n",
              "      <td>81.85</td>\n",
              "      <td>88.18</td>\n",
              "      <td>75.80</td>\n",
              "      <td>18.1066576,83.3955506</td>\n",
              "      <td>30656</td>\n",
              "      <td>19173</td>\n",
              "      <td>11483</td>\n",
              "    </tr>\n",
              "    <tr>\n",
              "      <th>489</th>\n",
              "      <td>Warangal</td>\n",
              "      <td>28</td>\n",
              "      <td>ANDHRA PRADESH</td>\n",
              "      <td>9</td>\n",
              "      <td>620116</td>\n",
              "      <td>310400</td>\n",
              "      <td>309716</td>\n",
              "      <td>55392</td>\n",
              "      <td>28434</td>\n",
              "      <td>26958</td>\n",
              "      <td>475247</td>\n",
              "      <td>258111</td>\n",
              "      <td>217136</td>\n",
              "      <td>998</td>\n",
              "      <td>948</td>\n",
              "      <td>84.16</td>\n",
              "      <td>91.54</td>\n",
              "      <td>76.79</td>\n",
              "      <td>17.9689008,79.5940544</td>\n",
              "      <td>109613</td>\n",
              "      <td>69507</td>\n",
              "      <td>40106</td>\n",
              "    </tr>\n",
              "    <tr>\n",
              "      <th>490</th>\n",
              "      <td>Wardha</td>\n",
              "      <td>27</td>\n",
              "      <td>MAHARASHTRA</td>\n",
              "      <td>8</td>\n",
              "      <td>105543</td>\n",
              "      <td>53241</td>\n",
              "      <td>52302</td>\n",
              "      <td>9754</td>\n",
              "      <td>5139</td>\n",
              "      <td>4615</td>\n",
              "      <td>90091</td>\n",
              "      <td>46752</td>\n",
              "      <td>43339</td>\n",
              "      <td>982</td>\n",
              "      <td>898</td>\n",
              "      <td>94.05</td>\n",
              "      <td>97.19</td>\n",
              "      <td>90.88</td>\n",
              "      <td>20.745319,78.6021946</td>\n",
              "      <td>19363</td>\n",
              "      <td>10645</td>\n",
              "      <td>8718</td>\n",
              "    </tr>\n",
              "    <tr>\n",
              "      <th>491</th>\n",
              "      <td>Yamunanagar</td>\n",
              "      <td>6</td>\n",
              "      <td>HARYANA</td>\n",
              "      <td>3</td>\n",
              "      <td>216628</td>\n",
              "      <td>115404</td>\n",
              "      <td>101224</td>\n",
              "      <td>22905</td>\n",
              "      <td>12556</td>\n",
              "      <td>10349</td>\n",
              "      <td>166419</td>\n",
              "      <td>92164</td>\n",
              "      <td>74255</td>\n",
              "      <td>877</td>\n",
              "      <td>824</td>\n",
              "      <td>85.91</td>\n",
              "      <td>89.61</td>\n",
              "      <td>81.71</td>\n",
              "      <td>30.1290485,77.2673901</td>\n",
              "      <td>29803</td>\n",
              "      <td>14349</td>\n",
              "      <td>15454</td>\n",
              "    </tr>\n",
              "    <tr>\n",
              "      <th>492</th>\n",
              "      <td>Yavatmal</td>\n",
              "      <td>27</td>\n",
              "      <td>MAHARASHTRA</td>\n",
              "      <td>14</td>\n",
              "      <td>116714</td>\n",
              "      <td>58717</td>\n",
              "      <td>57997</td>\n",
              "      <td>11081</td>\n",
              "      <td>5894</td>\n",
              "      <td>5187</td>\n",
              "      <td>96980</td>\n",
              "      <td>50419</td>\n",
              "      <td>46561</td>\n",
              "      <td>988</td>\n",
              "      <td>880</td>\n",
              "      <td>91.81</td>\n",
              "      <td>95.45</td>\n",
              "      <td>88.17</td>\n",
              "      <td>20.3887937,78.1204073</td>\n",
              "      <td>13511</td>\n",
              "      <td>7397</td>\n",
              "      <td>6114</td>\n",
              "    </tr>\n",
              "  </tbody>\n",
              "</table>\n",
              "<p>493 rows × 22 columns</p>\n",
              "</div>"
            ],
            "text/plain": [
              "      name_of_city  state_code  ... male_graduates  female_graduates\n",
              "0          Abohar            3  ...           8612              7675\n",
              "1        Achalpur           27  ...           5269              3594\n",
              "2        Adilabad           28  ...           6797              3768\n",
              "3       Adityapur           20  ...          12189              7036\n",
              "4           Adoni           28  ...           7871              4031\n",
              "..             ...         ...  ...            ...               ...\n",
              "488  Vizianagaram           28  ...          19173             11483\n",
              "489      Warangal           28  ...          69507             40106\n",
              "490        Wardha           27  ...          10645              8718\n",
              "491   Yamunanagar            6  ...          14349             15454\n",
              "492      Yavatmal           27  ...           7397              6114\n",
              "\n",
              "[493 rows x 22 columns]"
            ]
          },
          "metadata": {
            "tags": []
          },
          "execution_count": 38
        }
      ]
    },
    {
      "cell_type": "code",
      "metadata": {
        "colab": {
          "base_uri": "https://localhost:8080/",
          "height": 84
        },
        "id": "IVf1fQFrd-Os",
        "outputId": "f8fd9771-6a18-4c81-caa0-35eb57b3737f"
      },
      "source": [
        "missing_entries = dataset[dataset.isnull().any(axis=1)]\n",
        "\n",
        "dataset.info()"
      ],
      "execution_count": 37,
      "outputs": [
        {
          "output_type": "execute_result",
          "data": {
            "text/html": [
              "<div>\n",
              "<style scoped>\n",
              "    .dataframe tbody tr th:only-of-type {\n",
              "        vertical-align: middle;\n",
              "    }\n",
              "\n",
              "    .dataframe tbody tr th {\n",
              "        vertical-align: top;\n",
              "    }\n",
              "\n",
              "    .dataframe thead th {\n",
              "        text-align: right;\n",
              "    }\n",
              "</style>\n",
              "<table border=\"1\" class=\"dataframe\">\n",
              "  <thead>\n",
              "    <tr style=\"text-align: right;\">\n",
              "      <th></th>\n",
              "      <th>name_of_city</th>\n",
              "      <th>state_code</th>\n",
              "      <th>state_name</th>\n",
              "      <th>dist_code</th>\n",
              "      <th>population_total</th>\n",
              "      <th>population_male</th>\n",
              "      <th>population_female</th>\n",
              "      <th>0-6_population_total</th>\n",
              "      <th>0-6_population_male</th>\n",
              "      <th>0-6_population_female</th>\n",
              "      <th>literates_total</th>\n",
              "      <th>literates_male</th>\n",
              "      <th>literates_female</th>\n",
              "      <th>sex_ratio</th>\n",
              "      <th>child_sex_ratio</th>\n",
              "      <th>effective_literacy_rate_total</th>\n",
              "      <th>effective_literacy_rate_male</th>\n",
              "      <th>effective_literacy_rate_female</th>\n",
              "      <th>location</th>\n",
              "      <th>total_graduates</th>\n",
              "      <th>male_graduates</th>\n",
              "      <th>female_graduates</th>\n",
              "    </tr>\n",
              "  </thead>\n",
              "  <tbody>\n",
              "  </tbody>\n",
              "</table>\n",
              "</div>"
            ],
            "text/plain": [
              "Empty DataFrame\n",
              "Columns: [name_of_city, state_code, state_name, dist_code, population_total, population_male, population_female, 0-6_population_total, 0-6_population_male, 0-6_population_female, literates_total, literates_male, literates_female, sex_ratio, child_sex_ratio, effective_literacy_rate_total, effective_literacy_rate_male, effective_literacy_rate_female, location, total_graduates, male_graduates, female_graduates]\n",
              "Index: []"
            ]
          },
          "metadata": {
            "tags": []
          },
          "execution_count": 37
        }
      ]
    },
    {
      "cell_type": "code",
      "metadata": {
        "id": "XhBYhthdePwk"
      },
      "source": [
        ""
      ],
      "execution_count": null,
      "outputs": []
    }
  ]
}