{
  "nbformat": 4,
  "nbformat_minor": 0,
  "metadata": {
    "colab": {
      "name": "Untitled68.ipynb",
      "provenance": [],
      "collapsed_sections": []
    },
    "kernelspec": {
      "display_name": "Python 3",
      "name": "python3"
    },
    "language_info": {
      "name": "python"
    }
  },
  "cells": [
    {
      "cell_type": "markdown",
      "metadata": {
        "id": "8Hb2voivc2mb"
      },
      "source": [
        "## **2. Program to find the Distance between co-ordinates**"
      ]
    },
    {
      "cell_type": "code",
      "metadata": {
        "id": "fwOAwoTMUGYR",
        "colab": {
          "base_uri": "https://localhost:8080/"
        },
        "outputId": "93433028-01eb-44b9-a92d-850c50348271"
      },
      "source": [
        "# import math module\n",
        "import math\n",
        "\n",
        "# user input for hte points and mapping for each variable\n",
        "x1, x2 ,y1, y2 = [int(x) for x in input(\"Enter the points x1,x2,y1,y2: \").split(',')]\n",
        "\n",
        "# using hypot to calculate the distance between two points\n",
        "dist = math.hypot(x2 - x1, y2 - y1)\n",
        "\n",
        "# printing the result.\n",
        "print(\"\\n\",x1,\",\",x2,\",\",y1,\",\",y2,\" --expected output:\" ,dist)"
      ],
      "execution_count": 2,
      "outputs": [
        {
          "output_type": "stream",
          "name": "stdout",
          "text": [
            "Enter the points x1,x2,y1,y2: 1,2,2020,2045\n",
            "\n",
            " 1 , 2 , 2020 , 2045  --expected output: 25.019992006393608\n"
          ]
        }
      ]
    },
    {
      "cell_type": "code",
      "metadata": {
        "id": "zA6ONdGBc84a"
      },
      "source": [
        ""
      ],
      "execution_count": null,
      "outputs": []
    }
  ]
}