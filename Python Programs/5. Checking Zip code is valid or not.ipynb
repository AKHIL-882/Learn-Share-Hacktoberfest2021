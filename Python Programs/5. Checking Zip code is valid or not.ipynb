{
  "nbformat": 4,
  "nbformat_minor": 0,
  "metadata": {
    "colab": {
      "name": "Untitled68.ipynb",
      "provenance": [],
      "collapsed_sections": []
    },
    "kernelspec": {
      "display_name": "Python 3",
      "name": "python3"
    },
    "language_info": {
      "name": "python"
    }
  },
  "cells": [
    {
      "cell_type": "markdown",
      "metadata": {
        "id": "eNKcb60rj0p2"
      },
      "source": [
        "4. **Checking Zip code is valid or not**"
      ]
    },
    {
      "cell_type": "code",
      "metadata": {
        "colab": {
          "base_uri": "https://localhost:8080/"
        },
        "id": "zA6ONdGBc84a",
        "outputId": "0fffdd54-99a3-4cdb-c8d5-dcd974313ee8"
      },
      "source": [
        "# getting the zip code from the user\n",
        "userZipCode = input(\"Enter the Zip Code: \")\n",
        "# checking the length is equal to 5 or not\n",
        "if len(userZipCode) == 5:\n",
        "  # checking the zipcode enter has the first and second \n",
        "  # element as 6 and 0 respectively\n",
        "  if(userZipCode[0]=='6' and userZipCode[1]=='0'):\n",
        "    # displaying the result if the condition satisfies\n",
        "    print(\"\\n You live in the greater Chicago area\")\n",
        "  else:\n",
        "    # if the first and second numbers are not 6 and 0 ,\n",
        "    # this will be display\n",
        "    print(\"\\n Thank You, I don't know where you live\")\n",
        "else:\n",
        "  # if the length is greather or lesser then 5\n",
        "  # this will be displayed\n",
        "  print(\"\\n You have entered an incorrect zip code, GoodBye\")"
      ],
      "execution_count": 6,
      "outputs": [
        {
          "output_type": "stream",
          "name": "stdout",
          "text": [
            "Enter the Zip Code: 625896\n",
            "\n",
            " You have entered an incorrect zip code, GoodBye\n"
          ]
        }
      ]
    },
    {
      "cell_type": "code",
      "metadata": {
        "id": "onmFB5iReqOs"
      },
      "source": [
        "4"
      ],
      "execution_count": null,
      "outputs": []
    }
  ]
}