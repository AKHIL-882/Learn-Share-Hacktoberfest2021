{
  "nbformat": 4,
  "nbformat_minor": 0,
  "metadata": {
    "colab": {
      "name": "Untitled68.ipynb",
      "provenance": [],
      "collapsed_sections": []
    },
    "kernelspec": {
      "display_name": "Python 3",
      "name": "python3"
    },
    "language_info": {
      "name": "python"
    }
  },
  "cells": [
    {
      "cell_type": "code",
      "metadata": {
        "colab": {
          "base_uri": "https://localhost:8080/"
        },
        "id": "zA6ONdGBc84a",
        "outputId": "dfd08310-edc4-4481-e322-0d0d7425b664"
      },
      "source": [
        "# looping till the user enteres 0\n",
        "while(1):\n",
        "  # getting the number of days worked from user\n",
        "  numberOfDaysWorked=int(input(\"Enter the number of Days Worked: \"))\n",
        "  # checking if the no.of days are equal to 0 or not\n",
        "  if(numberOfDaysWorked==0):\n",
        "    # if 0 days we have to exit\n",
        "    break;\n",
        "  else:\n",
        "    # initilizing the penny as 1\n",
        "    userPennyCount=1\n",
        "    # initilizing the dollor as 1\n",
        "    definedDollor=0.01\n",
        "    # variable to store total salary\n",
        "    totalSalary = 0\n",
        "    # calculating the salary\n",
        "    for i in range(1, numberOfDaysWorked+1):\n",
        "        # calculating the total salary  = total salary + dollor\n",
        "        totalSalary += definedDollor\n",
        "        # displaying the salary each day as a tabular format\n",
        "        print(\"|| No.of Day number : {} || Salary in pennies : {} || Salary in Dollors : $ {} ||\".format(i, userPennyCount, definedDollor))\n",
        "        # calcualting the penny count\n",
        "        userPennyCount *= 2\n",
        "        # converting penny count into dollors\n",
        "        definedDollor=userPennyCount*0.01\n",
        "    # Displaying the total salary\n",
        "    print(\"|| Total Salary Earned: $ %.2f ||\"%totalSalary)\n",
        "    print(\"\\n\")"
      ],
      "execution_count": 5,
      "outputs": [
        {
          "name": "stdout",
          "output_type": "stream",
          "text": [
            "Enter the number of Days Worked: 52\n",
            "|| No.of Day number : 1 || Salary in pennies : 1 || Salary in Dollors : $ 0.01 ||\n",
            "|| No.of Day number : 2 || Salary in pennies : 2 || Salary in Dollors : $ 0.02 ||\n",
            "|| No.of Day number : 3 || Salary in pennies : 4 || Salary in Dollors : $ 0.04 ||\n",
            "|| No.of Day number : 4 || Salary in pennies : 8 || Salary in Dollors : $ 0.08 ||\n",
            "|| No.of Day number : 5 || Salary in pennies : 16 || Salary in Dollors : $ 0.16 ||\n",
            "|| No.of Day number : 6 || Salary in pennies : 32 || Salary in Dollors : $ 0.32 ||\n",
            "|| No.of Day number : 7 || Salary in pennies : 64 || Salary in Dollors : $ 0.64 ||\n",
            "|| No.of Day number : 8 || Salary in pennies : 128 || Salary in Dollors : $ 1.28 ||\n",
            "|| No.of Day number : 9 || Salary in pennies : 256 || Salary in Dollors : $ 2.56 ||\n",
            "|| No.of Day number : 10 || Salary in pennies : 512 || Salary in Dollors : $ 5.12 ||\n",
            "|| No.of Day number : 11 || Salary in pennies : 1024 || Salary in Dollors : $ 10.24 ||\n",
            "|| No.of Day number : 12 || Salary in pennies : 2048 || Salary in Dollors : $ 20.48 ||\n",
            "|| No.of Day number : 13 || Salary in pennies : 4096 || Salary in Dollors : $ 40.96 ||\n",
            "|| No.of Day number : 14 || Salary in pennies : 8192 || Salary in Dollors : $ 81.92 ||\n",
            "|| No.of Day number : 15 || Salary in pennies : 16384 || Salary in Dollors : $ 163.84 ||\n",
            "|| No.of Day number : 16 || Salary in pennies : 32768 || Salary in Dollors : $ 327.68 ||\n",
            "|| No.of Day number : 17 || Salary in pennies : 65536 || Salary in Dollors : $ 655.36 ||\n",
            "|| No.of Day number : 18 || Salary in pennies : 131072 || Salary in Dollors : $ 1310.72 ||\n",
            "|| No.of Day number : 19 || Salary in pennies : 262144 || Salary in Dollors : $ 2621.44 ||\n",
            "|| No.of Day number : 20 || Salary in pennies : 524288 || Salary in Dollors : $ 5242.88 ||\n",
            "|| No.of Day number : 21 || Salary in pennies : 1048576 || Salary in Dollors : $ 10485.76 ||\n",
            "|| No.of Day number : 22 || Salary in pennies : 2097152 || Salary in Dollors : $ 20971.52 ||\n",
            "|| No.of Day number : 23 || Salary in pennies : 4194304 || Salary in Dollors : $ 41943.04 ||\n",
            "|| No.of Day number : 24 || Salary in pennies : 8388608 || Salary in Dollors : $ 83886.08 ||\n",
            "|| No.of Day number : 25 || Salary in pennies : 16777216 || Salary in Dollors : $ 167772.16 ||\n",
            "|| No.of Day number : 26 || Salary in pennies : 33554432 || Salary in Dollors : $ 335544.32 ||\n",
            "|| No.of Day number : 27 || Salary in pennies : 67108864 || Salary in Dollors : $ 671088.64 ||\n",
            "|| No.of Day number : 28 || Salary in pennies : 134217728 || Salary in Dollors : $ 1342177.28 ||\n",
            "|| No.of Day number : 29 || Salary in pennies : 268435456 || Salary in Dollors : $ 2684354.56 ||\n",
            "|| No.of Day number : 30 || Salary in pennies : 536870912 || Salary in Dollors : $ 5368709.12 ||\n",
            "|| No.of Day number : 31 || Salary in pennies : 1073741824 || Salary in Dollors : $ 10737418.24 ||\n",
            "|| No.of Day number : 32 || Salary in pennies : 2147483648 || Salary in Dollors : $ 21474836.48 ||\n",
            "|| No.of Day number : 33 || Salary in pennies : 4294967296 || Salary in Dollors : $ 42949672.96 ||\n",
            "|| No.of Day number : 34 || Salary in pennies : 8589934592 || Salary in Dollors : $ 85899345.92 ||\n",
            "|| No.of Day number : 35 || Salary in pennies : 17179869184 || Salary in Dollors : $ 171798691.84 ||\n",
            "|| No.of Day number : 36 || Salary in pennies : 34359738368 || Salary in Dollors : $ 343597383.68 ||\n",
            "|| No.of Day number : 37 || Salary in pennies : 68719476736 || Salary in Dollors : $ 687194767.36 ||\n",
            "|| No.of Day number : 38 || Salary in pennies : 137438953472 || Salary in Dollors : $ 1374389534.72 ||\n",
            "|| No.of Day number : 39 || Salary in pennies : 274877906944 || Salary in Dollors : $ 2748779069.44 ||\n",
            "|| No.of Day number : 40 || Salary in pennies : 549755813888 || Salary in Dollors : $ 5497558138.88 ||\n",
            "|| No.of Day number : 41 || Salary in pennies : 1099511627776 || Salary in Dollors : $ 10995116277.76 ||\n",
            "|| No.of Day number : 42 || Salary in pennies : 2199023255552 || Salary in Dollors : $ 21990232555.52 ||\n",
            "|| No.of Day number : 43 || Salary in pennies : 4398046511104 || Salary in Dollors : $ 43980465111.04 ||\n",
            "|| No.of Day number : 44 || Salary in pennies : 8796093022208 || Salary in Dollors : $ 87960930222.08 ||\n",
            "|| No.of Day number : 45 || Salary in pennies : 17592186044416 || Salary in Dollors : $ 175921860444.16 ||\n",
            "|| No.of Day number : 46 || Salary in pennies : 35184372088832 || Salary in Dollors : $ 351843720888.32 ||\n",
            "|| No.of Day number : 47 || Salary in pennies : 70368744177664 || Salary in Dollors : $ 703687441776.64 ||\n",
            "|| No.of Day number : 48 || Salary in pennies : 140737488355328 || Salary in Dollors : $ 1407374883553.28 ||\n",
            "|| No.of Day number : 49 || Salary in pennies : 281474976710656 || Salary in Dollors : $ 2814749767106.56 ||\n",
            "|| No.of Day number : 50 || Salary in pennies : 562949953421312 || Salary in Dollors : $ 5629499534213.12 ||\n",
            "|| No.of Day number : 51 || Salary in pennies : 1125899906842624 || Salary in Dollors : $ 11258999068426.24 ||\n",
            "|| No.of Day number : 52 || Salary in pennies : 2251799813685248 || Salary in Dollors : $ 22517998136852.48 ||\n",
            "|| Total Salary Earned: $ 45035996273704.95 ||\n",
            "\n",
            "\n",
            "Enter the number of Days Worked: 0\n"
          ]
        }
      ]
    },
    {
      "cell_type": "code",
      "metadata": {
        "id": "onmFB5iReqOs"
      },
      "source": [
        "4"
      ],
      "execution_count": null,
      "outputs": []
    }
  ]
}