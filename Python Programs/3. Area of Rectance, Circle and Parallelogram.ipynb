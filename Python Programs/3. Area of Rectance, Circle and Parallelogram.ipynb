{
  "nbformat": 4,
  "nbformat_minor": 0,
  "metadata": {
    "colab": {
      "name": "Untitled68.ipynb",
      "provenance": [],
      "collapsed_sections": []
    },
    "kernelspec": {
      "display_name": "Python 3",
      "name": "python3"
    },
    "language_info": {
      "name": "python"
    }
  },
  "cells": [
    {
      "cell_type": "code",
      "metadata": {
        "colab": {
          "base_uri": "https://localhost:8080/"
        },
        "id": "zA6ONdGBc84a",
        "outputId": "73236bb9-039d-4c33-8443-458ae50aed9f"
      },
      "source": [
        "import math\n",
        "\n",
        "while(1):\n",
        "  print('***************')\n",
        "  print('Select one of the following geometrical shapes:')\n",
        "  print('C:circle')\n",
        "  print('R:Rectangle')\n",
        "  print('P: parallelogram')\n",
        "  print('***************')\n",
        "  print('Enter your choice (C,R or P): ')\n",
        "  choice = input()\n",
        "  if (choice.lower() == 'c'): \n",
        "    '''if user enters 'c' this if loop execute '''\n",
        "    print('Enter the radius of the circle : ')\n",
        "    radius = int(input())\n",
        "    print('Shape' +' '*10 + 'Perimeter'+' '*10 +'Area')\n",
        "    print('**************')\n",
        "    perimeter = 2 * 3.14 * radius\n",
        "    perimeter = round(perimeter,1)\n",
        "    area = 3.14 * (radius * radius)\n",
        "    print('Circle' + ' '*10 + str(perimeter)+' '*10 + str(area))\n",
        "    print('**************')\n",
        "  elif (choice.lower() == 'r'): \n",
        "    '''if user enters 'r' this is loop execute '''\n",
        "    print('Enter the length of the Rectangle')\n",
        "    length = float(input())\n",
        "    print('Enter the width of the Rectangle')\n",
        "    width = float(input())\n",
        "    print('Shape' +' '*10 + 'Perimeter'+' '*10 +'Area')\n",
        "    print('**************')\n",
        "    perimeter = 2 * ( length + width)\n",
        "    area = length * width\n",
        "    print('Rectangle' + ' '*10 + str(perimeter)+' '*10 + str(area))\n",
        "    print('**************')\n",
        "  elif (choice.lower() == 'p'): \n",
        "    ''' if user enters 'p' this loop will execute '''\n",
        "    print('Enter side 1 of parallelogram')\n",
        "    side1= float(input())\n",
        "    print('Enter side2 of parallelogram')\n",
        "    side2= float(input())\n",
        "    print('Enter the angle between sides (in degrees) ')\n",
        "    angle = int(input())\n",
        "    print('Shape' +' '*10 + 'Perimeter'+' '*10 +'Area')\n",
        "    print('**************')\n",
        "    perimeter = round(2 * (side1 + side2),1)\n",
        "    if (angle > 0 and angle<=90):\n",
        "      angle = math.radians(angle)\n",
        "      area = round((side1 * side2) * (math.sin(angle)) , 3)\n",
        "      print('Parallelogram' + ' '*5 + str(perimeter) + ' '*10 + str(area))\n",
        "      print('**************')\n",
        "    elif (angle > 90 and angle <= 180):\n",
        "      angle=math.radians(angle)\n",
        "      area = round((side1 * side2) *(math.sin(180-angle)) ,3)\n",
        "      print('Parallelogram' + ' '*5 + str(perimeter) + ' '*10 + str(area))\n",
        "      print('**************')\n",
        "  else: \n",
        "    ''' if 'c,r,p' are not entered by user then it displays error'''\n",
        "    print(\"ERROR> Invalid choice : 'choice' \")\n",
        "    print('Enter another shape (Y/N)? ') \n",
        "    '''this statement is executed after every iteration to ask user whether to continue or not. '''\n",
        "    another = input()\n",
        "    if (another.lower()=='n'):\n",
        "      break\n",
        "    else:\n",
        "      continue"
      ],
      "execution_count": 4,
      "outputs": [
        {
          "name": "stdout",
          "output_type": "stream",
          "text": [
            "***************\n",
            "Select one of the following geometrical shapes:\n",
            "C:circle\n",
            "R:Rectangle\n",
            "P: parallelogram\n",
            "***************\n",
            "Enter your choice (C,R or P): \n",
            "C\n",
            "Enter the radius of the circle : \n",
            "4\n",
            "Shape          Perimeter          Area\n",
            "**************\n",
            "Circle          25.1          50.24\n",
            "**************\n",
            "***************\n",
            "Select one of the following geometrical shapes:\n",
            "C:circle\n",
            "R:Rectangle\n",
            "P: parallelogram\n",
            "***************\n",
            "Enter your choice (C,R or P): \n",
            "R\n",
            "Enter the length of the Rectangle\n",
            "3\n",
            "Enter the width of the Rectangle\n",
            "4\n",
            "Shape          Perimeter          Area\n",
            "**************\n",
            "Rectangle          14.0          12.0\n",
            "**************\n",
            "***************\n",
            "Select one of the following geometrical shapes:\n",
            "C:circle\n",
            "R:Rectangle\n",
            "P: parallelogram\n",
            "***************\n",
            "Enter your choice (C,R or P): \n",
            "n\n",
            "ERROR> Invalid choice : 'choice' \n",
            "Enter another shape (Y/N)? \n",
            "Y\n",
            "***************\n",
            "Select one of the following geometrical shapes:\n",
            "C:circle\n",
            "R:Rectangle\n",
            "P: parallelogram\n",
            "***************\n",
            "Enter your choice (C,R or P): \n",
            "n\n",
            "ERROR> Invalid choice : 'choice' \n",
            "Enter another shape (Y/N)? \n",
            "N\n"
          ]
        }
      ]
    },
    {
      "cell_type": "code",
      "metadata": {
        "id": "onmFB5iReqOs"
      },
      "source": [
        "4"
      ],
      "execution_count": null,
      "outputs": []
    }
  ]
}