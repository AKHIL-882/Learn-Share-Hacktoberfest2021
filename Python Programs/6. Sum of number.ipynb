{
  "nbformat": 4,
  "nbformat_minor": 0,
  "metadata": {
    "colab": {
      "name": "Untitled68.ipynb",
      "provenance": [],
      "collapsed_sections": []
    },
    "kernelspec": {
      "display_name": "Python 3",
      "name": "python3"
    },
    "language_info": {
      "name": "python"
    }
  },
  "cells": [
    {
      "cell_type": "markdown",
      "metadata": {
        "id": "eNKcb60rj0p2"
      },
      "source": [
        "4. **Checking Zip code is valid or not**"
      ]
    },
    {
      "cell_type": "code",
      "metadata": {
        "colab": {
          "base_uri": "https://localhost:8080/"
        },
        "id": "zA6ONdGBc84a",
        "outputId": "ac0d056e-e941-432c-fcb4-5a7a97deab3a"
      },
      "source": [
        "\n",
        "# Defining main function\n",
        "def sumAll():\n",
        "  # while loop to run continuously\n",
        "   while(1): \n",
        "    # taking the no.of iterations \n",
        "    n=int(input(\"How many numbes you want to add? \"))\n",
        "    # checking the n value is exclusive or not\n",
        "    if(n<=0 or n>=11):\n",
        "      print(\"The number has to be between 1 and 10: \")\n",
        "    # checking the n value is inclusive or not\n",
        "    if(n>0 and n<11):\n",
        "      # declare sum variable to store the total value\n",
        "      sum=0\n",
        "      # for loop to iterate over the n value\n",
        "      for i in range(0,n):\n",
        "          print(\"Enter number \",i+1,\":\")\n",
        "          # user input the values\n",
        "          num=int(input())\n",
        "          # adding the values\n",
        "          sum+=num\n",
        "      # printing the total sum to the user\n",
        "      print(\"\\n\")\n",
        "      print(\"\\n\")\n",
        "      print(\"The sum of all the entered number is:\", sum)\n",
        "      # break the loop\n",
        "      break\n",
        "    else:\n",
        "      # if the values are exclusive the loop runs again\n",
        "      continue\n",
        "if __name__==\"__main__\":\n",
        "    sumAll()"
      ],
      "execution_count": 7,
      "outputs": [
        {
          "output_type": "stream",
          "name": "stdout",
          "text": [
            "How many numbes you want to add? 3\n",
            "Enter number  1 :\n",
            "0\n",
            "Enter number  2 :\n",
            "2\n",
            "Enter number  3 :\n",
            "5\n",
            "\n",
            "\n",
            "\n",
            "\n",
            "The sum of all the entered number is: 7\n"
          ]
        }
      ]
    }
  ]
}