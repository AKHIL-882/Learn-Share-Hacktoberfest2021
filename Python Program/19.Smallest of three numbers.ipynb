{
  "nbformat": 4,
  "nbformat_minor": 0,
  "metadata": {
    "colab": {
      "name": "Untitled68.ipynb",
      "provenance": [],
      "collapsed_sections": []
    },
    "kernelspec": {
      "display_name": "Python 3",
      "name": "python3"
    },
    "language_info": {
      "name": "python"
    }
  },
  "cells": [
    {
      "cell_type": "code",
      "metadata": {
        "id": "__tPLRn0-lrw",
        "colab": {
          "base_uri": "https://localhost:8080/"
        },
        "outputId": "8ff4c3a3-9a2c-4a89-83f0-0c9ed91125be"
      },
      "source": [
        "#declaring a list\n",
        "userList = [int(n) for n in input().split()]\n",
        "# getting the minimum value\n",
        "smallestValue= min(userList)\n",
        "# displaying the result\n",
        "print(smallestValue)\n"
      ],
      "execution_count": 1,
      "outputs": [
        {
          "output_type": "stream",
          "name": "stdout",
          "text": [
            "7 15 3\n",
            "3\n"
          ]
        }
      ]
    },
    {
      "cell_type": "code",
      "metadata": {
        "colab": {
          "base_uri": "https://localhost:8080/"
        },
        "id": "5-O6DKlTHisv",
        "outputId": "0a6ed740-6e84-4b0a-d9c8-9f4249e3c329"
      },
      "source": [
        "# getting the values from the user\n",
        "userNumber1 = int(input())\n",
        "userNumber2 = int(input())\n",
        "userNumber3 = int(input())\n",
        "# declaring a local variable\n",
        "smallestNumber = 0\n",
        "# condition to find the smallest value\n",
        "if(userNumber1 < userNumber2 and userNumber1 < userNumber3):\n",
        "    smallestNumber = userNumber1\n",
        "if(userNumber2 < userNumber1 and userNumber2 < userNumber3):\n",
        "    smallestNumber = userNumber2\n",
        "if(userNumber3 < userNumber1 and userNumber3 < userNumber2):\n",
        "    smallestNumber = userNumber3\n",
        "# displaying the result\n",
        "print(smallestNumber)"
      ],
      "execution_count": 4,
      "outputs": [
        {
          "output_type": "stream",
          "name": "stdout",
          "text": [
            "7\n",
            "15\n",
            "3\n",
            "3\n"
          ]
        }
      ]
    },
    {
      "cell_type": "code",
      "metadata": {
        "id": "rtmjuMAMH7qb"
      },
      "source": [
        ""
      ],
      "execution_count": null,
      "outputs": []
    }
  ]
}