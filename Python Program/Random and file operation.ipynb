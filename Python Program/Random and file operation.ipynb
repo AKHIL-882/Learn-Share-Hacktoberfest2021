{
  "nbformat": 4,
  "nbformat_minor": 0,
  "metadata": {
    "colab": {
      "name": "Python Question.ipynb",
      "provenance": []
    },
    "kernelspec": {
      "name": "python3",
      "display_name": "Python 3"
    },
    "language_info": {
      "name": "python"
    }
  },
  "cells": [
    {
      "cell_type": "markdown",
      "metadata": {
        "id": "XAeGA7ZgxNEb"
      },
      "source": [
        "1. Write a program that writes a series of random numbers to a file (the program should ask the user for the name of the file). Each random number should be in the range of 1 through 100. The application should let the user specify how many random numbers the file will hold.\n",
        "\n",
        "2. Write a program that reads the random numbers from the file (created in Question 1),\n",
        "store the numbers in a list, print the numbers in the screen, and then display the following data:\n",
        "\n",
        "a. The maximum number in the list\n",
        "\n",
        "b. The minimum number in the list.\n",
        "\n",
        "c. The total of the numbers.\n",
        "\n",
        "d. The average of the numbers.\n",
        "\n",
        "e. The number of random numbers read from the file.\n",
        "\n",
        "f. Sort the list.\n",
        "\n",
        "g. The median of the list. (if you do not know median, go and search).\n",
        "\n",
        "h. Add a new random number (that range between 1 to 100) at the end of the list.\n",
        "\n",
        "i. Remove the second item from the beginning and the second item from the end of\n",
        "the list.\n"
      ]
    },
    {
      "cell_type": "code",
      "metadata": {
        "colab": {
          "base_uri": "https://localhost:8080/"
        },
        "id": "JYpjYsOtfQCy",
        "outputId": "1c644646-f022-480e-a96b-df48d7e5da9b"
      },
      "source": [
        "filename = input(\"Input the Filename: \")\n",
        "\n",
        "name = filename\n",
        "filename = \"%s.txt\" % name\n",
        "print(filename)\n",
        "\n",
        "import random\n",
        "num = int(input(\"Enter number of number do you required: \"))\n",
        "randomlist = random.sample(range(1, 100), num)\n",
        "\n",
        "listToStr = ' '.join(map(str, randomlist))\n",
        "\n",
        "f = open(filename, \"w\")\n",
        "f.write(listToStr)\n",
        "f.close()\n",
        "\n",
        "\n",
        "f = open(filename, \"r\")\n",
        "print(f.read())\n",
        "\n",
        "with open(filename, \"r\") as file:\n",
        "    text = file.read()\n",
        "    words = list(map(str, text.split()))\n",
        "    random_number = random.choice(words)\n",
        "    print(\"The random number selected from the file: \",random_number)\n",
        "\n",
        "\n",
        "print(randomlist)\n",
        "import statistics\n",
        "\n",
        "print(\"The maximum number in the list\", max(randomlist))\n",
        "print(\"The minimum number in the list\", min(randomlist))\n",
        "print(\"The sum of all number in the list\", sum(randomlist))\n",
        "print(\"The average of all number in the list\", sum(randomlist)/num)\n",
        "sort_values = randomlist.sort()\n",
        "numbers = randomlist\n",
        "numbers.sort()\n",
        "print(\"The sort number in the list\", numbers)\n",
        "print(\"The median number in the list\", statistics.median(randomlist))\n",
        "\n",
        "n = random.randint(1,100)\n",
        "print(\"The new Random number to be added: \", n)\n",
        "randomlist.append(n)\n",
        "randomlist\n",
        "\n",
        "del randomlist[1]\n",
        "del randomlist[-2]\n",
        "\n",
        "print(\"The new list after Remove the second item from the beginning and the second item from the end ofthe list\\n\",randomlist)\n"
      ],
      "execution_count": 56,
      "outputs": [
        {
          "output_type": "stream",
          "text": [
            "Input the Filename: chegg_question\n",
            "chegg_question.txt\n",
            "Enter number of number do you required: 20\n",
            "49 29 52 87 51 43 66 50 7 27 73 57 13 37 35 1 74 63 90 42\n",
            "The random number selected from the file:  90\n",
            "[49, 29, 52, 87, 51, 43, 66, 50, 7, 27, 73, 57, 13, 37, 35, 1, 74, 63, 90, 42]\n",
            "The maximum number in the list 90\n",
            "The minimum number in the list 1\n",
            "The sum of all number in the list 946\n",
            "The average of all number in the list 47.3\n",
            "The sort number in the list [1, 7, 13, 27, 29, 35, 37, 42, 43, 49, 50, 51, 52, 57, 63, 66, 73, 74, 87, 90]\n",
            "The median number in the list 49.5\n",
            "The new Random number to be added:  96\n",
            "The new list after Remove the second item from the beginning and the second item from the end ofthe list\n",
            " [1, 13, 27, 29, 35, 37, 42, 43, 49, 50, 51, 52, 57, 63, 66, 73, 74, 87, 96]\n"
          ],
          "name": "stdout"
        }
      ]
    },
    {
      "cell_type": "code",
      "metadata": {
        "id": "Vo4Qp8JPnDrc"
      },
      "source": [
        ""
      ],
      "execution_count": null,
      "outputs": []
    }
  ]
}