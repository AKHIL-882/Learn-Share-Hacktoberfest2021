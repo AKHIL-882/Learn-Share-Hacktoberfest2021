{
  "nbformat": 4,
  "nbformat_minor": 0,
  "metadata": {
    "colab": {
      "name": "Untitled68.ipynb",
      "provenance": [],
      "collapsed_sections": []
    },
    "kernelspec": {
      "display_name": "Python 3",
      "name": "python3"
    },
    "language_info": {
      "name": "python"
    }
  },
  "cells": [
    {
      "cell_type": "markdown",
      "metadata": {
        "id": "btWJINQ8jZdj"
      },
      "source": [
        "# **Check the list is sorted in descending order or not**"
      ]
    },
    {
      "cell_type": "code",
      "metadata": {
        "colab": {
          "base_uri": "https://localhost:8080/"
        },
        "id": "cv0r22JHdusa",
        "outputId": "04a7774a-cdcd-4ccb-e07a-0d77444106bc"
      },
      "source": [
        "\n",
        "# defining the function\n",
        "# as list paramter\n",
        "def is_sorted(userValues):\n",
        "  # declaring the local variable flag\n",
        "  flag = 0\n",
        "  # checking the condition that\n",
        "  # the values should be in decending order\n",
        "  if(all(userValues[i] >= userValues[i + 1] for i in range(len(userValues)-1))):\n",
        "    # changing the flag value to 1\n",
        "    flag = 1\n",
        "  if (flag) :\n",
        "    # if the list is sorted in descending order \n",
        "    # retrun TRUE\n",
        "   return True\n",
        "  else :\n",
        "    # if the list is sorted in descending order \n",
        "    # retrun False\n",
        "    return False\n",
        "# getting the list from the user\n",
        "userValues = [int(n) for n in input().split()]\n",
        "# displaying the result\n",
        "print(is_sorted(userValues))\n"
      ],
      "execution_count": 19,
      "outputs": [
        {
          "output_type": "stream",
          "name": "stdout",
          "text": [
            "4 3 1 2\n",
            "False\n"
          ]
        }
      ]
    },
    {
      "cell_type": "code",
      "metadata": {
        "id": "jhHWDUHudxp0"
      },
      "source": [
        ""
      ],
      "execution_count": null,
      "outputs": []
    }
  ]
}