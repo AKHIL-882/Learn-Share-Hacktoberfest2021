{
  "nbformat": 4,
  "nbformat_minor": 0,
  "metadata": {
    "colab": {
      "name": "IMDbmovies.ipynb",
      "provenance": [],
      "collapsed_sections": []
    },
    "kernelspec": {
      "name": "python3",
      "display_name": "Python 3"
    },
    "language_info": {
      "name": "python"
    },
    "accelerator": "GPU"
  },
  "cells": [
    {
      "cell_type": "markdown",
      "metadata": {
        "id": "0zxJ7X_bUwUq"
      },
      "source": [
        "Python programming\n",
        "\n",
        "#Cypher\n",
        "\n",
        "### Write a function that takes a string input and returns a string with each letter shifted to the next letter. \"a\" becomes \"b\", \"b\" becomes \"c\"... \"z\" becomes \"a\".\n",
        "\n",
        "### Leave any non-alphabetical characters unchanged and preserve the case of the characters (“a” becomes “b” and “A” becomes “B”)."
      ]
    },
    {
      "cell_type": "code",
      "metadata": {
        "colab": {
          "base_uri": "https://localhost:8080/",
          "height": 52
        },
        "id": "ytS7DSJHQrlj",
        "outputId": "3f7998c5-99dd-4912-df9e-4d6ec230691d"
      },
      "source": [
        "#define the function cipher_shift1\n",
        "def cipher_shift1(txt, key):\n",
        "  # define chipher function with the ranges of ascci values of alphabet\n",
        "  def cipher(i, lower_range=range(97,123), upper_range=range(65,91)):\n",
        "    # checking whether the characters are upper or lower \n",
        "    if i in lower_range or i in upper_range:\n",
        "      # convering the characters to upper and lower \n",
        "      str_upp = 65 if i in upper_range else 97\n",
        "      i = (i - str_upp + key) % 26 + str_upp\n",
        "      #returing the character\n",
        "    return chr(i)\n",
        "    #joining the string as the requirement\n",
        "  return ''.join([cipher(ord(str_upp)) for str_upp in txt])\n",
        "\n",
        "\n",
        "text = input(\"Enter the string: \");\n",
        "cipher_shift1(text,1)\n"
      ],
      "execution_count": 37,
      "outputs": [
        {
          "output_type": "stream",
          "text": [
            "Enter the string: King becomes \"a\".  #\n"
          ],
          "name": "stdout"
        },
        {
          "output_type": "execute_result",
          "data": {
            "application/vnd.google.colaboratory.intrinsic+json": {
              "type": "string"
            },
            "text/plain": [
              "'Ljoh cfdpnft \"b\".  #'"
            ]
          },
          "metadata": {
            "tags": []
          },
          "execution_count": 37
        }
      ]
    },
    {
      "cell_type": "code",
      "metadata": {
        "id": "Dfts9Ve5NE06"
      },
      "source": [
        " Leave any non-alphabetical characters"
      ],
      "execution_count": null,
      "outputs": []
    }
  ]
}