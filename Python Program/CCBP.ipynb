{
  "nbformat": 4,
  "nbformat_minor": 0,
  "metadata": {
    "colab": {
      "name": "Untitled68.ipynb",
      "provenance": [],
      "collapsed_sections": []
    },
    "kernelspec": {
      "display_name": "Python 3",
      "name": "python3"
    },
    "language_info": {
      "name": "python"
    }
  },
  "cells": [
    {
      "cell_type": "code",
      "metadata": {
        "colab": {
          "base_uri": "https://localhost:8080/",
          "height": 262
        },
        "id": "9sK0_349gK6K",
        "outputId": "fd7cdfda-bb53-4666-d514-c2f8a88fe940"
      },
      "source": [
        "userValue = int(input())\n",
        "rangeLimit = 0\n",
        "declareValue = 2\n",
        "count=0\n",
        "while(rangeLimit<userValue):\n",
        "    for j in range(1, declareValue+1):\n",
        "        a = declareValue*declareValue - j*j\n",
        "        b = 2 * declareValue * j\n",
        "        c = declareValue*declareValue + j*j\n",
        "        if(c>userValue):\n",
        "          break\n",
        "        if(a==0 or b==0 or c==0):\n",
        "          break\n",
        "        count+=1\n",
        "        print(count)\n",
        "        #print(a,b,c)\n",
        "    declareValue+=1\n",
        "    "
      ],
      "execution_count": 54,
      "outputs": [
        {
          "output_type": "stream",
          "name": "stdout",
          "text": [
            "5\n",
            "1\n"
          ]
        },
        {
          "output_type": "error",
          "ename": "KeyboardInterrupt",
          "evalue": "ignored",
          "traceback": [
            "\u001b[0;31m---------------------------------------------------------------------------\u001b[0m",
            "\u001b[0;31mKeyboardInterrupt\u001b[0m                         Traceback (most recent call last)",
            "\u001b[0;32m<ipython-input-54-628a80e3a19e>\u001b[0m in \u001b[0;36m<module>\u001b[0;34m()\u001b[0m\n\u001b[1;32m      6\u001b[0m     \u001b[0;32mfor\u001b[0m \u001b[0mj\u001b[0m \u001b[0;32min\u001b[0m \u001b[0mrange\u001b[0m\u001b[0;34m(\u001b[0m\u001b[0;36m1\u001b[0m\u001b[0;34m,\u001b[0m \u001b[0mdeclareValue\u001b[0m\u001b[0;34m+\u001b[0m\u001b[0;36m1\u001b[0m\u001b[0;34m)\u001b[0m\u001b[0;34m:\u001b[0m\u001b[0;34m\u001b[0m\u001b[0;34m\u001b[0m\u001b[0m\n\u001b[1;32m      7\u001b[0m         \u001b[0ma\u001b[0m \u001b[0;34m=\u001b[0m \u001b[0mdeclareValue\u001b[0m\u001b[0;34m*\u001b[0m\u001b[0mdeclareValue\u001b[0m \u001b[0;34m-\u001b[0m \u001b[0mj\u001b[0m\u001b[0;34m*\u001b[0m\u001b[0mj\u001b[0m\u001b[0;34m\u001b[0m\u001b[0;34m\u001b[0m\u001b[0m\n\u001b[0;32m----> 8\u001b[0;31m         \u001b[0mb\u001b[0m \u001b[0;34m=\u001b[0m \u001b[0;36m2\u001b[0m \u001b[0;34m*\u001b[0m \u001b[0mdeclareValue\u001b[0m \u001b[0;34m*\u001b[0m \u001b[0mj\u001b[0m\u001b[0;34m\u001b[0m\u001b[0;34m\u001b[0m\u001b[0m\n\u001b[0m\u001b[1;32m      9\u001b[0m         \u001b[0mc\u001b[0m \u001b[0;34m=\u001b[0m \u001b[0mdeclareValue\u001b[0m\u001b[0;34m*\u001b[0m\u001b[0mdeclareValue\u001b[0m \u001b[0;34m+\u001b[0m \u001b[0mj\u001b[0m\u001b[0;34m*\u001b[0m\u001b[0mj\u001b[0m\u001b[0;34m\u001b[0m\u001b[0;34m\u001b[0m\u001b[0m\n\u001b[1;32m     10\u001b[0m         \u001b[0;32mif\u001b[0m\u001b[0;34m(\u001b[0m\u001b[0mc\u001b[0m\u001b[0;34m>\u001b[0m\u001b[0muserValue\u001b[0m\u001b[0;34m)\u001b[0m\u001b[0;34m:\u001b[0m\u001b[0;34m\u001b[0m\u001b[0;34m\u001b[0m\u001b[0m\n",
            "\u001b[0;31mKeyboardInterrupt\u001b[0m: "
          ]
        }
      ]
    },
    {
      "cell_type": "code",
      "metadata": {
        "id": "lx8hsd8Ggbpt",
        "colab": {
          "base_uri": "https://localhost:8080/"
        },
        "outputId": "76f0136d-97c8-4cd9-c869-2c3538f03bb3"
      },
      "source": [
        "userValue = int(input())\n",
        "count=0\n",
        "declaredList = [2,3,4,5,6,7,8,9,10]\n",
        "userList = []\n",
        "for i in range(1,userValue+1):\n",
        "  if(userValue%i==0):\n",
        "    userList.append(i)\n",
        "\n",
        "for i in userList: \n",
        "  if(i not in declaredList):\n",
        "    count+=1\n",
        "print(count)"
      ],
      "execution_count": 63,
      "outputs": [
        {
          "output_type": "stream",
          "name": "stdout",
          "text": [
            "11\n",
            "2\n"
          ]
        }
      ]
    },
    {
      "cell_type": "code",
      "metadata": {
        "id": "OI3YwEz_pw9w"
      },
      "source": [
        "12"
      ],
      "execution_count": null,
      "outputs": []
    }
  ]
}