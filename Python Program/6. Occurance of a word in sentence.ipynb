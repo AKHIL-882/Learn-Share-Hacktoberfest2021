{
  "nbformat": 4,
  "nbformat_minor": 0,
  "metadata": {
    "colab": {
      "name": "IMDbmovies.ipynb",
      "provenance": [],
      "collapsed_sections": []
    },
    "kernelspec": {
      "name": "python3",
      "display_name": "Python 3"
    },
    "language_info": {
      "name": "python"
    },
    "accelerator": "GPU"
  },
  "cells": [
    {
      "cell_type": "markdown",
      "metadata": {
        "id": "2laO9uC5mbz3"
      },
      "source": [
        "You want to write a Python script that takes a string and counts the occurrence of a specified word.\n",
        "\n",
        "Aim\n",
        "\n",
        "Write a script that counts and displays the number of occurrences of a specified word in a given excerpt. The script should request two input values from the user, that is, the excerpt and the word to search for. You can assume that the word will not occur as a substring in other words.\n",
        "\n",
        "Steps for Completion\n",
        "\n",
        "Go to your main.py file.\n",
        "\n",
        "Take in the user input for the sentence and the substring.\n",
        "\n",
        "Next, sanitize and format the input by removing the whitespace and converting it to lowercase.\n",
        "\n",
        "Count the occurrences of the substring.\n",
        "\n",
        "Print the results.\n",
        "\n",
        "Run the script by using the python3 main.py command\n",
        "\n",
        "The output should look like Figure 2.11 shown below:\n",
        "\n",
        "Figure 2.11"
      ]
    },
    {
      "cell_type": "code",
      "metadata": {
        "id": "ahTz0XOnmbfo"
      },
      "source": [
        ""
      ],
      "execution_count": null,
      "outputs": []
    },
    {
      "cell_type": "code",
      "metadata": {
        "colab": {
          "base_uri": "https://localhost:8080/"
        },
        "id": "0BeGZ_7gfPT9",
        "outputId": "bff08f04-08bb-4391-af1a-4c99ac0f41c0"
      },
      "source": [
        "#getting user sentence\n",
        "user_sentence = input('Sentence: ').lower()\n",
        "#getting the word to search\n",
        "word = input('Word to look for in sentence: ') \n",
        "#split user sentence into list of words \n",
        "user_sentence_split = user_sentence.split()\n",
        "#define count =0 \n",
        "count = 0 \n",
        "#for loop for finding the match case \n",
        "for i in range(len(user_sentence_split)):\n",
        "  #checking the word with match with the splited sentence\n",
        "  if user_sentence_split[i] == word:\n",
        "    #increment count by 1 if any match found\n",
        "    count+=1\n",
        "\n",
        "#conditions for results\n",
        "if(count==0):\n",
        "  #no match found\n",
        "  print(\"No match found\")\n",
        "else:\n",
        "  #print the result\n",
        "  print(\"There are \",count,\"occurrences of \",word,\"in the sentence\")\n",
        "              \n"
      ],
      "execution_count": null,
      "outputs": [
        {
          "output_type": "stream",
          "text": [
            "Sentence: You want to write a Python\n",
            "Word to look for in sentence: no\n",
            "No match found\n"
          ],
          "name": "stdout"
        }
      ]
    },
    {
      "cell_type": "code",
      "metadata": {
        "id": "yRAUxmUsf-Ub"
      },
      "source": [
        ""
      ],
      "execution_count": null,
      "outputs": []
    }
  ]
}