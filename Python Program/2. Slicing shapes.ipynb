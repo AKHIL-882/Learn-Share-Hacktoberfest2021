{
  "nbformat": 4,
  "nbformat_minor": 0,
  "metadata": {
    "colab": {
      "name": "Untitled58.ipynb",
      "provenance": []
    },
    "kernelspec": {
      "name": "python3",
      "display_name": "Python 3"
    },
    "language_info": {
      "name": "python"
    }
  },
  "cells": [
    {
      "cell_type": "code",
      "metadata": {
        "colab": {
          "base_uri": "https://localhost:8080/"
        },
        "id": "oQuGkCpD7Xhj",
        "outputId": "87b494ed-02ef-420d-bb4c-60566c4fb3e8"
      },
      "source": [
        "all_shapes = ['Triangle','Circle''Semi-Circle','Square','Rectangle','Parallelogram','Rhombus','Trapezium']\n",
        "# for i in all_shapes:\n",
        "#   print(i,\" ----- the count is --- \",all_shapes.count(i))\n",
        "all_shapes_sorted = sorted (all_shapes, key = lambda x: x[1], reverse = True)\n",
        "top3shapes = all_shapes_sorted[0:2]\n",
        "top3shapes"
      ],
      "execution_count": null,
      "outputs": [
        {
          "output_type": "execute_result",
          "data": {
            "text/plain": [
              "['Triangle', 'Trapezium']"
            ]
          },
          "metadata": {
            "tags": []
          },
          "execution_count": 23
        }
      ]
    },
    {
      "cell_type": "code",
      "metadata": {
        "colab": {
          "base_uri": "https://localhost:8080/"
        },
        "id": "V0imJmCP36J9",
        "outputId": "43755c50-913d-477c-a774-35b067c63078"
      },
      "source": [
        "\n"
      ],
      "execution_count": null,
      "outputs": [
        {
          "output_type": "stream",
          "text": [
            "Triangle  ----- the count is ---   1\n",
            "CircleSemi-Circle  ----- the count is ---   1\n",
            "Square  ----- the count is ---   1\n",
            "Rectangle  ----- the count is ---   1\n",
            "Parallelogram  ----- the count is ---   1\n",
            "Rhombus  ----- the count is ---   1\n",
            "Trapezium  ----- the count is ---   1\n"
          ],
          "name": "stdout"
        }
      ]
    },
    {
      "cell_type": "code",
      "metadata": {
        "colab": {
          "base_uri": "https://localhost:8080/"
        },
        "id": "R1cZfwbW4oVa",
        "outputId": "f3245ae2-a325-4805-a8dd-0d399e9f07db"
      },
      "source": [
        "\n",
        "all_shapes_sorted"
      ],
      "execution_count": null,
      "outputs": [
        {
          "output_type": "execute_result",
          "data": {
            "text/plain": [
              "['Triangle',\n",
              " 'Trapezium',\n",
              " 'Square',\n",
              " 'CircleSemi-Circle',\n",
              " 'Rhombus',\n",
              " 'Rectangle',\n",
              " 'Parallelogram']"
            ]
          },
          "metadata": {
            "tags": []
          },
          "execution_count": 20
        }
      ]
    },
    {
      "cell_type": "code",
      "metadata": {
        "colab": {
          "base_uri": "https://localhost:8080/"
        },
        "id": "iAjfpv2Y56Yh",
        "outputId": "5fa50d72-1afe-4138-8243-36653957192c"
      },
      "source": [
        ""
      ],
      "execution_count": null,
      "outputs": [
        {
          "output_type": "execute_result",
          "data": {
            "text/plain": [
              "['Triangle', 'Trapezium']"
            ]
          },
          "metadata": {
            "tags": []
          },
          "execution_count": 21
        }
      ]
    },
    {
      "cell_type": "code",
      "metadata": {
        "id": "whC40H6L6FKU"
      },
      "source": [
        ""
      ],
      "execution_count": null,
      "outputs": []
    }
  ]
}