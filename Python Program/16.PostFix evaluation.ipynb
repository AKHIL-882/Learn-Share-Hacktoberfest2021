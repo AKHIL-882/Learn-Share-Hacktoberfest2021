{
  "nbformat": 4,
  "nbformat_minor": 0,
  "metadata": {
    "colab": {
      "name": "Untitled68.ipynb",
      "provenance": [],
      "collapsed_sections": []
    },
    "kernelspec": {
      "display_name": "Python 3",
      "name": "python3"
    },
    "language_info": {
      "name": "python"
    }
  },
  "cells": [
    {
      "cell_type": "markdown",
      "metadata": {
        "id": "CzaGZAFFspp4"
      },
      "source": [
        ""
      ]
    },
    {
      "cell_type": "markdown",
      "metadata": {
        "id": "5KclIZivsphw"
      },
      "source": [
        "# ***PostFix evaluation***"
      ]
    },
    {
      "cell_type": "code",
      "metadata": {
        "id": "B0kUCWkJ9IlS",
        "colab": {
          "base_uri": "https://localhost:8080/"
        },
        "outputId": "315b8296-3c52-45a7-ea2b-439fdb5460dc"
      },
      "source": [
        "# initializing the class\n",
        "class evaluatePostFixEx:    \n",
        "    # defining the constructor\n",
        "    def __init__(self, stackCapacity):\n",
        "        self.top = -1\n",
        "        self.stackCapacity = stackCapacity\n",
        "        # using the stackArray as stack\n",
        "        self.stackArray = []\n",
        "    # checking if the stack is empty or not\n",
        "    def isEmpty(self):\n",
        "        return True if self.top == -1 else False\n",
        "    # returning the value of stack which of on top \n",
        "    def peek(self):\n",
        "        return self.stackArray[-1]\n",
        "    # popping the element from the stack\n",
        "    def pop(self):\n",
        "        # if empty return -1 and pop\n",
        "        if not self.isEmpty():\n",
        "            self.top -= 1\n",
        "            return self.stackArray.pop()\n",
        "        else:\n",
        "            # return $\n",
        "            return \"$\"\n",
        "    # pushing the element to the stack\n",
        "    def push(self, op):\n",
        "        self.top += 1\n",
        "        # appending the value to the stack\n",
        "        self.stackArray.append(op)\n",
        "    # function to evaluate postfix expression\n",
        "    def evaluatePostFixExPostfix(self, userEnteredExpression):\n",
        "        # iterating over the expression\n",
        "        for i in userEnteredExpression:\n",
        "            # if operand is found, push to the stack\n",
        "            if i.isdigit():\n",
        "                self.push(i)\n",
        "            # if operator is found perform the operation \n",
        "            # between the values\n",
        "            else:\n",
        "                stackValueOne = self.pop()\n",
        "                stackValueTwo = self.pop()\n",
        "                self.push(str(eval(stackValueTwo + i + stackValueOne)))\n",
        "        # return the result\n",
        "        return int(self.pop())\n",
        "                 \n",
        "# getting the expression from user\n",
        "userEnteredExpression = input('Enter postfix expression: ')\n",
        "objectEvaluate = evaluatePostFixEx(len(userEnteredExpression))\n",
        "# displaying the result\n",
        "print(\"The Postfix Evaluation of given expression is: %d\"%(objectEvaluate.evaluatePostFixExPostfix(userEnteredExpression)))"
      ],
      "execution_count": 12,
      "outputs": [
        {
          "output_type": "stream",
          "name": "stdout",
          "text": [
            "enter postfix notation: 523*+9-\n",
            "postfix evaluation of given notation is: 2\n"
          ]
        }
      ]
    },
    {
      "cell_type": "code",
      "metadata": {
        "id": "ivGhNRxNnU9P"
      },
      "source": [
        ""
      ],
      "execution_count": null,
      "outputs": []
    }
  ]
}