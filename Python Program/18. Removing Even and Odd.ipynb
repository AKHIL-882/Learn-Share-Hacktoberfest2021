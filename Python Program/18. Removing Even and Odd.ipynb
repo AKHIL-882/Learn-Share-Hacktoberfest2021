{
  "nbformat": 4,
  "nbformat_minor": 0,
  "metadata": {
    "colab": {
      "name": "Untitled68.ipynb",
      "provenance": [],
      "collapsed_sections": []
    },
    "kernelspec": {
      "display_name": "Python 3",
      "name": "python3"
    },
    "language_info": {
      "name": "python"
    }
  },
  "cells": [
    {
      "cell_type": "code",
      "metadata": {
        "id": "eo5u-xIk_FmL",
        "colab": {
          "base_uri": "https://localhost:8080/"
        },
        "outputId": "68fa86e9-d35b-464b-d3f1-a3990d83f636"
      },
      "source": [
        "# defining the function\n",
        "def remove_events(userValues):\n",
        "  # list to store the odd values\n",
        "  oddValues=[]\n",
        "  # iterating over the list\n",
        "  for i in userValues:\n",
        "    # checking whether the number is even\n",
        "    if(i%2==0):\n",
        "      # just passing the even number\n",
        "      pass\n",
        "    else:\n",
        "      # if the value is odd, we are appending\n",
        "      # the value to the oddValues list\n",
        "      oddValues.append(i)\n",
        "  # return list\n",
        "  return oddValues\n",
        "# getting the values from the user\n",
        "userValues = [int(i) for i in input().split(',')]\n",
        "# displaying the result\n",
        "print(remove_events(userValues))\n"
      ],
      "execution_count": 11,
      "outputs": [
        {
          "output_type": "stream",
          "name": "stdout",
          "text": [
            "1,9,3\n",
            "[1, 9, 3]\n"
          ]
        }
      ]
    },
    {
      "cell_type": "code",
      "metadata": {
        "id": "auJ9zfzW-7gT",
        "colab": {
          "base_uri": "https://localhost:8080/"
        },
        "outputId": "e0386430-b17e-43c4-f14a-653c8105f363"
      },
      "source": [
        "# getting the values from the user\n",
        "userValues = [int(i) for i in input().split()]\n",
        "# list to store the odd values\n",
        "oddValues=[]\n",
        "# iterating over the list\n",
        "for i in userValues:\n",
        "  # checking whether the number is even\n",
        "  if(i%2==0):\n",
        "    # just passing the even number\n",
        "    pass\n",
        "  else:\n",
        "    # if the value is odd, we are appending\n",
        "    # the value to the oddValues list\n",
        "    oddValues.append(i)\n",
        "\n",
        "# displaying the result\n",
        "print(oddValues)\n"
      ],
      "execution_count": 7,
      "outputs": [
        {
          "output_type": "stream",
          "name": "stdout",
          "text": [
            "1 2 3 4 5 6 7 8 9\n",
            "[1, 3, 5, 7, 9]\n"
          ]
        }
      ]
    },
    {
      "cell_type": "code",
      "metadata": {
        "id": "IfOLV35byjqf"
      },
      "source": [
        ""
      ],
      "execution_count": null,
      "outputs": []
    }
  ]
}