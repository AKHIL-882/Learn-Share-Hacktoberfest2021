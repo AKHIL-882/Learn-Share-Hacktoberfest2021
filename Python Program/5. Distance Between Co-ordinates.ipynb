{
  "nbformat": 4,
  "nbformat_minor": 0,
  "metadata": {
    "colab": {
      "name": "IMDbmovies.ipynb",
      "provenance": [],
      "collapsed_sections": []
    },
    "kernelspec": {
      "name": "python3",
      "display_name": "Python 3"
    },
    "language_info": {
      "name": "python"
    },
    "accelerator": "GPU"
  },
  "cells": [
    {
      "cell_type": "code",
      "metadata": {
        "id": "Dfts9Ve5NE06",
        "colab": {
          "base_uri": "https://localhost:8080/"
        },
        "outputId": "2f4c60cb-795a-4afa-9b95-b99f429c708d"
      },
      "source": [
        "# import math module\n",
        "import math\n",
        "\n",
        "# user input for hte points and mapping for each variable\n",
        "x1, x2 ,y1, y2 = [int(x) for x in input(\"Enter the points x1,x2,y1,y2: \").split(',')]\n",
        "\n",
        "# using hypot to calculate the distance between two points\n",
        "dist = math.hypot(x2 - x1, y2 - y1)\n",
        "\n",
        "# printing the result.\n",
        "print(\"\\n\",x1,\",\",x2,\",\",y1,\",\",y2,\" --expected output:\" ,dist) "
      ],
      "execution_count": 30,
      "outputs": [
        {
          "output_type": "stream",
          "text": [
            "Enter the points x1,x2,y1,y2: 1,2,2020,2045\n",
            "\n",
            " 1 , 2 , 2020 , 2045  --expected output: 25.019992006393608\n"
          ],
          "name": "stdout"
        }
      ]
    },
    {
      "cell_type": "code",
      "metadata": {
        "id": "Lrh0E5OX4oyn"
      },
      "source": [
        "\"\"1"
      ],
      "execution_count": null,
      "outputs": []
    }
  ]
}