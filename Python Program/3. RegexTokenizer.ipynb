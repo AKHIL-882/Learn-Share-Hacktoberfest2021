{
  "nbformat": 4,
  "nbformat_minor": 0,
  "metadata": {
    "colab": {
      "name": "Untitled62.ipynb",
      "provenance": []
    },
    "kernelspec": {
      "name": "python3",
      "display_name": "Python 3"
    },
    "language_info": {
      "name": "python"
    }
  },
  "cells": [
    {
      "cell_type": "markdown",
      "metadata": {
        "id": "FWhqO0_pUXmM"
      },
      "source": [
        "#Question: \n",
        "\n",
        "I am attempting to convert text to a bag of words representation. Format is as follows.\n",
        "\n",
        "--------------------------------------------------\n",
        "\n",
        "def b_o_w(text, retok):\n",
        "\n",
        "my_counter = Counter()\n",
        "\n",
        "--------------------------------------------------\n",
        "\n",
        "text = a string of the document\n",
        "\n",
        "retok = an instance of RegexTokenizer\n",
        "\n",
        "must return a collections counter for one document\n",
        "\n",
        "Using python language\n",
        "\n",
        "I am having trouble figuring this out. I appreciate any answers and/or feedback"
      ]
    },
    {
      "cell_type": "code",
      "metadata": {
        "colab": {
          "base_uri": "https://localhost:8080/"
        },
        "id": "cTPRP2p9IjUF",
        "outputId": "eae0ce88-d475-4b28-f3fa-b91d24d31a15"
      },
      "source": [
        "!pip install sympy\n",
        "!pip install mpmath"
      ],
      "execution_count": 1,
      "outputs": [
        {
          "output_type": "stream",
          "text": [
            "Requirement already satisfied: sympy in /usr/local/lib/python3.7/dist-packages (1.7.1)\n",
            "Requirement already satisfied: mpmath>=0.19 in /usr/local/lib/python3.7/dist-packages (from sympy) (1.2.1)\n",
            "Requirement already satisfied: mpmath in /usr/local/lib/python3.7/dist-packages (1.2.1)\n"
          ],
          "name": "stdout"
        }
      ]
    },
    {
      "cell_type": "code",
      "metadata": {
        "id": "wz4YeN18Imfb"
      },
      "source": [
        "import sympy\n",
        "from nltk.tokenize import RegexpTokenizer\n"
      ],
      "execution_count": 6,
      "outputs": []
    },
    {
      "cell_type": "code",
      "metadata": {
        "colab": {
          "base_uri": "https://localhost:8080/"
        },
        "id": "YRRIgNZDQWAy",
        "outputId": "647dfc6f-187d-4715-b08e-82033873dc22"
      },
      "source": [
        "def b_o_w(tokens,retok):   \n",
        "    vector=[]\n",
        "    for w in filtered_vocab:\n",
        "        vector.append(tokens.count(w))\n",
        "    return vector\n",
        "def unique(sequence):   \n",
        "    seen = set()\n",
        "    return [x for x in sequence if not (x in seen or seen.add(x))]\n",
        "\n",
        "stopwords=[\"to\",\"is\",\"a\"]\n",
        "special_char=[\",\",\":\",\" \",\";\",\".\",\"?\"]\n",
        "text=input(\"Enter the string: \")\n",
        "retok = RegexpTokenizer('\\s+', gaps = True)\n",
        "text=text.lower()\n",
        "tokens1=text.split()\n",
        "vocab=unique(tokens1)\n",
        "filtered_vocab=[]\n",
        "for w in vocab: \n",
        "    if w not in stopwords and w not in special_char: \n",
        "        filtered_vocab.append(w)\n",
        "#print(filtered_vocab)\n",
        "\n",
        "vector1=b_o_w(tokens1,retok)\n",
        "\n",
        "#print(vector1)\n",
        "test_keys = filtered_vocab\n",
        "test_values = vector1\n",
        "res = {}\n",
        "for key in test_keys:\n",
        "\tfor value in test_values:\n",
        "\t\tres[key] = value\n",
        "\t\ttest_values.remove(value)\n",
        "\t\tbreak\n",
        "print (\" Mapping of string to frequency of words\" + str(res))\n",
        "\n",
        "\n"
      ],
      "execution_count": 26,
      "outputs": [
        {
          "output_type": "stream",
          "text": [
            "Enter the string: The UK government on Thursday will detail plans to safeguard the City of London's future under a post-Brexit agenda that requires companies to disclose their impact on the climate.\n",
            " Mapping of string to frequency of words{'the': 3, 'uk': 1, 'government': 1, 'on': 2, 'thursday': 1, 'will': 1, 'detail': 1, 'plans': 1, 'safeguard': 1, 'city': 1, 'of': 1, \"london's\": 1, 'future': 1, 'under': 1, 'post-brexit': 1, 'agenda': 1, 'that': 1, 'requires': 1, 'companies': 1, 'disclose': 1, 'their': 1, 'impact': 1, 'climate.': 1}\n"
          ],
          "name": "stdout"
        }
      ]
    },
    {
      "cell_type": "code",
      "metadata": {
        "id": "feiQZ6HiSciT"
      },
      "source": [
        ""
      ],
      "execution_count": null,
      "outputs": []
    }
  ]
}