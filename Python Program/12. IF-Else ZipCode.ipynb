{
  "nbformat": 4,
  "nbformat_minor": 0,
  "metadata": {
    "colab": {
      "name": "Untitled68.ipynb",
      "provenance": []
    },
    "kernelspec": {
      "name": "python3",
      "display_name": "Python 3"
    },
    "language_info": {
      "name": "python"
    }
  },
  "cells": [
    {
      "cell_type": "markdown",
      "metadata": {
        "id": "1GLuzPjyA_fJ"
      },
      "source": [
        "## **Write a Python program that does the following: a. Asks the user for their zip code b. Checks if the zip code entered has the right length (5 digits): i. If yes, checks if the first digit of the zip code is 6 and the second digits of the zip code is 0: 1. If yes, tells the user “You live in the greater Chicago area” 2. If no, tells the user “Thank you, I don’t know where you live” ii. If no, tells the user “you have entered an incorrect zip code, goodbye**"
      ]
    },
    {
      "cell_type": "code",
      "metadata": {
        "id": "P8lh1OGeA--r"
      },
      "source": [
        ""
      ],
      "execution_count": null,
      "outputs": []
    },
    {
      "cell_type": "code",
      "metadata": {
        "colab": {
          "base_uri": "https://localhost:8080/"
        },
        "id": "IkrcvlPLpi1r",
        "outputId": "4fcc9869-5a1d-4a5f-a0b6-792ce1b0b1f1"
      },
      "source": [
        "# getting the zip code from the user\n",
        "userZipCode = input(\"Enter the Zip Code: \")\n",
        "# checking the length is equal to 5 or not\n",
        "if len(userZipCode) == 5:\n",
        "  # checking the zipcode enter has the first and second \n",
        "  # element as 6 and 0 respectively\n",
        "  if(userZipCode[0]=='6' and userZipCode[1]=='0'):\n",
        "    # displaying the result if the condition satisfies\n",
        "    print(\"\\n You live in the greater Chicago area\")\n",
        "  else:\n",
        "    # if the first and second numbers are not 6 and 0 ,\n",
        "    # this will be display\n",
        "    print(\"\\n Thank You, I don't know where you live\")\n",
        "else:\n",
        "  # if the length is greather or lesser then 5\n",
        "  # this will be displayed\n",
        "  print(\"\\n You have entered an incorrect zip code, GoodBye\")\n",
        "\n"
      ],
      "execution_count": 8,
      "outputs": [
        {
          "output_type": "stream",
          "name": "stdout",
          "text": [
            "Enter the Zip Code: 605289\n",
            "\n",
            " You have entered an incorrect zip code, GoodBye\n"
          ]
        }
      ]
    },
    {
      "cell_type": "code",
      "metadata": {
        "id": "LmfTL9LHrSiK"
      },
      "source": [
        ""
      ],
      "execution_count": null,
      "outputs": []
    }
  ]
}