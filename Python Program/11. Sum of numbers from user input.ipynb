{
  "nbformat": 4,
  "nbformat_minor": 0,
  "metadata": {
    "colab": {
      "name": "Untitled66.ipynb",
      "provenance": []
    },
    "kernelspec": {
      "name": "python3",
      "display_name": "Python 3"
    },
    "language_info": {
      "name": "python"
    }
  },
  "cells": [
    {
      "cell_type": "code",
      "metadata": {
        "colab": {
          "base_uri": "https://localhost:8080/"
        },
        "id": "al_wmKnt4rnF",
        "outputId": "e4466eef-82e7-4101-b1dd-eadcc20ba9c4"
      },
      "source": [
        "  \n",
        "# Defining main function\n",
        "def sumAll():\n",
        "  # while loop to run continuously\n",
        "   while(1): \n",
        "    # taking the no.of iterations \n",
        "    n=int(input(\"How many numbes you want to add? \"))\n",
        "    # checking the n value is exclusive or not\n",
        "    if(n<=0 or n>=11):\n",
        "      print(\"The number has to be between 1 and 10: \")\n",
        "    # checking the n value is inclusive or not\n",
        "    if(n>0 and n<11):\n",
        "      # declare sum variable to store the total value\n",
        "      sum=0\n",
        "      # for loop to iterate over the n value\n",
        "      for i in range(0,n):\n",
        "          print(\"Enter number \",i+1,\":\")\n",
        "          # user input the values\n",
        "          num=int(input())\n",
        "          # adding the values\n",
        "          sum+=num\n",
        "      # printing the total sum to the user\n",
        "      print(\"\\n\")\n",
        "      print(\"\\n\")\n",
        "      print(\"The sum of all the entered number is:\", sum)\n",
        "      # break the loop\n",
        "      break\n",
        "    else:\n",
        "      # if the values are exclusive the loop runs again\n",
        "      continue\n",
        "if __name__==\"__main__\":\n",
        "    sumAll()"
      ],
      "execution_count": 30,
      "outputs": [
        {
          "output_type": "stream",
          "text": [
            "How many numbes you want to add? 5\n",
            "Enter number  1 :\n",
            "10\n",
            "Enter number  2 :\n",
            "20\n",
            "Enter number  3 :\n",
            "30\n",
            "Enter number  4 :\n",
            "40\n",
            "Enter number  5 :\n",
            "50\n",
            "\n",
            "\n",
            "\n",
            "\n",
            "The sum of all the entered number is: 150\n"
          ],
          "name": "stdout"
        }
      ]
    },
    {
      "cell_type": "code",
      "metadata": {
        "colab": {
          "base_uri": "https://localhost:8080/"
        },
        "id": "KDzeoX2R2hOn",
        "outputId": "9680ad91-f7d4-4c46-d4d5-e05400f06fe2"
      },
      "source": [
        "341\n",
        "3val_range = int(input(\"How many numbes you want to add? \"))\n",
        "if val_range>0 & val_range<11:\n",
        "  sum=0\n",
        "  for i in range(0,val_range):\n",
        "    print(\"Enter the number:\",i+1)\n",
        "    user_val = int(input())\n",
        "    sum = sum + user_val; \n",
        "\n",
        "print(sum)"
      ],
      "execution_count": 11,
      "outputs": [
        {
          "output_type": "stream",
          "text": [
            "How many numbes you want to add? 5\n",
            "Enter the number: 1\n",
            "10\n",
            "Enter the number: 2\n",
            "20\n",
            "Enter the number: 3\n",
            "30\n",
            "Enter the number: 4\n",
            "0\n",
            "Enter the number: 5\n",
            "90\n",
            "150\n"
          ],
          "name": "stdout"
        }
      ]
    },
    {
      "cell_type": "code",
      "metadata": {
        "id": "cvk4shJY4QQg"
      },
      "source": [
        "4"
      ],
      "execution_count": null,
      "outputs": []
    }
  ]
}