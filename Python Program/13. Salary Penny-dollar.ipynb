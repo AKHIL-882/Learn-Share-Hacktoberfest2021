{
  "nbformat": 4,
  "nbformat_minor": 0,
  "metadata": {
    "colab": {
      "name": "Untitled68.ipynb",
      "provenance": [],
      "collapsed_sections": []
    },
    "kernelspec": {
      "name": "python3",
      "display_name": "Python 3"
    },
    "language_info": {
      "name": "python"
    }
  },
  "cells": [
    {
      "cell_type": "markdown",
      "metadata": {
        "id": "WIr8p3fCJxl0"
      },
      "source": [
        "Instructions from book: Write a program that calculates the amount of money a person would earn over a period of time if his or her salary is one penny the first day, two pennies the second day, and continues to double each day. The program should ask the user for the number of days. Display a table showing what the salary was for each day, then show the total pay at the end of the period. The output should be displayed in a dollar amount, not the number of pennies.\n",
        "\n",
        "Design and write a python program to successfully complete exercise #7, chapter 4 from your textbook with the following modifications:\n",
        "\n",
        "use an outside loop to keep the program running until zero (0) days for pay calculation are entered\n",
        "allow for each day to be printed or a total only based on user choice, if printing each day include the day number and day's pay with a column heading\n",
        "utilize an inside loop to calculate and print the daily and total pay"
      ]
    },
    {
      "cell_type": "code",
      "metadata": {
        "colab": {
          "base_uri": "https://localhost:8080/"
        },
        "id": "_nTRV4XxFHpl",
        "outputId": "eae01024-84b7-4053-eb56-f2378f6870b6"
      },
      "source": [
        "# looping till the user enteres 0\n",
        "while(1):\n",
        "  # getting the number of days worked from user\n",
        "  numberOfDaysWorked=int(input(\"Enter the number of Days Worked: \"))\n",
        "  # checking if the no.of days are equal to 0 or not\n",
        "  if(numberOfDaysWorked==0):\n",
        "    # if 0 days we have to exit\n",
        "    break;\n",
        "  else:\n",
        "    # initilizing the penny as 1\n",
        "    userPennyCount=1\n",
        "    # initilizing the dollor as 1\n",
        "    definedDollor=0.01\n",
        "    # variable to store total salary\n",
        "    totalSalary = 0\n",
        "    # calculating the salary\n",
        "    for i in range(1, numberOfDaysWorked+1):\n",
        "        # calculating the total salary  = total salary + dollor\n",
        "        totalSalary += definedDollor\n",
        "        # displaying the salary each day as a tabular format\n",
        "        print(\"|| No.of Day number : {} || Salary in pennies : {} || Salary in Dollors : $ {} ||\".format(i, userPennyCount, definedDollor))\n",
        "        # calcualting the penny count\n",
        "        userPennyCount *= 2\n",
        "        # converting penny count into dollors\n",
        "        definedDollor=userPennyCount*0.01\n",
        "    # Displaying the total salary\n",
        "    print(\"|| Total Salary Earned: $ %.2f ||\"%totalSalary)\n",
        "    print(\"\\n\")\n"
      ],
      "execution_count": 14,
      "outputs": [
        {
          "name": "stdout",
          "output_type": "stream",
          "text": [
            "Enter the number of Days Worked: 1\n",
            "|| No.of Day number : 1 || Salary in pennies : 1 || Salary in Dollors : $ 0.01 ||\n",
            "|| Total Salary Earned: $ 0.01 ||\n",
            "\n",
            "\n",
            "Enter the number of Days Worked: 0\n"
          ]
        }
      ]
    },
    {
      "cell_type": "code",
      "metadata": {
        "id": "udc21G2qFuUT"
      },
      "source": [
        ""
      ],
      "execution_count": null,
      "outputs": []
    }
  ]
}