{
  "nbformat": 4,
  "nbformat_minor": 0,
  "metadata": {
    "colab": {
      "name": "Untitled68.ipynb",
      "provenance": [],
      "collapsed_sections": []
    },
    "kernelspec": {
      "display_name": "Python 3",
      "name": "python3"
    },
    "language_info": {
      "name": "python"
    }
  },
  "cells": [
    {
      "cell_type": "code",
      "metadata": {
        "colab": {
          "base_uri": "https://localhost:8080/"
        },
        "id": "NEsH3n3JC3gf",
        "outputId": "9da477d1-20f6-4e7e-92a5-3f3bd6b9e005"
      },
      "source": [
        "// importing the libraries\n",
        "#include <iostream>\n",
        "using namespace std;\n",
        "// declaring the main function\n",
        "int main(){\n",
        "    // declaring local variable to get the score \n",
        "    int grade;\n",
        "    cout<< \" Enter the score: \";\n",
        "    // getting the value from the user\n",
        "    cin>>grade;\n",
        "    // checking the condition that the value\n",
        "    // entered by the user is in between 0 and 100\n",
        "    if(grade>=0 && grade<=100 ){\n",
        "        // checking if the score is greather or equal to 90\n",
        "        if(grade>=90)\n",
        "           // displaying the grade A\n",
        "            cout<< \" The Grade is A \\n\";\n",
        "        // checking if the score is greather or equal to 80\n",
        "        // and less then 90\n",
        "        else if(grade<90 && grade>=80)\n",
        "            // displaying the grade B\n",
        "            cout<< \" The Grade is B \\n\";\n",
        "        // checking if the score is greather or equal to 70\n",
        "        // and less then 80\n",
        "        else if(grade<80 && grade>=70)\n",
        "            // displaying the grade C\n",
        "            cout<< \" The Grade is C \\n\";\n",
        "        // checking if the score is greather or equal to 60\n",
        "        // and less then 70    \n",
        "        else if(grade<70 && grade>=60)\n",
        "            // displaying the grade D\n",
        "            cout<< \" The Grade is D \\n\";\n",
        "        // if the score is less then 60\n",
        "        else\n",
        "            // displaying the grade F\n",
        "            cout<< \" The Grade is F \\n\";\n",
        "    }else{\n",
        "        cout<<\" Enter valid score \";\n",
        "    }\n",
        "}\n"
      ],
      "execution_count": null,
      "outputs": [
        {
          "output_type": "stream",
          "name": "stdout",
          "text": [
            "4\n",
            "2\n",
            "6\n"
          ]
        }
      ]
    }
  ]
}