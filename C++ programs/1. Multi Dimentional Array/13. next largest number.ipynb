{
  "nbformat": 4,
  "nbformat_minor": 0,
  "metadata": {
    "colab": {
      "name": "Untitled68.ipynb",
      "provenance": [],
      "collapsed_sections": []
    },
    "kernelspec": {
      "display_name": "Python 3",
      "name": "python3"
    },
    "language_info": {
      "name": "python"
    }
  },
  "cells": [
    {
      "cell_type": "markdown",
      "metadata": {
        "id": "wb3WMjodlU0X"
      },
      "source": [
        "# **Design an algorithm that, when given an arrangement of the digits 0, 1, 2, 3, 4, 5, 6, 7, 8, 9, rearranges the digits so that the new arrangement represents the next larger value that can be represented by these digits (or reports that no such rearrangement exist if no rearrangement produces a larger value). Thus 5647382901 would produce 5647382910.  please explain the process in a simple way.**"
      ]
    },
    {
      "cell_type": "code",
      "metadata": {
        "id": "XNdLYWLBd0RR"
      },
      "source": [
        "// importing the libraries\n",
        "#include <iostream>\n",
        "#include <cstring>\n",
        "#include <algorithm>\n",
        "using namespace std;\n",
        "// fucntion to find the next larger Number\n",
        "void nextLargerUserNumber(char userNumber[], int lengthOfNumber){\n",
        "   int i, j;\n",
        "   // traversing the number \n",
        "   for (i = lengthOfNumber-1; i > 0; i--)\n",
        "       // checking the number is greather or not\n",
        "       if (userNumber[i] > userNumber[i-1])\n",
        "       break;\n",
        "   // condition for if the number entered is the larger number\n",
        "   if (i==0){\n",
        "       cout << \"Enter number is the largest number\";\n",
        "       return;\n",
        "   }\n",
        "   \n",
        "   int number = userNumber[i-1], smallestNumber = i;\n",
        "   // traversing the number \n",
        "   for (j = i+1; j < lengthOfNumber; j++)\n",
        "       // checking for the smallest number in the user entered numner\n",
        "       if (userNumber[j] > number && userNumber[j] < userNumber[smallestNumber])\n",
        "           smallestNumber = j;\n",
        "   // swapping the values \n",
        "   swap(userNumber[smallestNumber],userNumber[i-1]);\n",
        "   // sorting the values\n",
        "   sort(userNumber + i, userNumber + lengthOfNumber);\n",
        "   // dispalying the next larger number to the user\n",
        "   cout << \"The larger number is:  \" << userNumber;\n",
        "   return;\n",
        "}\n",
        "// initializing the main function\n",
        "int main(){\n",
        "   // declaring the array to store the user value\n",
        "   char userEnteredNumber[100];\n",
        "   cout<<\"Enter the number : \";\n",
        "   // getting the value from the user\n",
        "   cin>>userEnteredNumber;\n",
        "   // finding the length of the string\n",
        "   int lengthOfNumber = strlen(userEnteredNumber);\n",
        "   // passing the parameters to the string\n",
        "   nextLargerUserNumber(userEnteredNumber, lengthOfNumber);\n",
        "   return 0;\n",
        "}\n",
        "\n"
      ],
      "execution_count": null,
      "outputs": []
    }
  ]
}