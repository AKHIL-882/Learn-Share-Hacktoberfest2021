{
  "nbformat": 4,
  "nbformat_minor": 0,
  "metadata": {
    "colab": {
      "name": "Untitled68.ipynb",
      "provenance": []
    },
    "kernelspec": {
      "name": "python3",
      "display_name": "Python 3"
    },
    "language_info": {
      "name": "python"
    }
  },
  "cells": [
    {
      "cell_type": "markdown",
      "metadata": {
        "id": "2IozXYim-MS8"
      },
      "source": [
        "### **Write this program in C++. This program reads an input file called Numbers.txt. The file includes a label, a word/string, with an int that instructs you how many time to copy the word/string and concatenate it. The string can be no longer than 350 characters, and when the string is copied/multiplied can be no larger than 1200 bytes. Each character each one byte. Store the label and string into 5 pages of memory acquire from mmap.\n",
        "\n",
        "Example\n",
        "\n",
        "Label7 Box 5\n",
        "\n",
        "Label7 BoxBoxBoxBoxBox\n",
        "\n",
        "Numbers.txt below line\n",
        "\n",
        "---------------------\n",
        "\n",
        "Label1 name 4\n",
        "\n",
        "Label2 initials 5\n",
        "\n",
        "Label3 onetwothreefourfivesixseveneight 10**"
      ]
    },
    {
      "cell_type": "code",
      "metadata": {
        "id": "PC587bP0-RkH"
      },
      "source": [
        "// importing the libraries\n",
        "#include <iostream>\n",
        "#include <string>\n",
        "#include <fstream>\n",
        "#include <sstream>\n",
        "using namespace std;\n",
        "// initilizing the main function\n",
        "int main(){\n",
        "// getting the file name\n",
        "string fileNameDefined = \"Numbers.txt\";\n",
        "// getting the file content\n",
        "ifstream dataInFile;\n",
        "// opening the file\n",
        "dataInFile.open(fileNameDefined);\n",
        "// checking whether the file is present or not\n",
        "if(dataInFile.is_open()) {\n",
        "string readDataInFile;\n",
        "// while loop to iterate over the data in the file.\n",
        "// structure of data in file: lable name count\n",
        "while (std::getline(dataInFile, readDataInFile)) {\n",
        "// getting data into the array for each line\n",
        "string arrayToTextInFile[3];\n",
        "int p = 0;\n",
        "// splitting the data\n",
        "stringstream ssin(readDataInFile.c_str());\n",
        "// getting the text and storing into the array\n",
        "while (ssin.good() && p < 3){\n",
        "ssin >> arrayToTextInFile[p];\n",
        "++p;\n",
        "}\n",
        "// spliting the data by index wise\n",
        "string lableProvided = arrayToTextInFile[0];\n",
        "string nameProvided = arrayToTextInFile[1];\n",
        "int countProvided = stoi(arrayToTextInFile[2]);\n",
        "string addingDataToText;\n",
        "  \n",
        "// appending the data by the count value\n",
        "for(int i=0; i<countProvided; i++){\n",
        "// appending to text\n",
        "addingDataToText += nameProvided;\n",
        "}\n",
        "// displaying the result\n",
        "cout << lableProvided << \" \" << addingDataToText << endl;\n",
        "}\n",
        "  \n",
        "// closing the file\n",
        "dataInFile.close();\n",
        "}\n",
        "else\n",
        "{ // if the file is absent\n",
        "cout << \"File not found!\";\n",
        "}\n",
        "}"
      ],
      "execution_count": null,
      "outputs": []
    },
    {
      "cell_type": "code",
      "metadata": {
        "id": "6wsRUKqi-Wjw"
      },
      "source": [
        ""
      ],
      "execution_count": null,
      "outputs": []
    }
  ]
}