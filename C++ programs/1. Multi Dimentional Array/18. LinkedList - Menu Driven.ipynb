{
  "nbformat": 4,
  "nbformat_minor": 0,
  "metadata": {
    "colab": {
      "name": "Untitled68.ipynb",
      "provenance": [],
      "collapsed_sections": []
    },
    "kernelspec": {
      "display_name": "Python 3",
      "name": "python3"
    },
    "language_info": {
      "name": "python"
    }
  },
  "cells": [
    {
      "cell_type": "markdown",
      "metadata": {
        "id": "uZmu3BUNe-MZ"
      },
      "source": [
        "###Consider a simplified history manager module for a C++ compiler that provides history state of up to the last 3 lines of code that was typed. The history state maybe used for the \"undo type\" operation. In this simplified case an entire line of code will be undone at a time. For this assignment you should maintain a stack, implemented using linked lists, that will keep record of the last three edits. We will simulate this editing operation with simple text strings of code such as:\n",
        "\n",
        "int x =5;\n",
        "cout<<\"Hello world\";\n",
        "}\n",
        "\n",
        "and so on. These text commands are user-entered inputs from the command line. When the history manager receives an “undo” command, it shows the last command in the edit history.\n",
        "\n",
        "Write a program with the following three main menu options:\n",
        "\n",
        "1. Enter a line of code\n",
        "2. Undo\n",
        "3. Quit\n",
        "\n",
        "If option 1 is chosen, the user should be prompted to enter a line of code.\n",
        "If option 2 is chosen, the program should display the last line of code that was entered.\n",
        "If option 3 is chosen, the program should end.\n",
        "Display meaningful messages to the output as appropriate."
      ]
    },
    {
      "cell_type": "code",
      "metadata": {
        "id": "Yjpdeb49e5IR"
      },
      "source": [
        "#include<iostream>\n",
        "// importing the libraries\n",
        "#include<string>\n",
        "using namespace std;\n",
        "// creating a structure\n",
        "struct Node  \n",
        "{  \n",
        "    string userString;  \n",
        "    struct Node* link;  \n",
        "};  \n",
        "  \n",
        "// pointer for top of stack\n",
        "struct Node* top; \n",
        "\n",
        "// fucntion to push into stack\n",
        "void push()  {   \n",
        "    // getting input from the user\n",
        "    cout<<\"Enter the line of code: \"<<endl;\n",
        "    string userString;\n",
        "    cin.ignore();\n",
        "    getline(cin, userString); \n",
        "    \n",
        "    // creating a new node\n",
        "    struct Node* temp;  \n",
        "    temp = new Node();  \n",
        "    // assigining the values\n",
        "    temp->userString=userString;  \n",
        "    temp->link = top;  \n",
        "    top = temp;  \n",
        "}  \n",
        "// checking if the stack is empty or not\n",
        "int isEmpty()  {  \n",
        "    return top == NULL;  \n",
        "} \n",
        "// function for undo Operation\n",
        "void undoOperation()  {  \n",
        "    if (!isEmpty()) { \n",
        "        // displaying the result\n",
        "        cout<<top->userString<<endl;\n",
        "        struct Node* temp;\n",
        "        temp = top;  \n",
        "        top = top->link;  \n",
        "        temp->link = NULL;\n",
        "        free(temp);  //memory of temp is released\n",
        "    } \n",
        "    else{\n",
        "        cout<<\"Invalid Operation\"<<endl;\n",
        "    }\n",
        "}  \n",
        "// initializing the main function\n",
        "int main(){\n",
        "    // while loop to call the menu drive\n",
        "    while(1){\n",
        "        // displaying the instructions for the user.\n",
        "        cout<<\"Select an option:\"<<endl;\n",
        "        cout<<\"1. Enter a line of code\"<<endl;\n",
        "        cout<<\"2. Undo\"<<endl;\n",
        "        cout<<\"3. Quit\"<<endl;\n",
        "        int option;\n",
        "        // getting value from the user\n",
        "        cin>>option;\n",
        "        // operations to be performed\n",
        "        if(option==1) {\n",
        "            push();\n",
        "        }\n",
        "        else if(option==2){\n",
        "          undoOperation();  \n",
        "        }\n",
        "        else if(option==3){\n",
        "        break; \n",
        "        }\n",
        "    }\n",
        "    return 0;\n",
        "}"
      ],
      "execution_count": null,
      "outputs": []
    },
    {
      "cell_type": "code",
      "metadata": {
        "id": "GgqXCwuEe5Ey"
      },
      "source": [
        ""
      ],
      "execution_count": null,
      "outputs": []
    },
    {
      "cell_type": "code",
      "metadata": {
        "id": "FByJThFFe5Ch"
      },
      "source": [
        ""
      ],
      "execution_count": null,
      "outputs": []
    }
  ]
}