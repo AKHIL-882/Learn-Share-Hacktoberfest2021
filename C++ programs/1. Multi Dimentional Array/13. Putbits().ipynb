{
  "nbformat": 4,
  "nbformat_minor": 0,
  "metadata": {
    "colab": {
      "name": "Untitled68.ipynb",
      "provenance": [],
      "collapsed_sections": []
    },
    "kernelspec": {
      "display_name": "Python 3",
      "name": "python3"
    },
    "language_info": {
      "name": "python"
    }
  },
  "cells": [
    {
      "cell_type": "markdown",
      "metadata": {
        "id": "QMK6pE0ptyCa"
      },
      "source": [
        "Write a function called putbits() that outputs the bit pattern of a number as an unsigned int type. Only the 16 least significant bits are to be output no matter what size of the computer world is. The number is passed as an argument to the function, which has no return value.  \n",
        "\n",
        "void putbits (int n){\n",
        "\n",
        "putbits (x);\n",
        "\n",
        "putbits (x & y);\n",
        "\n",
        "putbits (x | y);\n",
        "\n",
        "putbits (x ^ y);"
      ]
    },
    {
      "cell_type": "code",
      "metadata": {
        "id": "NAImRMGY4gbF"
      },
      "source": [
        "// importing the libraries\n",
        "#include <stdio.h>\n",
        "// declaring the putbits functons\n",
        "void putbits (unsigned int n) {\n",
        "    // converting to the unsigned int type\n",
        "    for (int i = 0; i < 16; ++i) {\n",
        "        // displaying the result\n",
        "        printf(\"%d\", (n >> (16 - i - 1)) & 1);\n",
        "    }\n",
        "    printf(\"\\n\");\n",
        "}\n",
        "\n",
        "// declaring the main fucntion\n",
        "int main() {\n",
        "    // fucntion calling\n",
        "    putbits(1);\n",
        "    putbits(2);\n",
        "    putbits(3);\n",
        "    putbits(4);\n",
        "    putbits(5);\n",
        "    return 0;\n",
        "}"
      ],
      "execution_count": null,
      "outputs": []
    }
  ]
}