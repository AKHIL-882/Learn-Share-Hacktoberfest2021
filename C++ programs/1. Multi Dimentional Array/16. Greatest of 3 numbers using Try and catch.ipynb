{
  "nbformat": 4,
  "nbformat_minor": 0,
  "metadata": {
    "colab": {
      "name": "Untitled68.ipynb",
      "provenance": [],
      "collapsed_sections": []
    },
    "kernelspec": {
      "display_name": "Python 3",
      "name": "python3"
    },
    "language_info": {
      "name": "python"
    }
  },
  "cells": [
    {
      "cell_type": "markdown",
      "metadata": {
        "id": "WY2BLzhX-8UX"
      },
      "source": [
        "##**C++ program to find the greatest of three numbers using try and catch**"
      ]
    },
    {
      "cell_type": "code",
      "metadata": {
        "id": "fYQo50Bc-7nF"
      },
      "source": [
        "// importing the libraries\n",
        "#include <iostream>\n",
        "using namespace std;\n",
        "// defining the main function\n",
        "int main() {\n",
        "    // exception to throw error\n",
        "    cin.exceptions(ios::failbit); \n",
        "    // local variable to store the values\n",
        "    int val1;\n",
        "    int val2;\n",
        "    int val3;\n",
        "    // maximum variables to store the max values\n",
        "    int max1,max2,max3;\n",
        "    // initially defining all the values to zero\n",
        "    val1 = 0;\n",
        "    val2 = 0;\n",
        "    val3 = 0;\n",
        "    int valuesRead = 0;\n",
        "    max1 = 0;\n",
        "    max2 = 0;\n",
        "    max3 = 0;\n",
        "    // initializing the try block\n",
        "    try {\n",
        "        // getting the value 1 from the user\n",
        "        cin >> val1;\n",
        "        ++valuesRead;\n",
        "        max1 = val1;\n",
        "        // getting the value 2 from the user\n",
        "        cin >> val2;\n",
        "        ++valuesRead;\n",
        "        max2 = val2 > max1 ? val2 : max1;\n",
        "        // getting the value 3 from the user\n",
        "        cin >> val3;\n",
        "        ++valuesRead;\n",
        "        max3 = val3 > max2 ? val3 : max2;\n",
        "        // displaying the result\n",
        "        cout<<max3;\n",
        "    } // initializing the catch block\n",
        "    catch (ios_base::failure e) {\n",
        "        // if no values are read\n",
        "        if (valuesRead == 0) {\n",
        "            cout << \"No max\" << endl;\n",
        "        } else {\n",
        "            // displaying the number of inputs and max value\n",
        "            cout << \"Inputs read: \" << valuesRead << \", and max: \" << max1 << endl; \n",
        "        }\n",
        "    }\n",
        "    return 0;\n",
        "}"
      ],
      "execution_count": null,
      "outputs": []
    },
    {
      "cell_type": "code",
      "metadata": {
        "id": "eo5u-xIk_FmL"
      },
      "source": [
        ""
      ],
      "execution_count": null,
      "outputs": []
    },
    {
      "cell_type": "code",
      "metadata": {
        "id": "auJ9zfzW-7gT"
      },
      "source": [
        ""
      ],
      "execution_count": null,
      "outputs": []
    }
  ]
}