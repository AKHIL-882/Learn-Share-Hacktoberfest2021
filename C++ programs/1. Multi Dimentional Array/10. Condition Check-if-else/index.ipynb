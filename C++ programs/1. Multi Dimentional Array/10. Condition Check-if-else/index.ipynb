{
  "nbformat": 4,
  "nbformat_minor": 0,
  "metadata": {
    "colab": {
      "name": "Untitled68.ipynb",
      "provenance": [],
      "collapsed_sections": []
    },
    "kernelspec": {
      "name": "python3",
      "display_name": "Python 3"
    },
    "language_info": {
      "name": "python"
    }
  },
  "cells": [
    {
      "cell_type": "code",
      "metadata": {
        "id": "kNOdgqWmKvHY"
      },
      "source": [
        "// importing the libraries\n",
        "#include <iostream>\n",
        "using namespace std;\n",
        "// initilizing the main function\n",
        "int main(){\n",
        "    // local variables\n",
        "    int aValue, bValue, i, equationResult;\n",
        "    cout << \"Please give two numbers ::\\n\";\n",
        "    // getting a value from user\n",
        "    cin >> aValue;\n",
        "    // getting bvalue from user\n",
        "    cin >> bValue;\n",
        "    // checking whether the first number is between the given range\n",
        "    // or not\n",
        "    if(aValue>=3 && aValue<=21){\n",
        "        // checking whether the first number is between the given range\n",
        "        // or not\n",
        "        if(bValue>=3 && bValue<=21){\n",
        "            // loop to iterate the x vlaues\n",
        "             for(i=1; i<=10; i++){\n",
        "                 // calulating the values by using the equation\n",
        "                 int equationResult = (bValue*i) + (2*aValue);\n",
        "                 // printing the result\n",
        "                 cout<<\"\\n\"<<equationResult;\n",
        "             }\n",
        "        }else{\n",
        "            // checking b value is less then 3\n",
        "            if(bValue<3) \n",
        "                cout<<\"Incorrect Input!\\nNUmber b is smaller than 3\";\n",
        "            else\n",
        "                // if b value is greater then 21\n",
        "                cout<<\"Incorrect Input!\\nNUmber b is greater than 21\";\n",
        "        }\n",
        "    }else{\n",
        "         // checking a value is less then 3\n",
        "        if(aValue<3) \n",
        "                cout<<\"Incorrect Input!\\nNUmber a is smaller than 3\";\n",
        "            else\n",
        "                // if a value is greater then 21\n",
        "                cout<<\"Incorrect Input!\\nNUmber a is greater than 21\";\n",
        "    }\n",
        "\n",
        "}"
      ],
      "execution_count": null,
      "outputs": []
    }
  ]
}