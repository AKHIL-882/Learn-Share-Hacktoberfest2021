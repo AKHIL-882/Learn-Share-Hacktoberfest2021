{
  "nbformat": 4,
  "nbformat_minor": 0,
  "metadata": {
    "colab": {
      "name": "Guess Number.ipynb",
      "provenance": [],
      "collapsed_sections": []
    },
    "kernelspec": {
      "name": "python3",
      "display_name": "Python 3"
    },
    "language_info": {
      "name": "python"
    },
    "accelerator": "GPU"
  },
  "cells": [
    {
      "cell_type": "markdown",
      "metadata": {
        "id": "G91wrH4rAiff"
      },
      "source": [
        "![q13.png](data:image/png;base64,iVBORw0KGgoAAAANSUhEUgAAAmMAAADmCAYAAACZKoI/AAApJklEQVR4Xu3d0ZHczJHtcbogFy5dkA98kAF6v290QR7QA3lAC9YCOiAHGLEGyAfeOLybO6kzJwF0N2YKzfn/IhCcQQNVWYmqQs6Q+vTpFwAAAJb55CcAAADwfijGAAAAFqIYAwAAWIhiDAAAYCGKMQAAgIUoxgAAABaiGAMAAFiIYgwAAGAhijEAAICFKMYAAAAWunQx9unTp19fv37109ihnH3+/NlPAzf5/v377zX48+dP/+g/aK59+fLFT4907S3X/+mO5vnHjx+/r9P1t6j79OfZvn379rttbLv32eHjeGgV1SaSFrk26FQQaMM5Oikpxu5zpWJML109xzp4CT+Po0UCxdhjjub53hc6xdh69z47fBwPraIqrLQgu5p4aYM5uvEkLPxj7inGbimSj6j2/KWrZ+jncE2PrNUtFGP/KeU57av3OqMYSzHKR92Tp3wA93p4FaWfirVAdT5tKPcUCuWjLvxb3ZPjs4sxzYlbYlDMe78FpZB7X2/1wqEY+08pz2nvvBfF2PmmfAD3engVpcWojVYv1rTp6gXdN5ma1P23abVp6Np6QVdx149eOFQ7dXi/yT339Dh1eAHhbepwFbv683b05xSP7qkCp7fvm3Yqxjzu/nk9w3543/751iZ0z6/kzy7GdJ2u9+fR464CtOem59Lz4jkVb9/bqR9M+nUVQ/Xfj67i8usqr31N+Bzo0otjeka9rX5f6r+kde556fHV9X7NEb4PdN6ex1TPwtfCXpFS+1mfDzUXvM9u+gHH89Xz7O31vlJ7Nbd8rnZejOlrX2up7dL3qTr6/K7Y++ee08ph7W99Lfm9Hn/xa7b2INE1Gs+t+6x4Pnu+9vKR1vuUX2/Lx+Tz3fPqceJ5Pfz0fKFLTbqaKFvX9knrejEm3t7Wed2bFlmpRdqpja2XWnqBqY0aT8XRx1eLvi+yGm+1018ONd5avD0eX+D93h6TF2N9sy+KO22Ivlmk830DTqo/3zi2vEUxphj69fUsSn8JeKzpuVWbxefzVq68kKtrO39J93lRcfTNt/o5km993udS5bLnvPqrvtLaTM/e407xaPx1T+Wx9723XsWvUT/VxpH1nJ6Fz4kkxVt56W15fGk+yJQv3yN8L0rt1cvai4Uel8/TNOa0h3YpRjma05RD8djE70/jTvPQ6fN+39F9Vl/3OFP/t+RDUhvpOfV54XH5uvIYdN7zi+cxr74b9KKpb+g1AWvypAXvE6zr7Uq6X3ySi0/UI/zl5HwTdb54pvP+vfhYxfubxuTXqR1/SXh/vgmmzULUVhpzGkM5slE69ePjd2o3xZJ4TsTHmDbidN10Xvf5putz6JZceHv+jMRjKGkcnedDX6tdf4n279N8S/1722kud369TGu7pFj2TM+iSzl2KV7PlXj7KVfi7aWxpeeZ2ku59jFN3++106UYxccs3p9ovJ6vOu/9+jjv2YMkfZ7G6c8j8T10Lx9+3seUctT5XlB6/FMMeE7z7neDvjH5C7NPnrTwtiaUL5y08GuST0dqt1R7/dhalB5P54ut8/t03T2bxJQrfzH49z7GfuwVY+rf76nDx1CmDckpRm+zjop/q38dE89d6XFPY97aKPv9fl1qL83ZUvf74Z/3OFIf0uNKau6Uyq/+rOd09IXjfXmu/XPn18vUV9nKY9lbz6mNKZ9ditfXmHj7U9veXhp7ymFqL+0bfl2aR7qvYqjr03wvKUbxMYv3Lz7msrUH1P1be4DnqEufp3yl2HSN99XvuyUf4jmZ7i+p/xRH5c/nIp7P61lzhz6xNKn7AuibVp+MZWtS+sJJE90n+VE12Xu/aVF2Hk+3FYffp+vu2SSmXPmLwb9P/bkpfo/hiPST9x7F7ON3GsPRWKa4ey6mMaeXV+n3p2LK85zmrNSz7H37tSmOKebUt6v7dFSu9afuq3b73Jrmm/flufbPnV8vU1/Fc+OOrOfUxpTPztsRX2Pi7U9te3tp7CmHqb20b/h1aR5VrLpWX/tYXIpRfMzi/YuPuaT43XTvnpTD1J+3r699TH7fLfkQz8l0f0nza4va0uFjw/N4PWvuVBPNF32dqz/d1qScFoBLi26PFpxPXF+Ubu/zKQ4/79+Lj1W8vylXfp0v5NR20jeL4m0dpba2cuXUz16MytnRNj0n4huifz9dN50/GnOas+kF6Neml6jHUNKccjXnddS1akfn9afHM80378tzvTff/HqZ+ip7n9fY/Fzvx/MrUz47b0fSukjte67E20tjU9t+X4o15drnjX9fKrbUl6s2PP9pzClOH/Pe+S7l+oiU+5QvjyHlw++7JR/iOZmeSZna2XLPPbiO056cJrMmQpoMdT4turQRFV8Ada1PYF3j5/V16q/UPaUm8tY91b9vMtVvtdnHUnnp9P3eYhffJKr/3keKyTevGlu/Rvf7BqdrPIbaNPy87k3PrNR9nk/F4OdE7XsfTuNI9yaV9369PwvfIDu/VjTmlFc/envTBulzufLVr00b9hSzzvmccrqnxlBtVnsar98/rU3vy+dpjbnH3eeLXy9TX13FWXRPzZkj6zk9iymfXYrX15ik9nVfvy7NyzR23eN9plh1nc71tePzNM0jqZx530m14XlKY05xphxKjd3nXm/z3j0otXtkn/VnVnnq992SD0k5Sc+p4ujrstP3/X3jOe7tefu4ttez5k61qHzySG1AvjAkbURlWji6XkffXPzFeGQS1kZWcauvFH9X8dbh8R2JI+ViGmuPp/ruL24dviGkF4XHrcP1a3ostTH0wzf2id+3l9+zVO78eXRpg+z6yyrFrvs8z/7imzZn8fYr/8XbkilmnfM55fpz7God+Bqc1qb35fNUPO971099ud7mNA4daT2nZzHls0vxpjWW2hfPg8eVxt7XeF2bYq19o88ljyvNo37exzbpfVQMacwpzpTD4vuZ50Lu2YN0ja+JI/us9H7qefl9R/MhKSfS52wat4/Z7/fPO4qx5/J61uCy0qaNLG2wZ9Oz8M2+zvumCbyFVFwcNRUIAN4fxdgToRg77j2KMb0IvY/6yZhnhPfwSDFWv9kBsB4r8YlQjB33HsWY+F8T8HLDe3qkGNNcvfdeAOfizQEAALAQxRgAAMBCFGMAAAALUYwBAAAsRDEGAACwEMUYAADAQhRjAAAAC1GMAQAALEQxBgAAsBDFGAAAwEIUYwAAAAtRjAEAACxEMQYAALAQxRgAAMBCFGMAAAALUYwBAAAsRDEGAACwEMUYAADAQhRjAAAAC1GMAQAALEQx9uT++te//vrnP//56uu//OUvu1+f7R//+Mevv//976++1p97X5/tSrHgBfM1+6//+q/fY/WvNfa9r/9UzJXsSrHgPBRjT44NK7tSLHjBfM0oxl5jrmRXigXnoRgDAABYiGLsyfWfGI94r58ej3jLn9iuFAteMF+z/tuwIz7ab8aO+Chz5Uqx4DwUY0+ODSu7Uix4wXzNKMZeY65kV4oF56EYAwAAWIhi7Mnx02N2pVjwgvma8Zux15gr2ZViwXkoxp4cG1Z2pVjwgvmaUYy9xlzJrhQLzkMxBgAAsBDF2JPjp8fsSrHgBfM14zdjrzFXsivFgvNQjD05NqzsSrHgBfM1oxh7jbmSXSkWnIdiDAAAYCGKsSfXf3rsX/efEqevz9Z/Yutf95/Mpq/PdqVY8IL5mvF/h/QacyW7Uiw4D8XYk2PDyq4UC14wXzOKsdeYK9mVYsF5KMYAAAAWohgDAABYiGIMAABgIYoxAACAhSjGAAAAFqIYAwAAWIhiDAAAYCGKMQAAgIUoxv7H169ff33+/NlPXx7/YcTsSrGs9OPHj1+fPn16dWgeaM7/+9//9lveFPM1u9p/9FXzRmPt8+XLly+/fv786Ze+GeZKdqVYcJ6Hi7Fv37692uh1aOE+k/cuxrSpVa4e2eDYsLIrxbKaxq959q9//et/z33//v33ufceM/M1u1IxVnNDOaliXePWuffEXMmuFAvO8/DqqmLs2b13Maa8qWBV7vQ18FY0v9KLW/Pv2X5owtuq36TqJe/nVRABeBsPV1EUY/dRX/oJ9NF++0+MR7zXT49HvOVPbFeKZTUVXD42/cZD61bz7z0xX7P+27Aj3uo3Y9qLHtmPzsRcya4UC87zcBW1V4zVr7z1p5/TT1tFG0D9tZ1/JtVG/Tapv0j0Z53zn/TrJz3pffhLKBVF/u9t/PN79Zjqax/vUWxY2ZViWc2fuV78mjc6Vv6bsSM89jNdaY5coRhTDLXPXgFzJbtSLDjPXEUdtFeMSRVLRV/3v5pTkdOLkdRmFUS1UfRCqQqr+ndYve1+XfWRrvNirArG/u+5VOidUZCpr1409jEUL077wV9r4ij9OzGfP7fOIb9368Dzqn36kQLd58PWAeDFwyti+gf8/o/SdU6L3YuepAqo3oa+9xeI2vEixv8dzPSbJ4/Dv9fX3t/U1q3URv/p04vVW/DTY3alWFbSs9bcqhes/lRuNA/6P+h/L8zX7Aq/GdOed6V/F8Zcya4UC85zXwXQpN9iJfWbJi+yihdzXvScXYx53F6MeSxTXLdKv3GrGO/56wE2rOxKsaykMaUXrOabr533wHzNrlCMaU681fjuwVzJrhQLzrNfRe3wombSf4PWi476K8P+YkgFlL5/72LM+ztD/zdvfvS4+WtKnCGtEdE8OrpB+/zbOvC8zthbfD5sHQBePLwivKhJquCq//Vgvz79lWQqoPS9bxTpRXO0GPPiy79PbT+q58FVHtNvDbfw02N2pVhWmeZb/Xb2rebBFuZrdoXfjKm9ND49M/5K+zpz5Uqx4DzbVdQBR4oxL5B0fRU66R/T109OZxZjvb0619vzYqzG5b/F69fcaitX9/5VJRtWdqVYVqmiq16k+vdiOqc5sOJ/SSnM1+wKxZjy0fdJ7Xca77RnvTXmSnalWHCeh1dZ/+vHflTRkn7jUy+JKjz6vyer831TEH3/SDHWi7LUlhdj4nHpeESKt9PnPXbgXprv6a+69YLT3F9RiOHa+v+4w+cLgLf1WHXxBKa/pvxT9J8e+9f9p8Tp67P1n9j61/0ns+nrs10pFrxgvmZX+r9DugrmSnalWHAeirEnx4aVXSkWvGC+ZhRjrzFXsivFgvNQjAEAACz0xxdjAAAAV0YxBgAAsBDFGAAAwEIUYwAAAAtRjAEAACxEMQYAALAQxdiT47/Fk10pFrxgvmb8d8ZeY65kV4oF56EYe3JsWNmVYsEL5mtGMfYacyW7Uiw4D8UYAADAQhRjT67/xHjEe/30eMRb/sR2pVjwgvma9d+GHfHRfjN2xEeZK1eKBeehGHtybFjZlWLBC+ZrRjH2GnMlu1IsOA/FGAAAwEIUY0+Onx6zK8WCF8zXjN+MvcZcya4UC85DMfbk2LCyK8WCF8zXjGLsNeZKdqVYcB6KMQAAgIUoxp4cPz1mV4oFL5ivGb8Ze425kl0pFpyHYuzJsWFlV4oFL5ivGcXYa8yV7Eqx4DwUYwAAAAtRjD25/tNj/7r/lDh9fbb+E1v/uv9kNn19tivFghfM14z/O6TXmCvZlWLBeSjGnhwbVnalWPCC+ZpRjL3GXMmuFAvOQzEGAACwEMUYAADAQhRjAAAAC1GMAQAALEQxBgAAsBDFGAAAwEIUYwAAAAtRjAEAACxEMQYAALAQxRgAAMBCFGMAAAALUYwBAAAsRDEGAACwEMUYAADAQhRjAAAAC1GMAQAALEQxBgAAsBDFGAAAwEIUYwAAAAtRjAEAACxEMYZ39f3791+fPn369fPnT//oj/Ljx4/f49Sfz0Lxfv361U/jIM1p5fDbt2/+0R/nGed38vnz519fvnzx0++icqhjVQy3UpyrY613SO1Xad1dIc5bPVSMKRHpxVqTTEkDOoqx6zqzGNNL7q33gOpja9Otjdo367eQXgq3qj3Vj6u5Z373sW058lzPclYx1udZHXtzX32ftd7eyxWKHF9jad1dIc5bba+KHZUEn1BKgiYa4I4UY5pPzz5/7nlZnWll/9X3W2+ImiP14p7GqQ26rrm1SDoyV8+W5n6N80rumV81tq1nUe3eWyRttf1W1F8qvjQGP1fq3Tl9flX3rOkz19HReXdPnKs9VIyJ/3aM34phy5GFmV5Iz+bopvFWVvav56fjyLN+RP1mYes3DPVyvucl/dbxJ2nur4hjzz3zqz8rH2Opl+i9L9N7nvMj0m9ljqAYu8/ReXdPnKs9XIyJklOb4ZSE2hDr8MU4TU5vrx5sPZStB1M/mXjfXX+49XmPof9qXUcaW8XkRy3Q+um8X+fFax2elz6R+3U15n7Oc+c0FsXv8aZFouv22vbcpA2pt9NzkPqU3l4d/fn6s/R8JRV//VTeX9yei/R8j4zTrzmyaSgetdXvrf77ONMYt+L2WHTUmLfWTy9qqv+U++nZlX6fvk75OkPFO8VVY5UUh8+lPi98/vf7t3LYr6vn0OOqc5NUqOytmYnvGd5vxe/XeZ7E59SR+e1qbHWv7ykVhz73fb9/nsbj60FH5bG3W5/VGHs/9Xkf/xRr2Xueic+73n7tCTX/eg56/HX4nHhkT3Ge74rLn4uP5+g6Ep9Xae4Vv1ZHWneS4vQ54p+vdtssGtTDmBZo2pTqIZV68D7pPak9oXvSy1dt9YnYJ7hPbI9RdG+6v8acxlH58QWge/xcfyFKGm+flNVv9eFj6Oq+nk/Ph3gMaUPy51LjTgut9LHsxekx1Xm/Nz0jV3363Kqcdeq3j0t9ps25z3HPfZ9Tvha6mp/Vft/8egz63ueEbyS9HUlxSppPxZ97nxtpXifVfknz6yw9Xh//3uf6uo81ja/G4nN1K4feT59P0zPp0tz3OXlEjafzNZv2vhrbGfPb9bF5LHufHxmPeP6lryuP19vwsfqacPfO7zTfxPeEUs8lvVf6mPz+o3tK4tfofm/nkXV0ZG910zWes+m5dvesq7f0eje5U3rgkh5OOu/fF09q2iwmaSH5w6zvvV+/bjqvh+yLUfH2fn2Bb9F9abz9Xo9Bpvx1aaP39ut7159D9e/j8fZ1zbSp+L2dtyPT+KbznT73eVDn/b4j8fl9R+ZZku7z+S4pH87n3NT/1vrxeCq3eoYprsTj2OrvUT1ez5HP0TQXne7v10xzYWtM3k/fXzy/iT7X9X6kvm7le9U0R3wMKe7p3i39GaXcVp7kyHzz8YjHLn0eu9SP2tS59AJ3de2tpn1rai89g3Tev5c0Rl8vLj0fSW25o+soSTnppnnnz9fjTO3eEtd72J5pN6iJ60makic9gdPk9KTeksA0Mb2fKb6pn737/XPZWtTVTz/6IklxeJ+S+nVpAXpbFWs66jmkmD12b7ek8bgjcXY6nzbakj6vfE1Hj0/j9s/35u1WvCXNT5/vkvKRnlO/b+p/K/8pnt7PnikXOuftnqHHW+OtvnXeN2OfA6nw6XFOuZrOy1Y//gyT9KyrP293T+XED//c50jP6/RMp3u3+Nh6vmuMJa2DvfFIytM0BtnrZ298Go/ff8QUU1qDksYlHn+6368RfxZu+nxqy5/JkXUkW3trMs07v6/Hectev9L+DnvQlPApedITOE1Of/hTP0mamN7PFN/Uz3R/P3wyTcVYne99+yJIcaSYPa7E2xZva4q1SzE5b7ccufdInF3KeZc+P5IvURweS29vamcr3pLmp8938XzU5tdz6PdN/W/lP8XTN1pvy/XCLR1n83jrxZieSX9mUi+BztubcjWdF+9H+gsn3dP5sy5qI52fVIw9B762pznS85ByKdO9W3xsNbfEc+/z+ch4JOV/GoN4P1J9pbZcH8Mtppg8D2WKxeNP9/s14s/CTZ97W4+sI13nfUzjLNO88/t6nFOur+b2WTSYEj4lIp33hIo//KmfxCeF+MP076frpvNq3/twadMQ3be3SNJ4PQZJ+XTetnhbqT/n9yRTPJWLrfZ1jcc5tTed7/S5z6ut811q2+/z76XyuJWjND99vos/N32+d1/lxfvfer4eT3/OatufifP7S7XjeXyU91dj83yJPyN97s/M26u4PVdbOfR++rVq35+tS7HLkfx3aQ35PjStY8+Dj0mOzG/nY6s5qvOeT5/PR8Yj6blu7RHej9R4j+xVlYfU9pYpJs/9ref9e0lj9GfhUm7F53DKt8cwraM0/jTXumnO+n0+Zv/8il5n+05bG5SS4g9WD8wng284dV9P6lY/Tm3pWp+svY/p4YpfKx5PTVo/+iSbJrYv9hpb7zONN8U8Le4uLcDUlscgure3XbntagMr/txrLD4e53kp3p6kZ+R0T1qI9RLoY6/Co6jt/n3F0Nvzl0nl1Nt2vmmJbyLiz636K5Wvfl/NBx93mk/F4+nfT+2VNI86feZj7XxMR3i8Unn3OP2c7zXVf3qJ+JrayqH307+f2uv8WUv119ud1kipe+p59DlZpmfmeb13frs0trTH1/m072+NR3y9ytbe6P14jKk9V/nx9nWfnytTTJ77Us+759ufi6T7fYzi43QVX28rPatH1pHnttr3tdtNc9bv8zFXXP0+fd2vSTl+T7ftfhu2NiipZNThk6P0a5Qc3dev3eunq4nZ+/YJOD3cUhOkDp/oimevzXrISW9f7eja3l4ar7cv0+Lu0gJMbYmu6+NOC2QvN9Lb0fXV397z6/f1a4/Oo26KX+rZ1OH5qbzWUc/H2/PnWPd5XrtHNk7Pq68T6WOreNN8Kj2eynO3tVmlGLvUXrf3eZLyV+34+HoO+rk6Kn9TezpqbW3lsPej9jwnU3zF57f3XepZTO2It1Vxl62173m4Z367NEcqJh/ftA62xiM1Jh11/9be2Pup9vqYqj2fO67u9fgmU0wp9yX14dL9Uy79Wbiey4q11knXr7llHR3dW7tpztb9JY15b6/f2t/ew+un+QdJE/NsPgn6eV9oALL3WKt/kvSyAfC8KMYepD58UzzyUyvwJ/k///e/Tzuw7ehvlwE8D4qxE/RffdYB4Bj9MMNvkY/TnpZ+Gw/geVE1AAAALEQxBuBh/leNjxwA8NFQjAEAACxEMQYAALAQxRgAAMBCFGMAAAALUYwBAAAsRDEGAACwEMUYAADAQhRjAAAAC1GMAQAALEQxBgAAsBDFGAAAwEIUYwAAAAtRjAEAACxEMQYAALAQxRgAAMBCFGMAAAALUYwBAAAsRDEGAACwEMUYAADAQhRjAAAAC1GMAQAALPQuxdiXL19+H+9NfX7+/NlPL/Pp06f/Pe7lufz27dvd7ek+3f+n+/Hjx++xfv/+3T+CeZY58SxxAsAR973F/4cKnV5g+PH169ff13kB8V6uVIwpF2fE4rmkGNtHMXbcs8yJq8fpe+NbxKr57HsugOd02uqtjeHnz5/+0asC4iPS5lzF6SM8l0eKsanvt3pJvLUjY8YLrcmjxejKOXH1OI/OO621HlvtjWfGW7nqqgAE8HxOW7kUY9umguhWnssjL4ip77NfEO/lyJjx4upFTrl6nI/MO92X1uCZKr60BwO4tvt2luBIMea/Vk90Xb9mb2Ouv4KqQ98X/6tB/6sDHb6h+zW9vYn66ff0Ysnj07G1KXtbHt8txVjqu19b7fc+U9FcL8nURlLXq/+ezxpLf8YpF1s58Oejo+aIrtPnfZ4plukl720578fndo9z76+gNeb6jYnfs7Uu6hn6PEwFdm+jctb7qyM941L37o3t1jkhPh97u/fG2W3Nm+LP3PPqcRS/T4fPpy263p9XV2vCz6XcTyjGgOe1v4MetFeM+WakTcY3W3/B7P1bn/SS7ZuXF2Nd2rj0fd/Aa0y+YXdpE1Wf3q+PLamXdUkv4luKsTL17S+VyudeDPXSm/QXdd3XC45qPz3fIzmYxlznPffTPOl51GeVo3S9zxePQdeml39Ja6Dy0eP1uNL4xZ+pf682KtY0nok/IzkS096c0LX+XDzmW+PsMfq6SHNZ/W3NI9/DdG2Pz68/qp592hu7Pj88lj31TNI6B3B9t+8sg63NwzdK8Y2t7nfp3rK3eU/FWNqo9XW61l8YXXopTee32tni4/N8eB6TqW/PgXj7+trv3cv79Hnqb4qt87amMXvBVDyerbkqiifNuR7/FMPE8yppfnq7aS6J582/73z8W9Iz8nzdMycSz/MtbfQ4K0f+PFN+O7/Px+n82WypAqyOqc2u+q+4/Dm4uq4OfyYAnsexneWArY0svYj8+tro0uH3dtqApg1v2ozVnp/v7fgxbXI+hpJeKlsvy843cR19U/ZcHnlBTH172+I509ceTx3TSzONX1J/Kba9HExjns57PNN1JfWf4qhzW/Oz+HMTz7V4bEeLsZqLfZzFx7/Fxygewz1zQnqMdfTx3xtnaje1X/f54T80pfvEn81RlT9//knNvSPXurrX5wqA67t9ZxlMhYmkF5Fff+9GV2oj6ptoetlVv75hpWv3+BhKeqn4yzPRNR6D2lldjKV7t6TxS+rP2z+Sg2nM03mPZ7queI63VNseo0tteq7FY/NCqHjeSt2vo+alj39LGofHMPW9peLq4/Dx3xvntA67arvH7ePqKof9en82t1A7ezGK8lF93yqNEcBzuH3FD7Y2xPQi8uv9+3v45uqbvUyb1T0brfe3df7IC0z3+ItI5x4txnR96tvbFs+Z93fE9FJN/XlejtxXc8VNufB49uaa5+CIvXtSHtM9PgaPvXjenOcstZH4feL5SmPZo1j9njT+e+JM683VNf2Z793nz2Kad0dUW9Ock96f/tx6vpN77wOw1n07S+Abdpc273S9vvfNWRvLtDnrfN94fMPzzV7fT5tpvfQ8Tn0/bdai9j3m1M7ey1N0Tb9PX6utM4oxj1G8bfGc1XPy67b6nAqI1I7n5UgOKiZ/LlMuUjz+jPpcqpe0Py/F1gsSL7b9mXf+3MRzLWkM3ra+7/Eppt5Oxe/j9fEkus7znXLl14jH3fnarDZ8/LfE2fuvnHT6vK6pOeDj0tF/eOs583UzzTune/o1097S+Rzd60ufe3u1v033ALiuefe8USquSnoRTdfXplqHb/iuXta+sYq/7Pp1dXhc/rkXFInHkF4mXnQktSHXobHrvp4Dz2V6ebverufD8+s5k3q598OfW+cvlpL687wcyYH0nNczn3KxFU8/Oo+j95M+95w5f26Scp3G4H3Vi7jnre6rw/NV603H1jyscfb8etxy65yQ3mY9Ux//LXH6GPfWYW9bRyp4fEwuzTuXcuOxOOXB81x9TXy8OvaeAYBrmlc6AAAA3hzFGAAAwEIUYwAAAAtRjAEAACxEMQYAALAQxRgAAMBCFGMAAAALUYwBAAAsRDEGAACwEMUYAADAQhRjAAAAC1GMAQAALEQxBgAAsBDFGAAAwEIUYwAAAAtRjAEAACxEMQYAALAQxRgAAMBCFGMAAAALUYwBAAAsRDEGALisv/3tb34K+ONQjAEALotiDB8BxRgA4LIoxvARUIwBAC6LYgwfAcUYAOCyKMbwEVCM4Sl9+vTp17dv3/w0mp8/f/7O0/fv3/2jP8Lnz59/ff361U/v0rxRXpSfj+zHjx+/86A/71F5rLVY7fX5dsY6pRjDR/BQMaaNMG1qaVECZzpjk//TUYxlFGP/3yPFWJpbad8/Y51SjOEjeKgYqwXpG+KXL19+b5RAd+/LMzljk39EvdCvIuUjvTD/JD6fNM63LLIeKV6uKI1He7eOPUdzneblrSjG8BE8/Dbx346ln44A8ZfnI87Y5B9BMbaez6ejBcK9UvHyzNJ4KMaANU55m2jB1aY4Leb+7wt0+G/OpheHt1ebQG0kvpl06kPXe99d35Dq8x5DFZt1pLFVTH7UJqQ/K5b6zIvXOjwvfdPr19WY+znPndNYFL/HKx6Hb7I655uq2vN41X61Ubnytnu/E792Lx4fk1/vn+/1L35Ptakxe1s992m8Ho/aUPyVrz6v/H7Pcecx9uv7murPJRXEt/Qp1Xa/rz8PX3Pep89nX3PefyocejHWx5fi6fqakj6W/mx7zL4P+Oc+Ho81qfXYc9V5ez6HekyeL53z8Xtee05T/KlPSbnWdX2+lRTH3txwFGP4CPbfSAfU4kobptSm0Rd2LeiSFrJMxVi/d1Iba1/saittSB6feIyie9P9NeY0jsqPb5i1+Xf9BSNpvH0Trn6rDx9DV/f1fPaXT/EciT73TdU3d/9e1/c8+NgmPg5vV3o86Rn0Mfb5WdKc7I626ep5peff+6+8e069UJD0PFxqq79gq+8aV4/vnj5T22V6Xv3Ze7xb80j8eYjPpzSOxK9LY0l5SjH08308aR64tB5law+pmH3+6drev8cjntc0Ht9vJ55DSXF7HB6D6JqtfYFiDB/B67fJnWoz84WcFmg6798X3xxqE/ANMfHNWnwDSptuum46r43GNxfF2/v1jXSL7kvj7fd6DDLlr0sboW/qkvrU93ubu3/v0vM4ouLpejwpH12Kfeu87LWZ8ibTGP28vve1Uuc9pr1YJI1lmhMpFr93r89q2++r836f5yvdW9I8SvH4ONK8Tfy6o3lKMYjvUXvni9pOc8j3gNJz5vl0Kb+e1zSevZiL51BSHnscR+eGoxjDRzCvgBvVgvKFlhZ8SQvVN0TfHNImMPHNVLyfKb6pn737/XPZ2myqn370DTPF4X1K6tf5ZiwpttSnvt/b3CsGHZ53Sc8j6e30YysezZG6rtvKy148U5uS8iYeV/F5PPXtY+6Hz9Eu9TuN3WPxfo70ObVdc3M6SuUv9eHzStKc9xymeZv4ddNYPE8pBvE4ShpHN33e550f/RnXuVQ8+bXi/aXx+JgnnkNJeexxHJ0bjmIMH8G8Am6UFqekBV/6Qk0LWXxzmPpJ0ibp/UzxTf1M9/fDN8HpxZ0KWN8wUxwpZo8r8bYlxZb6TONK7UnPSY8nPQ9X9/a+jsYj6kOf1ZzZysuReMTblJQ3meLyeTz1Pd2/J903jd1jSffumdpOc3OLclBzpZ/zeZXa9RymeZL4ddNYPE8pBvE4ShpHN33u/W6p2P0Z+vfi/aXxHO3bcygpjz2O1N8RFGP4CF6/Te6UFqekBTqdTxuIbw5TP0naJH1D8O+n66bzat/7cNOLW/f5xucbZhqvxyApn87blhRb6jPlMrXX+bPT196Gq77TuR5PmivFr5+unc4n3maKU1Ke0nn/fu/8Ht3nY5nmhD+Xe/qc2p7Ob/F70pxMc97jrmv29gZ/lt5/8TzVdb4n+HV758u0fqbzW/wez434NSmnumYr5uI5lJTHvsbS50dQjOEjeP02uVNanEWL2zdXbQq+4ei6fq7u65vDVj9ObelafwnubUjFrxWPp14cfvQNJ71c+nl/wfc+03hTzEc2Ot+MJcWW+tS9/br63l8A/R593nPvzzepsdU4alwej76vTV5/9kJkirXfn+Zkt9dm5cjnTeXTX3Def3pZSt3fn6Pu28ubPveX6DQnvEi4p8+pbanc9vHquhqvcpPWdOXM50B973n1HPp9E5/f01g8T3WdF73VXr8/zQOX1qPUOHx+9PWluDwXPVafr2m9pn3E75t4DiXl0fO1NzfE1wvFGD6C/VV3UFqcXS2wOvzFUfo1WsS6L23cUz9dbda9b9/80obU1eZRh2+QimevzVTwlN6+2tG1vb00Xm9f0kbo0uafYkt9iu7tefBY+0tThz/jirHGOqmY6kjx6Pu+yffY/FrxNrf6L3tt9mfXn0XF2w9XczM5cr/rua+8T3PCiwy5tc+p7bK33v1zb8efV/XnBYjnsLfrbRafT9NYUp56XH3++dzv7U/Seix9rdSR1nsdqZ2j69X3vt7uxHMoKY/63otXf/aeY4oxfETzavsDpM36bGmzqfO+uQMAbkMxho+AYuxB6sN/squfnvd+MgYAbKMYw0dAMXaC/iv3vV/vAwCOoxjDR0DVAAC4LIoxfAQUYwCAy6IYw0dAMQYAALAQxRgAAMBCFGMAAAALUYwBAAAsRDEGAACwEMUYAADAQhRjAAAAC1GMAQAALEQxBgAAsBDFGAAAwEIUYwAAAAtRjAEAACxEMQYAALAQxRgAAMBCFGMAAAAL/T/LkC3jAhZ1KAAAAABJRU5ErkJggg==)"
      ]
    },
    {
      "cell_type": "code",
      "metadata": {
        "id": "Ffa54Kl2MFA4"
      },
      "source": [
        "// Required libraries\n",
        "#include <stdio.h>\n",
        "#include<bits/stdc++.h>\n",
        "using namespace std;\n",
        "// Declaring main function\n",
        "int main(){\n",
        "    // Opening the data.txt to take input for the matrix.\n",
        "    freopen(\"data.txt\",\"r\",stdin);\n",
        "    \n",
        "    // Declaring the 2D arrays\n",
        "    int A[3][3], B[3][3], C[3][3];\n",
        "    \n",
        "    // Taking values into the array A from data.txt\n",
        "    for(int i=0;i<3;i++){\n",
        "        for(int j=0;j<3;j++)\n",
        "            cin>>A[i][j];\n",
        "    }\n",
        "    \n",
        "     // Taking values into the array B from data.txt\n",
        "    for(int i=0;i<3;i++){\n",
        "        for(int j=0;j<3;j++)\n",
        "            cin>>B[i][j];\n",
        "    }\n",
        "    \n",
        "    // Performing multiplication between Array A and Array B\n",
        "    for(int i=0;i<3;i++){\n",
        "        for(int j=0;j<3;j++){\n",
        "            C[i][j]=0;\n",
        "            for(int k=0;k<3;k++){\n",
        "                // Result is stored in Array C\n",
        "                C[i][j]+=A[i][k]*B[k][j];\n",
        "            }\n",
        "        }\n",
        "            \n",
        "    }\n",
        "    \n",
        "    // Opening result.txt to write the result into file\n",
        "    ofstream result_in_file(\"result.txt\",ios::out | ios::app);\n",
        "    \n",
        "    // Checking whether the file is present or not\n",
        "    if(!result_in_file.is_open()){\n",
        "        cout<<\"\\n File Not found ! Please Check it once !!\";\n",
        "    }else{\n",
        "        result_in_file<<endl;\n",
        "        for(int i=0;i<3;i++){\n",
        "            for(int j=0;j<3;j++)\n",
        "                // writing the resultant matrix into result.txt file.\n",
        "                result_in_file<<C[i][j]<<\" \";\n",
        "                result_in_file<<endl;\n",
        "        }\n",
        "        // printing on console.\n",
        "        cout<<\"\\n Data read and outputed Successfully \";\n",
        "        \n",
        "    }\n",
        "    return 0;\n",
        "}"
      ],
      "execution_count": null,
      "outputs": []
    }
  ]
}