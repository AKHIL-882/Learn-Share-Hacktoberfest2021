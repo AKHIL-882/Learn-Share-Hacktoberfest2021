{
  "nbformat": 4,
  "nbformat_minor": 0,
  "metadata": {
    "colab": {
      "name": "IMDbmovies.ipynb",
      "provenance": [],
      "collapsed_sections": []
    },
    "kernelspec": {
      "name": "python3",
      "display_name": "Python 3"
    },
    "language_info": {
      "name": "python"
    },
    "accelerator": "GPU"
  },
  "cells": [
    {
      "cell_type": "markdown",
      "metadata": {
        "id": "sAUbkq_4J4hN"
      },
      "source": [
        "# C++ Program to grade the student\n"
      ]
    },
    {
      "cell_type": "code",
      "metadata": {
        "id": "quL2Rw4Ut1mm"
      },
      "source": [
        "#include \"iostream\"\n",
        "using namespace std;\n",
        "#include <stdio.h>\n",
        "\n",
        "int main() {\n",
        "        int numberofgrades = 20;\n",
        "        float grades[numberofgrades];\n",
        "        int i = 0;\n",
        "        for (i = 0; i < numberofgrades; i++) {\n",
        "                grades[i] = 0;\n",
        "        }\n",
        "        int endgrade = 0;\n",
        "        float temporary;\n",
        "        int indexcounter = 0;\n",
        "        while (endgrade == 0) {\n",
        "                printf(\"Please enter a grade: \");\n",
        "                cin >> temporary;\n",
        "                if(temporary > 90) {\n",
        "                        cout << \"You got an A\\n\";\n",
        "                }\n",
        "                else if (temporary > 80) {\n",
        "                        cout << \"You got an B\\n\";\n",
        "                }\n",
        "                else if (temporary > 70) {\n",
        "                        cout << \"You got an C\\n\";\n",
        "                }\n",
        "                else if (temporary > 60) {\n",
        "                        cout << \"You got an D\\n\";\n",
        "                }\n",
        "                else {\n",
        "                        cout << \"You got an F\\n\";\n",
        "                }\n",
        "                grades[indexcounter] = temporary;\n",
        "                indexcounter++;\n",
        "                \n",
        "                \n",
        "                cout << \"Type 1 if you are done entering grades, else type 0: \\n\";\n",
        "                cin >> endgrade;\n",
        "        }\n",
        "        float gradetotal = 0;\n",
        "        int numberofgradesrecorded = 0;\n",
        "        for (i = 0; i < numberofgrades; i++) {\n",
        "                if (grades[i] != 0) {\n",
        "                        gradetotal = gradetotal + grades[i];\n",
        "                        numberofgradesrecorded = numberofgradesrecorded + 1;\n",
        "                }\n",
        "        }\n",
        "        float finalgrade = gradetotal/numberofgradesrecorded;\n",
        "        \n",
        "        cout << \"Your final grade is: \\n\" << finalgrade;\n",
        "        return 0;\n",
        "}"
      ],
      "execution_count": null,
      "outputs": []
    }
  ]
}