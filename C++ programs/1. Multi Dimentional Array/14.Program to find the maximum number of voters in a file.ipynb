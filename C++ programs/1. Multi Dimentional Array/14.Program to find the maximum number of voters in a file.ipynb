{
  "nbformat": 4,
  "nbformat_minor": 0,
  "metadata": {
    "colab": {
      "name": "Untitled68.ipynb",
      "provenance": [],
      "collapsed_sections": []
    },
    "kernelspec": {
      "display_name": "Python 3",
      "name": "python3"
    },
    "language_info": {
      "name": "python"
    }
  },
  "cells": [
    {
      "cell_type": "markdown",
      "metadata": {
        "id": "z9wyHVFpoMkT"
      },
      "source": [
        "***C++ program to check for the voter in file***"
      ]
    },
    {
      "cell_type": "code",
      "metadata": {
        "id": "RjroClrQoGrv"
      },
      "source": [
        "// importing the libraries\n",
        "#include <array>\n",
        "#include <cassert>\n",
        "#include <cmath>\n",
        "#include <fstream>\n",
        "#include <iomanip>\n",
        "#include <iostream>\n",
        "#include <string>\n",
        "#include <vector>\n",
        "\n",
        "using namespace std;\n",
        "const string filename = \"votes.txt\";\n",
        "const int maxCandidates = 8;\n",
        "struct Candidate\n",
        "{\n",
        "    string name = \"\";\n",
        "    size_t votes = 0;\n",
        "    double percent = 0.0;\n",
        "};\n",
        "\n",
        "int main()\n",
        "{\n",
        "    ifstream inps(filename);\n",
        "    assert(inps);\n",
        "    array<Candidate, maxCandidates> candidates;\n",
        "    size_t nCandidates = 0;\n",
        "\n",
        "    while (inps.good() && nCandidates < maxCandidates){\n",
        "    string name;\n",
        "    inps >> name;\n",
        "    size_t votes;\n",
        "    inps >> votes;\n",
        "    candidates[nCandidates].name = name;\n",
        "    candidates[nCandidates].votes = votes;\n",
        "    nCandidates++;\n",
        "    }\n",
        "\n",
        "    if (nCandidates > 0){\n",
        "        size_t namefieldwidth = 12;\n",
        "        size_t maxvotes = 0;\n",
        "        size_t maxidx = 0;\n",
        "        size_t totalvotes = 0;\n",
        "\n",
        "        for (size_t idx = 0; idx < nCandidates; idx++){\n",
        "            totalvotes += candidates[idx].votes;\n",
        "                if (candidates[idx].votes > maxvotes){\n",
        "                    maxvotes = candidates[idx].votes;\n",
        "                    maxidx = idx;\n",
        "                }\n",
        "        }\n",
        "\n",
        "\n",
        "size_t namefieldwith = 16;\n",
        "size_t votesfieldwidth = 16;\n",
        "size_t percentfieldwidth = 16;\n",
        "\n",
        "if (totalvotes > 0){\n",
        "    for (size_t idx = 0; idx < nCandidates; idx++)\n",
        "        candidates[idx].percent = 100.0 * candidates[idx].votes / static_cast<double>(totalvotes);\n",
        "}\n",
        "cout << fixed << setprecision(2);\n",
        "cout << left << setw(namefieldwidth) << \"Candidate\" << ' ' << right << setw(votesfieldwidth) << \"Votes Received\" << ' ' << right << setw(percentfieldwidth) << setfill(' ') << \"% of Total Votes \" << endl << endl;\n",
        "\n",
        "for (size_t idx = 0; idx < nCandidates; ++idx)\n",
        "    cout << left << setw(namefieldwidth) << candidates[idx].name << ' ' << right << setw(votesfieldwidth) << candidates[idx].votes << ' ' << right << setw(percentfieldwidth) << setfill(' ') << candidates[idx].percent << endl;\n",
        "size_t totalvotesfieldwidth = namefieldwidth + votesfieldwidth + 1;\n",
        "cout << setw(totalvotesfieldwidth) << totalvotes << endl << endl;\n",
        "cout << \"The winners of the Election are: \" << endl;\n",
        "\n",
        "// Displaying multiple winners\n",
        "for (size_t idx = 0; idx < nCandidates; idx++){\n",
        "    //If the candidate has max votes\n",
        "    if (candidates[idx].votes == maxvotes){\n",
        "    cout << candidates[idx].name << endl;\n",
        "    }\n",
        "}\n",
        "\n",
        "}\n",
        "\n",
        "\n",
        "}"
      ],
      "execution_count": null,
      "outputs": []
    }
  ]
}